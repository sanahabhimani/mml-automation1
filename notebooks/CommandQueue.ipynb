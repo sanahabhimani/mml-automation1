{
 "cells": [
  {
   "cell_type": "code",
   "execution_count": 1,
   "id": "9828015d-f1a6-42ee-a5a6-d7eba9e0a0d4",
   "metadata": {},
   "outputs": [],
   "source": [
    "import automation1 as a1\n",
    "import time\n",
    "import numpy as np\n",
    "import matplotlib.pyplot as plt\n",
    "\n",
    "import os\n",
    "import serial\n",
    "import time\n",
    "\n",
    "import math"
   ]
  },
  {
   "cell_type": "markdown",
   "id": "099457d3-123b-413b-b664-c10ad9140aff",
   "metadata": {},
   "source": [
    "# Connect to Controller"
   ]
  },
  {
   "cell_type": "code",
   "execution_count": 2,
   "id": "c48907a8-1e32-474e-a136-483798dc7756",
   "metadata": {
    "collapsed": true,
    "jupyter": {
     "outputs_hidden": true
    },
    "scrolled": true
   },
   "outputs": [
    {
     "ename": "KeyboardInterrupt",
     "evalue": "",
     "output_type": "error",
     "traceback": [
      "\u001b[31m---------------------------------------------------------------------------\u001b[39m",
      "\u001b[31mKeyboardInterrupt\u001b[39m                         Traceback (most recent call last)",
      "\u001b[36mCell\u001b[39m\u001b[36m \u001b[39m\u001b[32mIn[2]\u001b[39m\u001b[32m, line 1\u001b[39m\n\u001b[32m----> \u001b[39m\u001b[32m1\u001b[39m controller = \u001b[43ma1\u001b[49m\u001b[43m.\u001b[49m\u001b[43mController\u001b[49m\u001b[43m.\u001b[49m\u001b[43mconnect\u001b[49m\u001b[43m(\u001b[49m\u001b[43m)\u001b[49m\n\u001b[32m      2\u001b[39m controller.start()\n\u001b[32m      3\u001b[39m \u001b[38;5;28mprint\u001b[39m(controller.is_running)\n",
      "\u001b[36mFile \u001b[39m\u001b[32m~\\AppData\\Local\\Packages\\PythonSoftwareFoundation.Python.3.12_qbz5n2kfra8p0\\LocalCache\\local-packages\\Python312\\site-packages\\automation1\\public\\controller.py:143\u001b[39m, in \u001b[36mController.connect\u001b[39m\u001b[34m(cls, host, username, password)\u001b[39m\n\u001b[32m    129\u001b[39m \u001b[38;5;129m@classmethod\u001b[39m\n\u001b[32m    130\u001b[39m \u001b[38;5;28;01mdef\u001b[39;00m\u001b[38;5;250m \u001b[39m\u001b[34mconnect\u001b[39m(\u001b[38;5;28mcls\u001b[39m, host: \u001b[38;5;28mstr\u001b[39m = \u001b[33m'\u001b[39m\u001b[33m::1\u001b[39m\u001b[33m'\u001b[39m, username: \u001b[38;5;28mstr\u001b[39m = \u001b[33m'\u001b[39m\u001b[33m'\u001b[39m, password: \u001b[38;5;28mstr\u001b[39m = \u001b[33m'\u001b[39m\u001b[33m'\u001b[39m) -> \u001b[33m'\u001b[39m\u001b[33mController\u001b[39m\u001b[33m'\u001b[39m:\n\u001b[32m    131\u001b[39m \u001b[38;5;250m\t\u001b[39m\u001b[33;03m'''\u001b[39;00m\n\u001b[32m    132\u001b[39m \u001b[33;03m\tConnects to an Automation1 controller running on the specified host with provided username and password.\u001b[39;00m\n\u001b[32m    133\u001b[39m \u001b[33;03m\tUse this method to create and interact with an Automation1 controller.\u001b[39;00m\n\u001b[32m   (...)\u001b[39m\u001b[32m    141\u001b[39m \u001b[33;03m\t\tA new Controller object that represents a connection to the Automation1 controller.\u001b[39;00m\n\u001b[32m    142\u001b[39m \u001b[33;03m\t'''\u001b[39;00m\n\u001b[32m--> \u001b[39m\u001b[32m143\u001b[39m \t\u001b[38;5;28;01mreturn\u001b[39;00m \u001b[38;5;28;43mcls\u001b[39;49m\u001b[43m(\u001b[49m\u001b[43mhost\u001b[49m\u001b[43m,\u001b[49m\u001b[43m \u001b[49m\u001b[43musername\u001b[49m\u001b[43m,\u001b[49m\u001b[43m \u001b[49m\u001b[43mpassword\u001b[49m\u001b[43m,\u001b[49m\u001b[43m \u001b[49m\u001b[43mconstructor_key\u001b[49m\u001b[43m=\u001b[49m\u001b[38;5;28;43mcls\u001b[39;49m\u001b[43m.\u001b[49m\u001b[43m__constructor_key\u001b[49m\u001b[43m)\u001b[49m\n",
      "\u001b[36mFile \u001b[39m\u001b[32m~\\AppData\\Local\\Packages\\PythonSoftwareFoundation.Python.3.12_qbz5n2kfra8p0\\LocalCache\\local-packages\\Python312\\site-packages\\automation1\\public\\controller.py:44\u001b[39m, in \u001b[36mController.__init__\u001b[39m\u001b[34m(self, host, username, password, expected_certificate, constructor_key)\u001b[39m\n\u001b[32m     36\u001b[39m \tcapi_error_handler.call_function(\u001b[38;5;28;01mlambda\u001b[39;00m: capi_wrapper.capi.Automation1_ConnectSecureWithHostAndUser(\n\u001b[32m     37\u001b[39m \tctypes.create_string_buffer(host.encode(\u001b[33m'\u001b[39m\u001b[33mutf-8\u001b[39m\u001b[33m'\u001b[39m)),\n\u001b[32m     38\u001b[39m \tctypes.create_string_buffer(username.encode(\u001b[33m'\u001b[39m\u001b[33mutf-8\u001b[39m\u001b[33m'\u001b[39m)),\n\u001b[32m   (...)\u001b[39m\u001b[32m     41\u001b[39m \tcapi_controller_pointer)\n\u001b[32m     42\u001b[39m \t)\n\u001b[32m     43\u001b[39m \u001b[38;5;28;01melse\u001b[39;00m:\n\u001b[32m---> \u001b[39m\u001b[32m44\u001b[39m \t\u001b[43mcapi_error_handler\u001b[49m\u001b[43m.\u001b[49m\u001b[43mcall_function\u001b[49m\u001b[43m(\u001b[49m\u001b[38;5;28;43;01mlambda\u001b[39;49;00m\u001b[43m:\u001b[49m\u001b[43m \u001b[49m\u001b[43mcapi_wrapper\u001b[49m\u001b[43m.\u001b[49m\u001b[43mcapi\u001b[49m\u001b[43m.\u001b[49m\u001b[43mAutomation1_ConnectWithHostAndUser\u001b[49m\u001b[43m(\u001b[49m\n\u001b[32m     45\u001b[39m \u001b[43m\t\t\u001b[49m\u001b[43mctypes\u001b[49m\u001b[43m.\u001b[49m\u001b[43mcreate_string_buffer\u001b[49m\u001b[43m(\u001b[49m\u001b[43mhost\u001b[49m\u001b[43m.\u001b[49m\u001b[43mencode\u001b[49m\u001b[43m(\u001b[49m\u001b[33;43m'\u001b[39;49m\u001b[33;43mutf-8\u001b[39;49m\u001b[33;43m'\u001b[39;49m\u001b[43m)\u001b[49m\u001b[43m)\u001b[49m\u001b[43m,\u001b[49m\n\u001b[32m     46\u001b[39m \u001b[43m\t\t\u001b[49m\u001b[43mctypes\u001b[49m\u001b[43m.\u001b[49m\u001b[43mcreate_string_buffer\u001b[49m\u001b[43m(\u001b[49m\u001b[43musername\u001b[49m\u001b[43m.\u001b[49m\u001b[43mencode\u001b[49m\u001b[43m(\u001b[49m\u001b[33;43m'\u001b[39;49m\u001b[33;43mutf-8\u001b[39;49m\u001b[33;43m'\u001b[39;49m\u001b[43m)\u001b[49m\u001b[43m)\u001b[49m\u001b[43m,\u001b[49m\n\u001b[32m     47\u001b[39m \u001b[43m\t\t\u001b[49m\u001b[43mctypes\u001b[49m\u001b[43m.\u001b[49m\u001b[43mcreate_string_buffer\u001b[49m\u001b[43m(\u001b[49m\u001b[43mpassword\u001b[49m\u001b[43m.\u001b[49m\u001b[43mencode\u001b[49m\u001b[43m(\u001b[49m\u001b[33;43m'\u001b[39;49m\u001b[33;43mutf-8\u001b[39;49m\u001b[33;43m'\u001b[39;49m\u001b[43m)\u001b[49m\u001b[43m)\u001b[49m\u001b[43m,\u001b[49m\n\u001b[32m     48\u001b[39m \u001b[43m\t\t\u001b[49m\u001b[43mcapi_controller_pointer\u001b[49m\u001b[43m)\u001b[49m\n\u001b[32m     49\u001b[39m \u001b[43m\t\u001b[49m\u001b[43m)\u001b[49m\n\u001b[32m     50\u001b[39m \u001b[38;5;28mself\u001b[39m.__capi_controller = capi_controller_pointer.contents\n\u001b[32m     51\u001b[39m \u001b[38;5;28mself\u001b[39m.__supported_axis_count = \u001b[38;5;28mint\u001b[39m(capi_error_handler.call_function(\u001b[38;5;28;01mlambda\u001b[39;00m: capi_wrapper.capi.Automation1_Controller_AvailableAxisCount(\u001b[38;5;28mself\u001b[39m.__capi_controller)))\n",
      "\u001b[36mFile \u001b[39m\u001b[32m~\\AppData\\Local\\Packages\\PythonSoftwareFoundation.Python.3.12_qbz5n2kfra8p0\\LocalCache\\local-packages\\Python312\\site-packages\\automation1\\internal\\capi_error_handler.py:36\u001b[39m, in \u001b[36mcall_function\u001b[39m\u001b[34m(capi_function)\u001b[39m\n\u001b[32m     28\u001b[39m \u001b[38;5;28;01mdef\u001b[39;00m\u001b[38;5;250m \u001b[39m\u001b[34mcall_function\u001b[39m(capi_function: Callable[[], \u001b[38;5;28mbool\u001b[39m]):\n\u001b[32m     29\u001b[39m \u001b[38;5;250m\t\u001b[39m\u001b[33;03m'''\u001b[39;00m\n\u001b[32m     30\u001b[39m \u001b[33;03m\tCalls a CAPI function and validates its response. On an unsuccessful response, an exception \u001b[39;00m\n\u001b[32m     31\u001b[39m \u001b[33;03m\tcorresponding to the last controller error is raised.\u001b[39;00m\n\u001b[32m   (...)\u001b[39m\u001b[32m     34\u001b[39m \u001b[33;03m\t\tcapi_function: A lambda function that is set to call a CAPI function\u001b[39;00m\n\u001b[32m     35\u001b[39m \u001b[33;03m\t'''\u001b[39;00m\n\u001b[32m---> \u001b[39m\u001b[32m36\u001b[39m \tis_request_successful = \u001b[43mcapi_function\u001b[49m\u001b[43m(\u001b[49m\u001b[43m)\u001b[49m\n\u001b[32m     37\u001b[39m \t\u001b[38;5;28;01mif\u001b[39;00m \u001b[38;5;129;01mnot\u001b[39;00m is_request_successful:\n\u001b[32m     38\u001b[39m \t\terror = get_last_error()\n",
      "\u001b[36mFile \u001b[39m\u001b[32m~\\AppData\\Local\\Packages\\PythonSoftwareFoundation.Python.3.12_qbz5n2kfra8p0\\LocalCache\\local-packages\\Python312\\site-packages\\automation1\\public\\controller.py:44\u001b[39m, in \u001b[36mController.__init__.<locals>.<lambda>\u001b[39m\u001b[34m()\u001b[39m\n\u001b[32m     36\u001b[39m \tcapi_error_handler.call_function(\u001b[38;5;28;01mlambda\u001b[39;00m: capi_wrapper.capi.Automation1_ConnectSecureWithHostAndUser(\n\u001b[32m     37\u001b[39m \tctypes.create_string_buffer(host.encode(\u001b[33m'\u001b[39m\u001b[33mutf-8\u001b[39m\u001b[33m'\u001b[39m)),\n\u001b[32m     38\u001b[39m \tctypes.create_string_buffer(username.encode(\u001b[33m'\u001b[39m\u001b[33mutf-8\u001b[39m\u001b[33m'\u001b[39m)),\n\u001b[32m   (...)\u001b[39m\u001b[32m     41\u001b[39m \tcapi_controller_pointer)\n\u001b[32m     42\u001b[39m \t)\n\u001b[32m     43\u001b[39m \u001b[38;5;28;01melse\u001b[39;00m:\n\u001b[32m---> \u001b[39m\u001b[32m44\u001b[39m \tcapi_error_handler.call_function(\u001b[38;5;28;01mlambda\u001b[39;00m: \u001b[43mcapi_wrapper\u001b[49m\u001b[43m.\u001b[49m\u001b[43mcapi\u001b[49m\u001b[43m.\u001b[49m\u001b[43mAutomation1_ConnectWithHostAndUser\u001b[49m\u001b[43m(\u001b[49m\n\u001b[32m     45\u001b[39m \u001b[43m\t\t\u001b[49m\u001b[43mctypes\u001b[49m\u001b[43m.\u001b[49m\u001b[43mcreate_string_buffer\u001b[49m\u001b[43m(\u001b[49m\u001b[43mhost\u001b[49m\u001b[43m.\u001b[49m\u001b[43mencode\u001b[49m\u001b[43m(\u001b[49m\u001b[33;43m'\u001b[39;49m\u001b[33;43mutf-8\u001b[39;49m\u001b[33;43m'\u001b[39;49m\u001b[43m)\u001b[49m\u001b[43m)\u001b[49m\u001b[43m,\u001b[49m\n\u001b[32m     46\u001b[39m \u001b[43m\t\t\u001b[49m\u001b[43mctypes\u001b[49m\u001b[43m.\u001b[49m\u001b[43mcreate_string_buffer\u001b[49m\u001b[43m(\u001b[49m\u001b[43musername\u001b[49m\u001b[43m.\u001b[49m\u001b[43mencode\u001b[49m\u001b[43m(\u001b[49m\u001b[33;43m'\u001b[39;49m\u001b[33;43mutf-8\u001b[39;49m\u001b[33;43m'\u001b[39;49m\u001b[43m)\u001b[49m\u001b[43m)\u001b[49m\u001b[43m,\u001b[49m\n\u001b[32m     47\u001b[39m \u001b[43m\t\t\u001b[49m\u001b[43mctypes\u001b[49m\u001b[43m.\u001b[49m\u001b[43mcreate_string_buffer\u001b[49m\u001b[43m(\u001b[49m\u001b[43mpassword\u001b[49m\u001b[43m.\u001b[49m\u001b[43mencode\u001b[49m\u001b[43m(\u001b[49m\u001b[33;43m'\u001b[39;49m\u001b[33;43mutf-8\u001b[39;49m\u001b[33;43m'\u001b[39;49m\u001b[43m)\u001b[49m\u001b[43m)\u001b[49m\u001b[43m,\u001b[49m\n\u001b[32m     48\u001b[39m \u001b[43m\t\t\u001b[49m\u001b[43mcapi_controller_pointer\u001b[49m\u001b[43m)\u001b[49m\n\u001b[32m     49\u001b[39m \t)\n\u001b[32m     50\u001b[39m \u001b[38;5;28mself\u001b[39m.__capi_controller = capi_controller_pointer.contents\n\u001b[32m     51\u001b[39m \u001b[38;5;28mself\u001b[39m.__supported_axis_count = \u001b[38;5;28mint\u001b[39m(capi_error_handler.call_function(\u001b[38;5;28;01mlambda\u001b[39;00m: capi_wrapper.capi.Automation1_Controller_AvailableAxisCount(\u001b[38;5;28mself\u001b[39m.__capi_controller)))\n",
      "\u001b[31mKeyboardInterrupt\u001b[39m: "
     ]
    }
   ],
   "source": [
    "controller = a1.Controller.connect()\n",
    "controller.start()\n",
    "print(controller.is_running)"
   ]
  },
  {
   "cell_type": "markdown",
   "id": "7aad6f08-cd58-4943-94aa-b2553b610634",
   "metadata": {},
   "source": [
    "# Command Queue Python Module"
   ]
  },
  {
   "cell_type": "markdown",
   "id": "09d6fce0-125f-4a1b-b6af-481bb1c4d0eb",
   "metadata": {
    "jupyter": {
     "source_hidden": true
    }
   },
   "source": [
    "WARNINGS FROM THE DOCUMENTATION:\n",
    "- must keep command queue populated at all times. If the command queue is not populated, your process will stall and motion problems might occur\n",
    "- if a `MovePt()` or `MovePvt()` command is the most recently executed command from the queue, and a starvation of the command queue has occurred, the controlloer **will not** automatically decelerate the axes that you specified to a comand to zero velocity \n",
    "\n",
    "NOTES FROM THE DOCUMENTATION\n",
    "- when the command queue begins on a task, the controller executes all the commands that are in the command queue as quickly as possible. If the controller automatically executes commands from the command queue more quickly than you can add them, the command queue will not have a sufficient quantity of commands to execute. This condition is known as a starvation of the command queue. \n",
    "- while the command queue is active, you can examine its status to find the number of times that a starvation of the command queue has occurred. \n",
    "- if starvation mode of the queue occurs, velocity blending mode is enabled on the task, AND most recently executed command from the command queue is a `MoveCcw()`, `MoveCw()`, or `MoveLinear()` command then the controller automatically decelerates them to zero velocity to prevent motion problems from occurring \n",
    "- can use `CommandQueueCount` task status item to make the first command wait for the command queue to fill with a specified number of commands before the controller executes them.\n",
    "\n",
    "RELEVANT LINK: \n",
    "- http://help.aerotech.com/automation1/Content/APIs/Python/References/Command-Queue-Python.htm?Highlight=advanced_motion"
   ]
  },
  {
   "cell_type": "markdown",
   "id": "c1500af3-3ef9-45f4-96ea-c93b03534cd1",
   "metadata": {},
   "source": [
    "# Status Command Queue Commands to Have in Arsenal"
   ]
  },
  {
   "cell_type": "code",
   "execution_count": null,
   "id": "ecb88b04-0092-4b4a-a449-e470a3e19a4f",
   "metadata": {},
   "outputs": [],
   "source": [
    "command_queue.status.number_of_times.emptied"
   ]
  },
  {
   "cell_type": "code",
   "execution_count": null,
   "id": "fd622727-d6e5-46f6-962a-46bbb2e006b4",
   "metadata": {},
   "outputs": [],
   "source": [
    "command_queue.execute(\"wait(StatusGetTaskItem ... >= 20)\")"
   ]
  },
  {
   "cell_type": "markdown",
   "id": "9bd1cf52-0679-4183-8ad4-b416667e248d",
   "metadata": {},
   "source": [
    "# Example Code"
   ]
  },
  {
   "cell_type": "code",
   "execution_count": 3,
   "id": "5f2eb485-58c2-44af-9dab-f15ddc18dbec",
   "metadata": {
    "jupyter": {
     "source_hidden": true
    }
   },
   "outputs": [
    {
     "name": "stdout",
     "output_type": "stream",
     "text": [
      "Object `a1.Controller.runtime.commands.begin_command_queue` not found.\n"
     ]
    }
   ],
   "source": [
    "# Begin a new command queue on task 1.\n",
    "command_queue = controller.runtime.commands.begin_command_queue(\"Task 1\", 10, True)\n",
    "# \"Task 1\": which task to create a command queue on, \n",
    "# 10: max # number of unexecuted Aeroscript commands that we decide can be stored in queue\n",
    "# True: bool for whether or not to block if you add a command when the queue is full. \n",
    "\n",
    "\n",
    "# First, pause the command queue so you can add all the commands\n",
    "# before they are executed.\n",
    "command_queue.pause()\n",
    "\n",
    "# Add all the AeroScript commands that you want to execute.\n",
    "command_queue.commands.advanced_motion.velocityblendingon()\n",
    "command_queue.commands.motion.enable(\"X\")\n",
    "command_queue.commands.motion.movelinear(\"X\", [10], 5)\n",
    "command_queue.commands.motion.movelinear(\"X\", [5], 5)\n",
    "command_queue.commands.motion.disable(\"X\")\n",
    "command_queue.commands.advanced_motion.velocityblendingoff()\n",
    "\n",
    "# Resume the command queue so that all the commands that you added start\n",
    "# to execute.\n",
    "command_queue.resume()\n",
    "\n",
    "# Here you can do other things such as more process, get status, etc.\n",
    "# You can do these things because the command queue is executing\n",
    "# commands on the controller and is not blocking your code execution.\n",
    "\n",
    "# Here you wait to make sure that the command queue executes all the commands.\n",
    "# You must do this before you end the command queue.\n",
    "# When you end the command queue, this process aborts all motion and commands.\n",
    "command_queue.wait_for_empty()\n",
    "\n",
    "# At this time, end the command queue.\n",
    "# You can also call CommandQueue.end_command_queue to abort the command\n",
    "# that is currently executing and discard the remaining commands.\n",
    "controller.runtime.commands.end_command_queue(command_queue)"
   ]
  },
  {
   "cell_type": "markdown",
   "id": "dfb15782-1277-43ea-9aa6-d4f309c2eddf",
   "metadata": {},
   "source": [
    "# Metrology Command Queue Code"
   ]
  },
  {
   "cell_type": "markdown",
   "id": "b595a0e9-2d3a-4197-822f-ede46dc7bf21",
   "metadata": {
    "jupyter": {
     "source_hidden": true
    }
   },
   "source": [
    "Steps in Writing for me:\n",
    "\n",
    "1. Initializes scan parameters\n",
    "2. Checks if the output file exists → exit if it does\n",
    "3. Enables axes\n",
    "4. Moves to start position\n",
    "5. Opens serial port for the metrology gauge\n",
    "6. Opens output data file\n",
    "7. Raster scans in X (with optional Y)\n",
    "8. At each point:\n",
    "- Moves to X, Y\n",
    "- Drops Z probe\n",
    "- Triggers lifter (optional)\n",
    "- Waits for settle\n",
    "- Sends command to gauge\n",
    "- Reads Z gauge value + position feedback\n",
    "- Lifts Z probe\n",
    "- Writes to file\n",
    "- Closes all files\n",
    "- Returns Z to safe height"
   ]
  },
  {
   "cell_type": "markdown",
   "id": "896275cc-43da-45af-ab52-59f2f9a3b97e",
   "metadata": {},
   "source": [
    "#### 1. Constants & Initial Definitions"
   ]
  },
  {
   "cell_type": "code",
   "execution_count": 13,
   "id": "17f7330a-b53c-4022-9e0c-aad650892004",
   "metadata": {},
   "outputs": [],
   "source": [
    "# Constants\n",
    "numX = 50\n",
    "numY = 1\n",
    "lengthX = 25  # for normal\n",
    "lengthY = 0\n",
    "\n",
    "lifterSettleTime = 0.5\n",
    "outname = r\"C:\\Users\\UNIVERSITY\\Desktop\\RunData\\CCAT_Alumina_350\\Surface2\\0deg\\TestWafer\\SpindleC\\TestWaferMet_0deg_col_2.dat\"\n",
    "\n",
    "Xstart = 179.05\n",
    "Ystart = 582.23\n",
    "Zstart = -70.0 #Actually do -20 when the time comes to test in-lab\n",
    "Zdrop = 22.0\n",
    "pi = math.pi\n"
   ]
  },
  {
   "cell_type": "markdown",
   "id": "7f97a45c-ac6f-4f83-930f-97ec6d12355c",
   "metadata": {},
   "source": [
    "#### 2. Check if file already exists\n"
   ]
  },
  {
   "cell_type": "code",
   "execution_count": 10,
   "id": "1bfa1939-e11e-4562-9ea1-4e8f8275990e",
   "metadata": {},
   "outputs": [],
   "source": [
    "def file_exists():\n",
    "    if os.path.exists(outname):\n",
    "        print(\"Metrology File Present, Stopping Motion\")\n",
    "        return  # equivalent to `END PROGRAM`\n"
   ]
  },
  {
   "cell_type": "markdown",
   "id": "8a017b23-14d0-446b-b3ed-e9f457557f09",
   "metadata": {},
   "source": [
    "#### 3. Calculate increments and start point"
   ]
  },
  {
   "cell_type": "code",
   "execution_count": 12,
   "id": "64e58e14-cf27-4679-bc8e-1a4bdb81707b",
   "metadata": {},
   "outputs": [],
   "source": [
    "incdistX = lengthX / (numX - 1) if numX > 1 else 0\n",
    "incdistY = lengthY  # since numY is 1, no division here (for Filter Test Touch)\n",
    "\n",
    "startpoint = [Xstart, Ystart, Zstart]\n",
    "lifterSettleTime = 0.5"
   ]
  },
  {
   "cell_type": "markdown",
   "id": "5a5a6d65-8f45-4686-8dd9-69b4a8e55c09",
   "metadata": {},
   "source": [
    "#### 4. Now add automation1 commands from python command queue"
   ]
  },
  {
   "cell_type": "code",
   "execution_count": null,
   "id": "dce13f92-dfac-4926-8710-4956422531e9",
   "metadata": {},
   "outputs": [],
   "source": [
    "def setup_motion(command_queue):\n",
    "    if file_exists(outname):\n",
    "        return  # Stop execution if file exists\n",
    "\n",
    "    # Grid increment setup\n",
    "    incdistX = lengthX / (numX - 1) if numX > 1 else 0\n",
    "    incdistY = lengthY  # numY is 1\n",
    "\n",
    "    startpoint = [Xstart, Ystart, Zstart]\n",
    "\n",
    "    # Enable axes\n",
    "    for axis in [\"X\", \"Y\", \"ZA\"]:\n",
    "        command_queue.commands.motion.enable(axis)\n",
    "\n",
    "    # Dwell 2 seconds (2000 ms)\n",
    "    command_queue.commands.motion.movedelay([\"X\", \"Y\", \"ZA\"], 2000)"
   ]
  },
  {
   "cell_type": "code",
   "execution_count": null,
   "id": "1f14ef28-fd15-4d24-976d-2e0f2bf1b042",
   "metadata": {},
   "outputs": [],
   "source": [
    "def get_axis_position(axis_name: str):\n",
    "    \"\"\"Fetches ProgramPosition (commanded position) for a given axis.\"\"\"\n",
    "    status_item_configuration = a1.StatusItemConfiguration()\n",
    "    status_item_configuration.axis.add(a1.AxisStatusItem.ProgramPosition, axis_name)\n",
    "    results = controller.runtime.status.get_status_items(status_item_configuration)\n",
    "    return results.axis.get(a1.AxisStatusItem.ProgramPosition, axis_name).value\n",
    "\n",
    "def get_xyz_positions():\n",
    "    \"\"\"Fetch ProgramPosition for X, Y, and ZA simultaneously.\"\"\"\n",
    "    config = a1.StatusItemConfiguration()\n",
    "    for axis in [\"X\", \"Y\", \"ZA\"]:\n",
    "        config.axis.add(a1.AxisStatusItem.ProgramPosition, axis)\n",
    "\n",
    "    results = controller.runtime.status.get_status_items(config)\n",
    "    return {\n",
    "        axis: results.axis.get(a1.AxisStatusItem.ProgramPosition, axis).value\n",
    "        for axis in [\"X\", \"Y\", \"ZA\"]\n",
    "    }"
   ]
  },
  {
   "cell_type": "code",
   "execution_count": null,
   "id": "801e408f-60b8-4ff2-b009-382e79f9a2bb",
   "metadata": {},
   "outputs": [],
   "source": [
    "### NOTE, if we don't specifiy execution_task_index in the `movelinear` function, \n",
    "### it will assume Task1 is the window of operation\n",
    "def run_metrology_scan(command_queue):\n",
    "    if os.path.exists(outname):\n",
    "        print(\"Metrology File Present, Stopping Motion\")\n",
    "        return\n",
    "\n",
    "    incdistX = lengthX / (numX - 1)\n",
    "    incdistY = lengthY\n",
    "\n",
    "    # Enable axes\n",
    "    for axis in [\"X\", \"Y\", \"ZA\"]:\n",
    "        command_queue.commands.motion.enable(axis)\n",
    "\n",
    "    command_queue.commands.motion.movedelay([\"X\", \"Y\", \"ZA\"], 2000)\n",
    "\n",
    "    # Move all Zs to 0\n",
    "    command_queue.commands.motion.movelinear(\n",
    "        axes=[\"ZA\"], distances=[0.0], coordinated_speed=37.5\n",
    "    )\n",
    "    command_queue.commands.motion.movelinear(\n",
    "        axes=[\"ZB\"], distances=[0.0], coordinated_speed=20.0\n",
    "    )\n",
    "    command_queue.commands.motion.movelinear(\n",
    "        axes=[\"ZC\"], distances=[0.0], coordinated_speed=20.0\n",
    "    )\n",
    "\n",
    "    # Open serial port for gauge\n",
    "    sensor_port = serial.Serial(\"COM4\", baudrate=9600, timeout=1)\n",
    "\n",
    "    # Open output file\n",
    "    with open(outname, \"w\") as outfile:\n",
    "        for xcount in range(numX):\n",
    "            x = Xstart + incdistX * xcount\n",
    "            y = Ystart\n",
    "\n",
    "            command_queue.commands.motion.movelinear(\n",
    "                axes=[\"X\", \"Y\", \"ZA\"],\n",
    "                distances=[x, y, Zstart],\n",
    "                coordinated_speed=25.0\n",
    "            )\n",
    "            command_queue.commands.motion.movedelay([\"ZA\"], 500)\n",
    "\n",
    "            for ycount in range(numY):\n",
    "                y = Ystart + incdistY * ycount\n",
    "\n",
    "                command_queue.commands.motion.movelinear(\n",
    "                    axes=[\"Y\"], distances=[y], coordinated_speed=25.0\n",
    "                )\n",
    "\n",
    "                command_queue.commands.motion.movelinear(\n",
    "                    axes=[\"ZA\"],\n",
    "                    distances=[Zstart - Zdrop],\n",
    "                    coordinated_speed=3.0\n",
    "                )\n",
    "                command_queue.commands.motion.movedelay([\"ZA\"], int(lifterSettleTime * 1000))\n",
    "\n",
    "                sensor_port.write(b\"RMD0\\r\\n\")\n",
    "                time.sleep(0.1)\n",
    "                sensor_reading = sensor_port.readline().decode().strip()\n",
    "\n",
    "                # Get XYZ positions\n",
    "                posvals = get_xyz_positions()\n",
    "\n",
    "                command_queue.commands.motion.movelinear(\n",
    "                    axes=[\"ZA\"],\n",
    "                    distances=[Zstart],\n",
    "                    coordinated_speed=10.0\n",
    "                )\n",
    "                \n",
    "                outfile.write(f\"{posvals['X']}, {posvals['Y']}, {posvals['ZA']}, {sensor_reading}\\n\")\n",
    "\n",
    "\n",
    "    # Close sensor port\n",
    "    sensor_port.close()\n",
    "\n",
    "    # Return Z to safe height\n",
    "    command_queue.commands.motion.movelinear(\n",
    "        axes=[\"ZA\"], distances=[0.0], coordinated_speed=37.5\n",
    "    )\n",
    "\n",
    "    print(\"Metrology Done.\")\n"
   ]
  },
  {
   "cell_type": "code",
   "execution_count": null,
   "id": "86e2b0a6-c3c1-489e-9644-b885110d8b47",
   "metadata": {},
   "outputs": [],
   "source": []
  },
  {
   "cell_type": "code",
   "execution_count": null,
   "id": "20f4cb40-9884-439a-8e25-0b1594e99843",
   "metadata": {},
   "outputs": [],
   "source": []
  },
  {
   "cell_type": "code",
   "execution_count": null,
   "id": "9fb12f6e-cc46-4a3e-84cd-5d5c9bc9d57e",
   "metadata": {},
   "outputs": [],
   "source": []
  },
  {
   "cell_type": "code",
   "execution_count": null,
   "id": "a6a82aa2-12bb-4173-a31e-4b5aa9e969f3",
   "metadata": {},
   "outputs": [],
   "source": []
  },
  {
   "cell_type": "code",
   "execution_count": null,
   "id": "5d30cb01-a60e-4d6b-ba40-f6c7cf25cf08",
   "metadata": {},
   "outputs": [],
   "source": []
  },
  {
   "cell_type": "markdown",
   "id": "8347fea9-5fb6-4229-97d4-bf11f038155d",
   "metadata": {},
   "source": [
    "# Since we don't have automation1 here hooked up to hardware, let's make a \"dry run\" version in case it catchees any errors"
   ]
  },
  {
   "cell_type": "code",
   "execution_count": 7,
   "id": "6b6123f0-4912-4c7e-b6e0-8e1ad6a4328b",
   "metadata": {},
   "outputs": [],
   "source": [
    "import random\n",
    "from datetime import datetime"
   ]
  },
  {
   "cell_type": "code",
   "execution_count": 4,
   "id": "0e13407c-7405-46c3-8e03-2f2868c5ec79",
   "metadata": {},
   "outputs": [],
   "source": [
    "def dry_run_metrology_scan():\n",
    "    print(\"Running dry run metrology scan...\")\n",
    "\n",
    "    incdistX = lengthX / (numX - 1)\n",
    "    incdistY = lengthY\n",
    "\n",
    "    # Write to the same output file for verification\n",
    "    with open(outname, \"w\") as outfile:\n",
    "        for xcount in range(numX):\n",
    "            x = Xstart + incdistX * xcount\n",
    "            y = Ystart\n",
    "\n",
    "            for ycount in range(numY):\n",
    "                y = Ystart + incdistY * ycount\n",
    "                za = Zstart - Zdrop\n",
    "\n",
    "                # Simulate a mock gauge sensor reading\n",
    "                sensor_reading = f\"{random.uniform(0.01, 0.05):.5f}\"\n",
    "\n",
    "                # Simulate some jitter in position\n",
    "                jitter = lambda val: val + random.uniform(-0.01, 0.01)\n",
    "                posval_x = jitter(x)\n",
    "                posval_y = jitter(y)\n",
    "                posval_z = jitter(za)\n",
    "\n",
    "                # Write simulated data to file\n",
    "                line = f\"{posval_x:.6f}, {posval_y:.6f}, {posval_z:.6f}, {sensor_reading}\\n\"\n",
    "                outfile.write(line)\n",
    "                print(f\"[{xcount}, {ycount}] {line.strip()}\")\n",
    "\n",
    "    print(\"Dry run complete. Output written to:\")\n",
    "    print(outname)"
   ]
  },
  {
   "cell_type": "code",
   "execution_count": 8,
   "id": "dfd8be21-3f58-44e6-b45c-815e4f3d3c5e",
   "metadata": {},
   "outputs": [],
   "source": [
    "# Constants used in both dry_run and real scan\n",
    "numX = 50\n",
    "numY = 1\n",
    "lengthX = 25\n",
    "lengthY = 0\n",
    "\n",
    "Xstart = 179.05\n",
    "Ystart = 582.23\n",
    "Zstart = -70.0\n",
    "Zdrop = 22.0\n",
    "\n",
    "lifterSettleTime = 0.5\n",
    "\n",
    "outname = rf\"C:\\Windows\\System32\\JupyterNotebooks\\TestDryRun_{datetime.now():%Y%m%d_%H%M%S}.dat\""
   ]
  },
  {
   "cell_type": "code",
   "execution_count": 10,
   "id": "4d868b11-07aa-485b-942e-fc7c2eeba964",
   "metadata": {
    "scrolled": true
   },
   "outputs": [
    {
     "name": "stdout",
     "output_type": "stream",
     "text": [
      "Running dry run metrology scan...\n",
      "[0, 0] 179.056870, 582.228433, -91.998388, 0.01205\n",
      "[1, 0] 179.561198, 582.232356, -91.996985, 0.01194\n",
      "[2, 0] 180.067579, 582.234060, -92.005291, 0.04725\n",
      "[3, 0] 180.585617, 582.225907, -91.992914, 0.02152\n",
      "[4, 0] 181.084962, 582.222491, -91.997092, 0.04917\n",
      "[5, 0] 181.602481, 582.230340, -91.994440, 0.04124\n",
      "[6, 0] 182.112834, 582.233450, -91.997194, 0.02448\n",
      "[7, 0] 182.625303, 582.232861, -91.991357, 0.02811\n",
      "[8, 0] 183.125072, 582.237781, -91.993950, 0.01498\n",
      "[9, 0] 183.648947, 582.234536, -92.001981, 0.01068\n",
      "[10, 0] 184.144665, 582.227813, -91.990896, 0.04358\n",
      "[11, 0] 184.658835, 582.220665, -92.004444, 0.02722\n",
      "[12, 0] 185.165225, 582.239026, -92.008196, 0.04853\n",
      "[13, 0] 185.686502, 582.222003, -92.001419, 0.03356\n",
      "[14, 0] 186.187920, 582.220277, -92.001398, 0.03688\n",
      "[15, 0] 186.704745, 582.230459, -92.009285, 0.04746\n",
      "[16, 0] 187.217999, 582.234313, -92.008012, 0.04050\n",
      "[17, 0] 187.729393, 582.235977, -91.994043, 0.03567\n",
      "[18, 0] 188.234861, 582.238893, -91.991384, 0.02851\n",
      "[19, 0] 188.739174, 582.237987, -92.002197, 0.02491\n",
      "[20, 0] 189.259817, 582.233276, -92.001579, 0.02504\n",
      "[21, 0] 189.772307, 582.236286, -92.006516, 0.01550\n",
      "[22, 0] 190.270680, 582.231982, -92.004316, 0.02587\n",
      "[23, 0] 190.783244, 582.226338, -92.005338, 0.04392\n",
      "[24, 0] 191.292200, 582.227008, -91.993819, 0.03478\n",
      "[25, 0] 191.809130, 582.233428, -92.005883, 0.02129\n",
      "[26, 0] 192.325117, 582.234737, -92.006837, 0.04470\n",
      "[27, 0] 192.830554, 582.234135, -92.003653, 0.02229\n",
      "[28, 0] 193.338218, 582.231780, -92.005222, 0.04804\n",
      "[29, 0] 193.846091, 582.222360, -91.992080, 0.01404\n",
      "[30, 0] 194.361625, 582.222848, -92.006789, 0.02523\n",
      "[31, 0] 194.867299, 582.235486, -91.999287, 0.04040\n",
      "[32, 0] 195.385942, 582.233045, -91.991102, 0.02399\n",
      "[33, 0] 195.890924, 582.228306, -91.997721, 0.02162\n",
      "[34, 0] 196.388668, 582.235602, -92.009003, 0.04481\n",
      "[35, 0] 196.897828, 582.225547, -91.996223, 0.01917\n",
      "[36, 0] 197.426055, 582.228247, -92.002034, 0.01448\n",
      "[37, 0] 197.921963, 582.221324, -92.005259, 0.03398\n",
      "[38, 0] 198.437532, 582.233945, -92.002510, 0.02115\n",
      "[39, 0] 198.949305, 582.220556, -91.996274, 0.01620\n",
      "[40, 0] 199.457029, 582.221502, -91.998185, 0.03252\n",
      "[41, 0] 199.967533, 582.231067, -92.007421, 0.03327\n",
      "[42, 0] 200.477881, 582.232567, -91.991605, 0.01488\n",
      "[43, 0] 200.979456, 582.225347, -92.009692, 0.02627\n",
      "[44, 0] 201.503698, 582.237803, -91.999825, 0.01469\n",
      "[45, 0] 202.018668, 582.234142, -92.000017, 0.03502\n",
      "[46, 0] 202.524825, 582.231353, -92.007768, 0.03842\n",
      "[47, 0] 203.021264, 582.220818, -91.992381, 0.02063\n",
      "[48, 0] 203.538884, 582.238303, -91.992691, 0.04011\n",
      "[49, 0] 204.040298, 582.231568, -91.990263, 0.04593\n",
      "Dry run complete. Output written to:\n",
      "C:\\Windows\\System32\\JupyterNotebooks\\TestDryRun_20250714_191005.dat\n"
     ]
    }
   ],
   "source": [
    "\n",
    "dry_run_metrology_scan()"
   ]
  },
  {
   "cell_type": "code",
   "execution_count": null,
   "id": "f84936bf-f43f-4031-bff6-d993698af03a",
   "metadata": {},
   "outputs": [],
   "source": []
  },
  {
   "cell_type": "markdown",
   "id": "d7a08a25-6b0f-4dde-9299-1ee8f79f9949",
   "metadata": {},
   "source": [
    "To do Metrology Python Program\n",
    "1. ~probe sensor read out~\n",
    "2. data collection part with python?\n",
    "3. or start with it taking those values and spitting them out to a textfile the way the .pgm was doing it?\n",
    "4. there's some kind of differencing that the .pgm does that it outputs in the cell that'll be good to know exactly what it's doing"
   ]
  },
  {
   "cell_type": "markdown",
   "id": "13bf2c6b-1189-4822-bc12-e3a069ae6e5f",
   "metadata": {},
   "source": [
    "Questions:\n",
    "1. what is velocity blending mode?\n",
    "2. camming is something we do currently. not sure we need to do camming anymore, but what is involved in that?\n",
    "3. is there really no way to interrupt motion in a command queue? that's really dangerous? there's gotta be some way---maybe they mean, we can't interrupt in a python kernel? Question to ask support staff"
   ]
  },
  {
   "cell_type": "code",
   "execution_count": null,
   "id": "f5f68186-84eb-4f40-a123-458ee18482a8",
   "metadata": {},
   "outputs": [],
   "source": []
  }
 ],
 "metadata": {
  "kernelspec": {
   "display_name": "Python 3 (ipykernel)",
   "language": "python",
   "name": "python3"
  },
  "language_info": {
   "codemirror_mode": {
    "name": "ipython",
    "version": 3
   },
   "file_extension": ".py",
   "mimetype": "text/x-python",
   "name": "python",
   "nbconvert_exporter": "python",
   "pygments_lexer": "ipython3",
   "version": "3.12.10"
  }
 },
 "nbformat": 4,
 "nbformat_minor": 5
}
