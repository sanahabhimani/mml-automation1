{
 "cells": [
  {
   "cell_type": "code",
   "execution_count": 2,
   "id": "9828015d-f1a6-42ee-a5a6-d7eba9e0a0d4",
   "metadata": {},
   "outputs": [
    {
     "ename": "ModuleNotFoundError",
     "evalue": "No module named 'automation1'",
     "output_type": "error",
     "traceback": [
      "\u001b[0;31m---------------------------------------------------------------------------\u001b[0m",
      "\u001b[0;31mModuleNotFoundError\u001b[0m                       Traceback (most recent call last)",
      "Cell \u001b[0;32mIn[2], line 1\u001b[0m\n\u001b[0;32m----> 1\u001b[0m \u001b[38;5;28;01mimport\u001b[39;00m \u001b[38;5;21;01mautomation1\u001b[39;00m \u001b[38;5;28;01mas\u001b[39;00m \u001b[38;5;21;01ma1\u001b[39;00m\n\u001b[1;32m      2\u001b[0m \u001b[38;5;28;01mimport\u001b[39;00m \u001b[38;5;21;01mtime\u001b[39;00m\n\u001b[1;32m      3\u001b[0m \u001b[38;5;28;01mimport\u001b[39;00m \u001b[38;5;21;01mnumpy\u001b[39;00m \u001b[38;5;28;01mas\u001b[39;00m \u001b[38;5;21;01mnp\u001b[39;00m\n",
      "\u001b[0;31mModuleNotFoundError\u001b[0m: No module named 'automation1'"
     ]
    }
   ],
   "source": [
    "import automation1 as a1\n",
    "import time\n",
    "import numpy as np\n",
    "import matplotlib.pyplot as plt\n",
    "\n",
    "import os\n",
    "import serial\n",
    "import time\n",
    "\n",
    "import math"
   ]
  },
  {
   "cell_type": "code",
   "execution_count": 1,
   "id": "35c96451-535b-4352-95d7-8ea5d6505ded",
   "metadata": {},
   "outputs": [],
   "source": [
    "## make sure is available on Saw1 computer\n",
    "from pathlib import Path"
   ]
  },
  {
   "cell_type": "markdown",
   "id": "099457d3-123b-413b-b664-c10ad9140aff",
   "metadata": {
    "jp-MarkdownHeadingCollapsed": true
   },
   "source": [
    "# Connect to Controller"
   ]
  },
  {
   "cell_type": "code",
   "execution_count": 2,
   "id": "c48907a8-1e32-474e-a136-483798dc7756",
   "metadata": {
    "collapsed": true,
    "jupyter": {
     "outputs_hidden": true
    },
    "scrolled": true
   },
   "outputs": [
    {
     "ename": "KeyboardInterrupt",
     "evalue": "",
     "output_type": "error",
     "traceback": [
      "\u001b[31m---------------------------------------------------------------------------\u001b[39m",
      "\u001b[31mKeyboardInterrupt\u001b[39m                         Traceback (most recent call last)",
      "\u001b[36mCell\u001b[39m\u001b[36m \u001b[39m\u001b[32mIn[2]\u001b[39m\u001b[32m, line 1\u001b[39m\n\u001b[32m----> \u001b[39m\u001b[32m1\u001b[39m controller = \u001b[43ma1\u001b[49m\u001b[43m.\u001b[49m\u001b[43mController\u001b[49m\u001b[43m.\u001b[49m\u001b[43mconnect\u001b[49m\u001b[43m(\u001b[49m\u001b[43m)\u001b[49m\n\u001b[32m      2\u001b[39m controller.start()\n\u001b[32m      3\u001b[39m \u001b[38;5;28mprint\u001b[39m(controller.is_running)\n",
      "\u001b[36mFile \u001b[39m\u001b[32m~\\AppData\\Local\\Packages\\PythonSoftwareFoundation.Python.3.12_qbz5n2kfra8p0\\LocalCache\\local-packages\\Python312\\site-packages\\automation1\\public\\controller.py:143\u001b[39m, in \u001b[36mController.connect\u001b[39m\u001b[34m(cls, host, username, password)\u001b[39m\n\u001b[32m    129\u001b[39m \u001b[38;5;129m@classmethod\u001b[39m\n\u001b[32m    130\u001b[39m \u001b[38;5;28;01mdef\u001b[39;00m\u001b[38;5;250m \u001b[39m\u001b[34mconnect\u001b[39m(\u001b[38;5;28mcls\u001b[39m, host: \u001b[38;5;28mstr\u001b[39m = \u001b[33m'\u001b[39m\u001b[33m::1\u001b[39m\u001b[33m'\u001b[39m, username: \u001b[38;5;28mstr\u001b[39m = \u001b[33m'\u001b[39m\u001b[33m'\u001b[39m, password: \u001b[38;5;28mstr\u001b[39m = \u001b[33m'\u001b[39m\u001b[33m'\u001b[39m) -> \u001b[33m'\u001b[39m\u001b[33mController\u001b[39m\u001b[33m'\u001b[39m:\n\u001b[32m    131\u001b[39m \u001b[38;5;250m\t\u001b[39m\u001b[33;03m'''\u001b[39;00m\n\u001b[32m    132\u001b[39m \u001b[33;03m\tConnects to an Automation1 controller running on the specified host with provided username and password.\u001b[39;00m\n\u001b[32m    133\u001b[39m \u001b[33;03m\tUse this method to create and interact with an Automation1 controller.\u001b[39;00m\n\u001b[32m   (...)\u001b[39m\u001b[32m    141\u001b[39m \u001b[33;03m\t\tA new Controller object that represents a connection to the Automation1 controller.\u001b[39;00m\n\u001b[32m    142\u001b[39m \u001b[33;03m\t'''\u001b[39;00m\n\u001b[32m--> \u001b[39m\u001b[32m143\u001b[39m \t\u001b[38;5;28;01mreturn\u001b[39;00m \u001b[38;5;28;43mcls\u001b[39;49m\u001b[43m(\u001b[49m\u001b[43mhost\u001b[49m\u001b[43m,\u001b[49m\u001b[43m \u001b[49m\u001b[43musername\u001b[49m\u001b[43m,\u001b[49m\u001b[43m \u001b[49m\u001b[43mpassword\u001b[49m\u001b[43m,\u001b[49m\u001b[43m \u001b[49m\u001b[43mconstructor_key\u001b[49m\u001b[43m=\u001b[49m\u001b[38;5;28;43mcls\u001b[39;49m\u001b[43m.\u001b[49m\u001b[43m__constructor_key\u001b[49m\u001b[43m)\u001b[49m\n",
      "\u001b[36mFile \u001b[39m\u001b[32m~\\AppData\\Local\\Packages\\PythonSoftwareFoundation.Python.3.12_qbz5n2kfra8p0\\LocalCache\\local-packages\\Python312\\site-packages\\automation1\\public\\controller.py:44\u001b[39m, in \u001b[36mController.__init__\u001b[39m\u001b[34m(self, host, username, password, expected_certificate, constructor_key)\u001b[39m\n\u001b[32m     36\u001b[39m \tcapi_error_handler.call_function(\u001b[38;5;28;01mlambda\u001b[39;00m: capi_wrapper.capi.Automation1_ConnectSecureWithHostAndUser(\n\u001b[32m     37\u001b[39m \tctypes.create_string_buffer(host.encode(\u001b[33m'\u001b[39m\u001b[33mutf-8\u001b[39m\u001b[33m'\u001b[39m)),\n\u001b[32m     38\u001b[39m \tctypes.create_string_buffer(username.encode(\u001b[33m'\u001b[39m\u001b[33mutf-8\u001b[39m\u001b[33m'\u001b[39m)),\n\u001b[32m   (...)\u001b[39m\u001b[32m     41\u001b[39m \tcapi_controller_pointer)\n\u001b[32m     42\u001b[39m \t)\n\u001b[32m     43\u001b[39m \u001b[38;5;28;01melse\u001b[39;00m:\n\u001b[32m---> \u001b[39m\u001b[32m44\u001b[39m \t\u001b[43mcapi_error_handler\u001b[49m\u001b[43m.\u001b[49m\u001b[43mcall_function\u001b[49m\u001b[43m(\u001b[49m\u001b[38;5;28;43;01mlambda\u001b[39;49;00m\u001b[43m:\u001b[49m\u001b[43m \u001b[49m\u001b[43mcapi_wrapper\u001b[49m\u001b[43m.\u001b[49m\u001b[43mcapi\u001b[49m\u001b[43m.\u001b[49m\u001b[43mAutomation1_ConnectWithHostAndUser\u001b[49m\u001b[43m(\u001b[49m\n\u001b[32m     45\u001b[39m \u001b[43m\t\t\u001b[49m\u001b[43mctypes\u001b[49m\u001b[43m.\u001b[49m\u001b[43mcreate_string_buffer\u001b[49m\u001b[43m(\u001b[49m\u001b[43mhost\u001b[49m\u001b[43m.\u001b[49m\u001b[43mencode\u001b[49m\u001b[43m(\u001b[49m\u001b[33;43m'\u001b[39;49m\u001b[33;43mutf-8\u001b[39;49m\u001b[33;43m'\u001b[39;49m\u001b[43m)\u001b[49m\u001b[43m)\u001b[49m\u001b[43m,\u001b[49m\n\u001b[32m     46\u001b[39m \u001b[43m\t\t\u001b[49m\u001b[43mctypes\u001b[49m\u001b[43m.\u001b[49m\u001b[43mcreate_string_buffer\u001b[49m\u001b[43m(\u001b[49m\u001b[43musername\u001b[49m\u001b[43m.\u001b[49m\u001b[43mencode\u001b[49m\u001b[43m(\u001b[49m\u001b[33;43m'\u001b[39;49m\u001b[33;43mutf-8\u001b[39;49m\u001b[33;43m'\u001b[39;49m\u001b[43m)\u001b[49m\u001b[43m)\u001b[49m\u001b[43m,\u001b[49m\n\u001b[32m     47\u001b[39m \u001b[43m\t\t\u001b[49m\u001b[43mctypes\u001b[49m\u001b[43m.\u001b[49m\u001b[43mcreate_string_buffer\u001b[49m\u001b[43m(\u001b[49m\u001b[43mpassword\u001b[49m\u001b[43m.\u001b[49m\u001b[43mencode\u001b[49m\u001b[43m(\u001b[49m\u001b[33;43m'\u001b[39;49m\u001b[33;43mutf-8\u001b[39;49m\u001b[33;43m'\u001b[39;49m\u001b[43m)\u001b[49m\u001b[43m)\u001b[49m\u001b[43m,\u001b[49m\n\u001b[32m     48\u001b[39m \u001b[43m\t\t\u001b[49m\u001b[43mcapi_controller_pointer\u001b[49m\u001b[43m)\u001b[49m\n\u001b[32m     49\u001b[39m \u001b[43m\t\u001b[49m\u001b[43m)\u001b[49m\n\u001b[32m     50\u001b[39m \u001b[38;5;28mself\u001b[39m.__capi_controller = capi_controller_pointer.contents\n\u001b[32m     51\u001b[39m \u001b[38;5;28mself\u001b[39m.__supported_axis_count = \u001b[38;5;28mint\u001b[39m(capi_error_handler.call_function(\u001b[38;5;28;01mlambda\u001b[39;00m: capi_wrapper.capi.Automation1_Controller_AvailableAxisCount(\u001b[38;5;28mself\u001b[39m.__capi_controller)))\n",
      "\u001b[36mFile \u001b[39m\u001b[32m~\\AppData\\Local\\Packages\\PythonSoftwareFoundation.Python.3.12_qbz5n2kfra8p0\\LocalCache\\local-packages\\Python312\\site-packages\\automation1\\internal\\capi_error_handler.py:36\u001b[39m, in \u001b[36mcall_function\u001b[39m\u001b[34m(capi_function)\u001b[39m\n\u001b[32m     28\u001b[39m \u001b[38;5;28;01mdef\u001b[39;00m\u001b[38;5;250m \u001b[39m\u001b[34mcall_function\u001b[39m(capi_function: Callable[[], \u001b[38;5;28mbool\u001b[39m]):\n\u001b[32m     29\u001b[39m \u001b[38;5;250m\t\u001b[39m\u001b[33;03m'''\u001b[39;00m\n\u001b[32m     30\u001b[39m \u001b[33;03m\tCalls a CAPI function and validates its response. On an unsuccessful response, an exception \u001b[39;00m\n\u001b[32m     31\u001b[39m \u001b[33;03m\tcorresponding to the last controller error is raised.\u001b[39;00m\n\u001b[32m   (...)\u001b[39m\u001b[32m     34\u001b[39m \u001b[33;03m\t\tcapi_function: A lambda function that is set to call a CAPI function\u001b[39;00m\n\u001b[32m     35\u001b[39m \u001b[33;03m\t'''\u001b[39;00m\n\u001b[32m---> \u001b[39m\u001b[32m36\u001b[39m \tis_request_successful = \u001b[43mcapi_function\u001b[49m\u001b[43m(\u001b[49m\u001b[43m)\u001b[49m\n\u001b[32m     37\u001b[39m \t\u001b[38;5;28;01mif\u001b[39;00m \u001b[38;5;129;01mnot\u001b[39;00m is_request_successful:\n\u001b[32m     38\u001b[39m \t\terror = get_last_error()\n",
      "\u001b[36mFile \u001b[39m\u001b[32m~\\AppData\\Local\\Packages\\PythonSoftwareFoundation.Python.3.12_qbz5n2kfra8p0\\LocalCache\\local-packages\\Python312\\site-packages\\automation1\\public\\controller.py:44\u001b[39m, in \u001b[36mController.__init__.<locals>.<lambda>\u001b[39m\u001b[34m()\u001b[39m\n\u001b[32m     36\u001b[39m \tcapi_error_handler.call_function(\u001b[38;5;28;01mlambda\u001b[39;00m: capi_wrapper.capi.Automation1_ConnectSecureWithHostAndUser(\n\u001b[32m     37\u001b[39m \tctypes.create_string_buffer(host.encode(\u001b[33m'\u001b[39m\u001b[33mutf-8\u001b[39m\u001b[33m'\u001b[39m)),\n\u001b[32m     38\u001b[39m \tctypes.create_string_buffer(username.encode(\u001b[33m'\u001b[39m\u001b[33mutf-8\u001b[39m\u001b[33m'\u001b[39m)),\n\u001b[32m   (...)\u001b[39m\u001b[32m     41\u001b[39m \tcapi_controller_pointer)\n\u001b[32m     42\u001b[39m \t)\n\u001b[32m     43\u001b[39m \u001b[38;5;28;01melse\u001b[39;00m:\n\u001b[32m---> \u001b[39m\u001b[32m44\u001b[39m \tcapi_error_handler.call_function(\u001b[38;5;28;01mlambda\u001b[39;00m: \u001b[43mcapi_wrapper\u001b[49m\u001b[43m.\u001b[49m\u001b[43mcapi\u001b[49m\u001b[43m.\u001b[49m\u001b[43mAutomation1_ConnectWithHostAndUser\u001b[49m\u001b[43m(\u001b[49m\n\u001b[32m     45\u001b[39m \u001b[43m\t\t\u001b[49m\u001b[43mctypes\u001b[49m\u001b[43m.\u001b[49m\u001b[43mcreate_string_buffer\u001b[49m\u001b[43m(\u001b[49m\u001b[43mhost\u001b[49m\u001b[43m.\u001b[49m\u001b[43mencode\u001b[49m\u001b[43m(\u001b[49m\u001b[33;43m'\u001b[39;49m\u001b[33;43mutf-8\u001b[39;49m\u001b[33;43m'\u001b[39;49m\u001b[43m)\u001b[49m\u001b[43m)\u001b[49m\u001b[43m,\u001b[49m\n\u001b[32m     46\u001b[39m \u001b[43m\t\t\u001b[49m\u001b[43mctypes\u001b[49m\u001b[43m.\u001b[49m\u001b[43mcreate_string_buffer\u001b[49m\u001b[43m(\u001b[49m\u001b[43musername\u001b[49m\u001b[43m.\u001b[49m\u001b[43mencode\u001b[49m\u001b[43m(\u001b[49m\u001b[33;43m'\u001b[39;49m\u001b[33;43mutf-8\u001b[39;49m\u001b[33;43m'\u001b[39;49m\u001b[43m)\u001b[49m\u001b[43m)\u001b[49m\u001b[43m,\u001b[49m\n\u001b[32m     47\u001b[39m \u001b[43m\t\t\u001b[49m\u001b[43mctypes\u001b[49m\u001b[43m.\u001b[49m\u001b[43mcreate_string_buffer\u001b[49m\u001b[43m(\u001b[49m\u001b[43mpassword\u001b[49m\u001b[43m.\u001b[49m\u001b[43mencode\u001b[49m\u001b[43m(\u001b[49m\u001b[33;43m'\u001b[39;49m\u001b[33;43mutf-8\u001b[39;49m\u001b[33;43m'\u001b[39;49m\u001b[43m)\u001b[49m\u001b[43m)\u001b[49m\u001b[43m,\u001b[49m\n\u001b[32m     48\u001b[39m \u001b[43m\t\t\u001b[49m\u001b[43mcapi_controller_pointer\u001b[49m\u001b[43m)\u001b[49m\n\u001b[32m     49\u001b[39m \t)\n\u001b[32m     50\u001b[39m \u001b[38;5;28mself\u001b[39m.__capi_controller = capi_controller_pointer.contents\n\u001b[32m     51\u001b[39m \u001b[38;5;28mself\u001b[39m.__supported_axis_count = \u001b[38;5;28mint\u001b[39m(capi_error_handler.call_function(\u001b[38;5;28;01mlambda\u001b[39;00m: capi_wrapper.capi.Automation1_Controller_AvailableAxisCount(\u001b[38;5;28mself\u001b[39m.__capi_controller)))\n",
      "\u001b[31mKeyboardInterrupt\u001b[39m: "
     ]
    }
   ],
   "source": [
    "controller = a1.Controller.connect()\n",
    "controller.start()\n",
    "print(controller.is_running)"
   ]
  },
  {
   "cell_type": "markdown",
   "id": "85884930-5394-49c3-b1ea-ae6fc0f1ae37",
   "metadata": {},
   "source": [
    "# A. Setup & Constants"
   ]
  },
  {
   "cell_type": "code",
   "execution_count": 3,
   "id": "4436e162-e00e-4e92-9429-7cf5052f7218",
   "metadata": {},
   "outputs": [],
   "source": [
    "base_path = Path(r\"C:\\Users\\UNIVERSITY\\Desktop\\RunData\\CCAT_Alumina_350\\Surface2\\90deg\\TestCuts\\SpindleC\\CutCammingThin\")\n",
    "# Filenames\n",
    "cuttype     = \"Thin\"                # Equivalent to #define cuttype \"Thin\"\n",
    "mastername  = \"Master.txt\"          # The list of cuts\n",
    "datafile    = \"DataCollectCut.dat\"  # Data collection output\n",
    "outfile     = \"MetCheck.txt\"        # Metrology check output\n",
    "lockname    = \"lockfile.lock\"       # Lockfile to prevent re-running"
   ]
  },
  {
   "cell_type": "code",
   "execution_count": 4,
   "id": "32b43b55-0642-4b5e-9c00-8e0c19a9fa2b",
   "metadata": {},
   "outputs": [
    {
     "name": "stdout",
     "output_type": "stream",
     "text": [
      "Base path:  C:\\Users\\UNIVERSITY\\Desktop\\RunData\\CCAT_Alumina_350\\Surface2\\90deg\\TestCuts\\SpindleC\\CutCammingThin\n",
      "Master file:  C:\\Users\\UNIVERSITY\\Desktop\\RunData\\CCAT_Alumina_350\\Surface2\\90deg\\TestCuts\\SpindleC\\CutCammingThin/Master.txt\n",
      "Lock file:  C:\\Users\\UNIVERSITY\\Desktop\\RunData\\CCAT_Alumina_350\\Surface2\\90deg\\TestCuts\\SpindleC\\CutCammingThin/lockfile.lock\n"
     ]
    }
   ],
   "source": [
    "# Parameters\n",
    "safelift        = 40.0   # 20 mm above z-start for safe moves\n",
    "numpoints       = 10     # number of points (if doing metrology checks)\n",
    "lifter_settle_s = 0.5    # seconds\n",
    "feedspeed       = 5.0   # 11 mm/s \n",
    "\n",
    "# Build full file paths (Path objects)\n",
    "master_path = base_path / mastername\n",
    "data_path   = base_path / datafile\n",
    "out_path    = base_path / outfile\n",
    "lock_path   = base_path / lockname\n",
    "\n",
    "# Just to verify in notebook\n",
    "print(\"Base path: \", base_path)\n",
    "print(\"Master file: \", master_path)\n",
    "print(\"Lock file: \", lock_path)"
   ]
  },
  {
   "cell_type": "markdown",
   "id": "eea7f178-6c2d-409e-9031-1723c4e40f4b",
   "metadata": {},
   "source": [
    "# B. Initial Motions, Digital Output (DO), lockfile check"
   ]
  },
  {
   "cell_type": "code",
   "execution_count": null,
   "id": "2271036b-6141-4a5c-b2d9-da6b10938e94",
   "metadata": {},
   "outputs": [],
   "source": [
    "lock_path = base_path / lockname\n",
    "if lock_path.exists():\n",
    "    print(f\"[guard] Lockfile present at {lock_path} — stopping here.\")\n",
    "    ### Need to actually add a stopping component if putting this in script form ###"
   ]
  },
  {
   "cell_type": "code",
   "execution_count": null,
   "id": "2a690614-94e3-4b97-a27f-74db0f44f62c",
   "metadata": {},
   "outputs": [],
   "source": [
    "# start a queue with capacity 64, and block if full\n",
    "cq = controller.runtime.commands.begin_command_queue(task=1, command_capacity=64, should_block_if_full=True)\n",
    "print(\"Queue started on task:\", cq.task_index, \"capacity:\", cq.command_capacity)\n"
   ]
  },
  {
   "cell_type": "code",
   "execution_count": null,
   "id": "70080e5c-5221-479f-bd15-d408d4219050",
   "metadata": {},
   "outputs": [],
   "source": [
    "cq.pause()"
   ]
  },
  {
   "cell_type": "code",
   "execution_count": null,
   "id": "485a67a5-479c-49e5-bb3b-cf4f16ff9ea5",
   "metadata": {},
   "outputs": [],
   "source": [
    "# queued versions of the same calls you used before\n",
    "cq.commands.moveabsolute([\"ZA\"], [0.0],     [20.0])\n",
    "cq.commands.moveabsolute([\"ZB\"], [0.0],     [20.0])\n",
    "cq.commands.moveabsolute([\"ZC\"], [-0.0005], [20.0])\n",
    "cq.commands.waitforinposition([\"ZA\",\"ZB\",\"ZC\"])\n"
   ]
  },
  {
   "cell_type": "code",
   "execution_count": null,
   "id": "a82bfd06-eca7-4f8e-9dd8-543a613c635b",
   "metadata": {},
   "outputs": [],
   "source": [
    "## turn on the digital outputs and set the dwell in the queue\n",
    "io_axis_misc  = \"X\"  # adjust if your IO lives elsewhere\n",
    "io_axis_flood = \"X\"\n",
    "\n",
    "cq.commands.digitaloutputset(axis=io_axis_misc,  output_num=10, value=1)\n",
    "cq.commands.digitaloutputset(axis=io_axis_flood, output_num=6,  value=1)\n",
    "cq.commands.movedelay([\"X\",\"Y\",\"ZC\"], delay_time=11_000)  # 11 s\n"
   ]
  },
  {
   "cell_type": "code",
   "execution_count": null,
   "id": "a645c5b4-d03e-4003-aa25-f144d68aef74",
   "metadata": {},
   "outputs": [],
   "source": [
    "cq.resume()   \n",
    "cq.wait_for_empty()  # block until all queued commands above finish\n"
   ]
  },
  {
   "cell_type": "markdown",
   "id": "832817e1-c0b0-4e7d-8438-493bba60f277",
   "metadata": {},
   "source": [
    "controller.runtime.commands.end_command_queue(cq)"
   ]
  },
  {
   "cell_type": "markdown",
   "id": "4b3f8667-fa7a-4be6-8041-94e0558a35c6",
   "metadata": {},
   "source": [
    "#### ZC Drive Status Check "
   ]
  },
  {
   "cell_type": "code",
   "execution_count": null,
   "id": "4785fa28-aff3-4bde-bcce-7951e43ebcd7",
   "metadata": {},
   "outputs": [],
   "source": [
    "cfg = a1.StatusItemConfiguration()\n",
    "cfg.axis.add(a1.AxisStatusItem.DriveStatus,     \"ZC\")\n",
    "cfg.axis.add(a1.AxisStatusItem.ProgramPosition, \"ZC\")\n",
    "\n",
    "results = controller.runtime.status.get_status_items(cfg)\n",
    "\n",
    "# pull the drive status (bitfield) and program position (float)\n",
    "drive_status = int(results.axis.get(a1.AxisStatusItem.DriveStatus, \"ZC\"))\n",
    "program_pos  = results.axis.get(a1.AxisStatusItem.ProgramPosition, \"ZC\")\n",
    "\n",
    "# mask off camming bit (bit 16)\n",
    "camming_bit = bool(drive_status & (1 << 16))\n",
    "\n",
    "print(f\"[diag] ZC DriveStatus = 0x{drive_status:08X}\")\n",
    "print(f\"[diag] ZC camming bit set? {camming_bit}\")\n",
    "print(f\"[diag] ZC ProgramPosition = {program_pos:.4f} mm\")"
   ]
  },
  {
   "cell_type": "markdown",
   "id": "c44850c8-171c-4911-9815-3f71ad66df2a",
   "metadata": {},
   "source": [
    "# C. Open Master.txt File and turn on Flood Cooling "
   ]
  },
  {
   "cell_type": "code",
   "execution_count": 5,
   "id": "180a91b7-a82b-4c5e-a4d5-753f02e5eab5",
   "metadata": {
    "collapsed": true,
    "jupyter": {
     "outputs_hidden": true
    }
   },
   "outputs": [
    {
     "ename": "AssertionError",
     "evalue": "Master file not found: C:\\Users\\UNIVERSITY\\Desktop\\RunData\\CCAT_Alumina_350\\Surface2\\90deg\\TestCuts\\SpindleC\\CutCammingThin/Master.txt",
     "output_type": "error",
     "traceback": [
      "\u001b[0;31m---------------------------------------------------------------------------\u001b[0m",
      "\u001b[0;31mAssertionError\u001b[0m                            Traceback (most recent call last)",
      "Cell \u001b[0;32mIn[5], line 1\u001b[0m\n\u001b[0;32m----> 1\u001b[0m \u001b[38;5;28;01massert\u001b[39;00m master_path\u001b[38;5;241m.\u001b[39mexists(), \u001b[38;5;124mf\u001b[39m\u001b[38;5;124m\"\u001b[39m\u001b[38;5;124mMaster file not found: \u001b[39m\u001b[38;5;132;01m{\u001b[39;00mmaster_path\u001b[38;5;132;01m}\u001b[39;00m\u001b[38;5;124m\"\u001b[39m\n\u001b[1;32m      2\u001b[0m \u001b[38;5;28mprint\u001b[39m(\u001b[38;5;124m\"\u001b[39m\u001b[38;5;124m[step C] Found Master.txt:\u001b[39m\u001b[38;5;124m\"\u001b[39m, master_path)\n\u001b[1;32m      4\u001b[0m \u001b[38;5;66;03m# read nonempty, non-comment lines (allow '#' or ';' comments at line start)\u001b[39;00m\n",
      "\u001b[0;31mAssertionError\u001b[0m: Master file not found: C:\\Users\\UNIVERSITY\\Desktop\\RunData\\CCAT_Alumina_350\\Surface2\\90deg\\TestCuts\\SpindleC\\CutCammingThin/Master.txt"
     ]
    }
   ],
   "source": [
    "assert master_path.exists(), f\"Master file not found: {master_path}\"\n",
    "print(\"[step C] Found Master.txt:\", master_path)\n",
    "\n",
    "with open(master_path, \"r\") as f:\n",
    "    raw_lines = [ln.strip() for ln in f if ln.strip()]\n",
    "\n",
    "print(f\"[step C] Read {len(raw_lines)} line(s) from Master.txt.\")\n",
    "if raw_lines:\n",
    "    print(\" first line →\", raw_lines[0])"
   ]
  },
  {
   "cell_type": "code",
   "execution_count": null,
   "id": "94980dec-c81a-4f96-a5b7-f72a71d295f2",
   "metadata": {},
   "outputs": [],
   "source": [
    "# Flood cooling ON (DO6 = 1)\n",
    "io_axis_flood = \"X\"  # change if flood IO lives elsewhere\n",
    "controller.commands.io.digitaloutputset(axis=io_axis_flood, output_num=6, value=1, execution_task_index=1)\n",
    "print(\"Flood coolant ON\")\n",
    "\n",
    "# Dwell 11 s (same as AeroBasic DWELL 11.0)\n",
    "controller.commands.motion.movedelay([\"X\",\"Y\",\"ZC\"], delay_time=11_000, execution_task_index=1)\n"
   ]
  },
  {
   "cell_type": "code",
   "execution_count": null,
   "id": "77852fab-f40d-4a4b-ab64-59aa3653cd8f",
   "metadata": {},
   "outputs": [],
   "source": [
    "# parse the first cut definition\n",
    "# AeroBasic FILEREAD expected 5 numeric values per row\n",
    "# camnum  xvalue  ystart  zstart  yend\n",
    "row0 = lines[0].split()\n",
    "assert len(row0) >= 5, f\"Expected ≥5 fields, got {len(row0)}: {row0}\"\n",
    "\n",
    "camnum  = int(row0[0])\n",
    "xvalue  = float(row0[1])\n",
    "ystart  = float(row0[2])\n",
    "zstart  = float(row0[3])\n",
    "yend    = float(row0[4])\n",
    "\n",
    "print(f\"[step C] camnum={camnum}, x={xvalue}, ystart={ystart}, zstart={zstart}, yend={yend}\")\n",
    "\n",
    "# these two mirror variables the AeroBasic computed (useful later if we do met checks)\n",
    "#yval = ystart\n",
    "#dy   = (yend - ystart) / numpoints if numpoints else 0.0\n",
    "\n",
    "\n",
    "#print(f\"[step C] yval={yval}, dy={dy}\")\n"
   ]
  },
  {
   "cell_type": "code",
   "execution_count": null,
   "id": "3c03f844-912c-4a46-a30a-2170fa0d47fc",
   "metadata": {},
   "outputs": [],
   "source": [
    "## build the cam table file name for this row and check it exists\n",
    "cam_filename = f\"CutCam{cuttype}{camnum:04d}.Cam\"\n",
    "cam_path     = base_path / cam_filename\n",
    "\n",
    "print(\"[step C] Cam file:\", cam_path)\n",
    "if not cam_path.exists():\n",
    "    print(\"Cam file not found.\")\n",
    "\n"
   ]
  },
  {
   "cell_type": "code",
   "execution_count": null,
   "id": "f79b0c4f-9b3a-4ba6-b5ac-6c5d62912cae",
   "metadata": {},
   "outputs": [],
   "source": []
  },
  {
   "cell_type": "code",
   "execution_count": null,
   "id": "8c9a7a06-3a17-4927-aacb-1a5db365b390",
   "metadata": {},
   "outputs": [],
   "source": []
  },
  {
   "cell_type": "code",
   "execution_count": null,
   "id": "526ecc43-80dc-41e9-9712-065edfdab78d",
   "metadata": {},
   "outputs": [],
   "source": []
  },
  {
   "cell_type": "code",
   "execution_count": null,
   "id": "0a8f6535-4a98-4c35-bf54-49b1619024bc",
   "metadata": {},
   "outputs": [],
   "source": []
  },
  {
   "cell_type": "markdown",
   "id": "264d97e2-75fa-4827-bf6f-a404b267f8b6",
   "metadata": {},
   "source": [
    "# D. Main Loop over Master.txt Rows"
   ]
  },
  {
   "cell_type": "code",
   "execution_count": null,
   "id": "c244597e-3f9a-484f-9acc-d59a12d13fce",
   "metadata": {},
   "outputs": [],
   "source": [
    "assert cam_path.exists(), f\"Cam file not found: {cam_path}\"\n",
    "print(\"[step D] Using cam file:\", cam_path)\n",
    "\n",
    "with open(cam_path, \"r\") as f:\n",
    "    shown = 0\n",
    "    for ln in f:\n",
    "        s = ln.strip()\n",
    "        if not s or s.startswith((\"#\",\";\")):\n",
    "            continue\n",
    "        print(\" cam>\", s)\n",
    "        shown += 1\n",
    "        if shown >= 5:\n",
    "            break"
   ]
  },
  {
   "cell_type": "code",
   "execution_count": null,
   "id": "8a58711b-a5e5-4424-8925-094aae515fc7",
   "metadata": {},
   "outputs": [],
   "source": [
    "leader_values = []\n",
    "follower_values = []\n",
    "\n",
    "with open(cam_path, \"r\") as f:\n",
    "    for ln in f:\n",
    "        s = ln.strip()\n",
    "        if not s or s.startswith((\"#\",\";\")):\n",
    "            continue\n",
    "        parts = s.replace(\",\", \" \").split()\n",
    "        if len(parts) < 2:\n",
    "            continue\n",
    "        leader_values.append(float(parts[0]))    # Y\n",
    "        follower_values.append(float(parts[1]))  # ZC\n",
    "\n",
    "n = len(leader_values)\n",
    "assert n > 1, \"Parsed too few cam points.\"\n",
    "print(f\"[step D] Parsed {n} cam points.\")"
   ]
  },
  {
   "cell_type": "code",
   "execution_count": null,
   "id": "1cc14919-c21f-46af-bc39-4c87cd15a59b",
   "metadata": {},
   "outputs": [],
   "source": [
    "from a1.public.enums_gen import (\n",
    "    CammingUnits, CammingInterpolation, CammingWrapMode\n",
    ")\n"
   ]
  },
  {
   "cell_type": "code",
   "execution_count": null,
   "id": "1561f84b-333b-42c0-9ee5-ce3e5d909d7f",
   "metadata": {},
   "outputs": [],
   "source": [
    "####### initiate advanced motion module ############\n",
    "am = controller.commands.advanced_motion"
   ]
  },
  {
   "cell_type": "code",
   "execution_count": null,
   "id": "7c85eab3-8d11-4365-ae61-b754f7b85bc2",
   "metadata": {},
   "outputs": [],
   "source": [
    "# free table 1 in case something is already loaded\n",
    "am.cammingfreetable(1, execution_task_index=1)"
   ]
  },
  {
   "cell_type": "code",
   "execution_count": null,
   "id": "3ab8dad1-22a4-4745-bc87-dd44580c115e",
   "metadata": {},
   "outputs": [],
   "source": [
    "am.cammingloadtablefromarray(\n",
    "    table_num=1,\n",
    "    leader_values=leader_values,\n",
    "    follower_values=follower_values,\n",
    "    num_values=len(leader_values),\n",
    "    units_mode=CammingUnits.Position,               # follower is position vs leader\n",
    "    interpolation_mode=CammingInterpolation.Linear, # typical for .Cam\n",
    "    wrap_mode=CammingWrapMode.NoWrap,               # NOWRAP\n",
    "    table_offset=0.0,\n",
    "    execution_task_index=1\n",
    ")\n",
    "print(\"[step D] Camming table 1 loaded.\")"
   ]
  },
  {
   "cell_type": "code",
   "execution_count": 6,
   "id": "fa426f8c-ee95-48c2-a8ef-9db56a230e4e",
   "metadata": {},
   "outputs": [],
   "source": [
    "# slow, safe test speeds\n",
    "SPEED_Y_TRAVERSE  = 5.0   # mm/s\n",
    "SPEED_X_TRAVERSE  = 5.0   # mm/s\n",
    "SPEED_ZC_APPROACH = 2.0   # mm/s  (down to zstart+2)\n",
    "SPEED_ZC_TOUCH    = 0.5   # mm/s  (final settle at zstart)\n"
   ]
  },
  {
   "cell_type": "code",
   "execution_count": null,
   "id": "9ebac803-58f7-491f-8f7d-16462532f567",
   "metadata": {},
   "outputs": [],
   "source": [
    "# begin a new queue \n",
    "cq = controller.runtime.commands.begin_command_queue(task=1, command_capacity=64, should_block_if_full=True)\n",
    "print(\" queue started.\")"
   ]
  },
  {
   "cell_type": "code",
   "execution_count": null,
   "id": "d92d0d02-c4f6-4367-a25b-270e807b7056",
   "metadata": {},
   "outputs": [],
   "source": [
    "# move y to start position, wait for in position\n",
    "cq.commands.moveabsolute([\"Y\"], [ystart], [SPEED_Y_TRAVERSE])\n",
    "cq.commands.waitforinposition([\"Y\"])\n",
    "print(\"queued Y→ystart + wait.\")"
   ]
  },
  {
   "cell_type": "code",
   "execution_count": null,
   "id": "d81432e9-20ca-4fcb-8f5c-4376a46db637",
   "metadata": {},
   "outputs": [],
   "source": [
    "## move X \n",
    "cq.commands.moveabsolute([\"X\"], [xvalue], [SPEED_X_TRAVERSE])\n",
    "print(\"[D-Q4] queued X→xvalue.\")"
   ]
  },
  {
   "cell_type": "code",
   "execution_count": null,
   "id": "94c7031b-fb41-4b26-bf8b-84c5dd1eeb03",
   "metadata": {},
   "outputs": [],
   "source": [
    "## move ZC --- do we need to do this? yes\n",
    "cq.commands.moveabsolute([\"ZC\"], [zstart + 2.0], [SPEED_ZC_APPROACH])\n",
    "cq.commands.moveabsolute([\"ZC\"], [zstart],        [SPEED_ZC_TOUCH])\n",
    "cq.commands.waitforinposition([\"ZC\"])"
   ]
  },
  {
   "cell_type": "code",
   "execution_count": null,
   "id": "4c916349-c1a1-43c1-a14d-e1ca2806852e",
   "metadata": {},
   "outputs": [],
   "source": [
    "from automation1.public.enums_gen import CammingSource, CammingOutput\n",
    "\n",
    "cq.commands.advanced_motion.cammingon(\n",
    "    follower_axis=\"ZC\",\n",
    "    leader_axis=\"Y\",\n",
    "    table_num=1,\n",
    "    source=CammingSource.Position,                    # leader uses position\n",
    "    output=CammingOutput.SynchronousFollowerRelative  # matches CAMSYNC ...,1\n",
    ")\n",
    "print(\"[D-Q6] queued camming ON (ZC follows Y, relative).\")"
   ]
  },
  {
   "cell_type": "code",
   "execution_count": null,
   "id": "090a8ea5-20cb-4d90-a8ad-f230c8684771",
   "metadata": {},
   "outputs": [],
   "source": [
    "cq.wait_for_empty()\n",
    "print(\"[D-Q7] queue empty — verifying camming bit...\")"
   ]
  },
  {
   "cell_type": "code",
   "execution_count": null,
   "id": "378b04a1-4077-4d1b-ae9a-5302ec2f957b",
   "metadata": {},
   "outputs": [],
   "source": [
    "drive_status = int(results.axis.get(a1.AxisStatusItem.DriveStatus, \"ZC\"))\n",
    "camming_bit  = bool(drive_status & (1 << 16))  # INDEXTOMASK(16)\n",
    "\n",
    "print(f\"[diag] ZC DriveStatus = 0x{drive_status:08X}\")\n",
    "print(f\"[diag] ZC camming bit set? {camming_bit}\")"
   ]
  },
  {
   "cell_type": "code",
   "execution_count": 7,
   "id": "3c900776-7ae6-4956-a5b2-5a05ce8c429e",
   "metadata": {},
   "outputs": [],
   "source": [
    "#### once camming bit set is True, we're right where the Aerobasic command would say CAMSYNC. so next steps is to check the spindle "
   ]
  },
  {
   "cell_type": "code",
   "execution_count": null,
   "id": "5d82e42a-be5c-4c5a-8143-40bf3f085218",
   "metadata": {},
   "outputs": [],
   "source": [
    "## checking if spindle speed is 0\n",
    "io_axis_spindle   = \"X\"   # axis/module hosting the DI bank\n",
    "spindle_input_num = 0     # from AeroBasic: DI[0]\n",
    "\n",
    "val = controller.commands.io.digitalinputget(\n",
    "    axis=io_axis_spindle, input_num=spindle_input_num, execution_task_index=1\n",
    ")\n",
    "print(f\"[spindle] {io_axis_spindle}.DI[{spindle_input_num}] = {val}  (1 ⇒ Spindle Speed 0)\")\n",
    "\n",
    "if val == 1:\n",
    "    raise RuntimeError(\"Spindle Speed 0 — aborting before lead-in.\")\n"
   ]
  },
  {
   "cell_type": "code",
   "execution_count": null,
   "id": "50794649-f57d-43c7-a7c8-4c2fe8c04162",
   "metadata": {},
   "outputs": [],
   "source": [
    "### slow test speeds for cut camming right now\n",
    "\n",
    "LEAD_IN_DIST     = 15.0   # mm\n",
    "LEAD_IN_SPEED    = 1.0    # mm/s\n",
    "FEED_SPEED_TEST  = 2.0    # mm/s\n",
    "SPEED_ZC_RETRACT = 5.0    # mm/s\n"
   ]
  },
  {
   "cell_type": "code",
   "execution_count": null,
   "id": "7ad3efb4-eb2b-4ef6-b278-b561d41ad7d4",
   "metadata": {},
   "outputs": [],
   "source": [
    "# lead-in: Y from ystart → ystart + 15 mm (slow)\n",
    "cq.commands.moveabsolute([\"Y\"], [ystart + LEAD_IN_DIST], [LEAD_IN_SPEED])\n"
   ]
  },
  {
   "cell_type": "code",
   "execution_count": null,
   "id": "3370b2e2-763e-482c-90db-0be5e67a5be2",
   "metadata": {},
   "outputs": [],
   "source": [
    "# cut feed: Y to yend (slow test feed)\n",
    "cq.commands.moveabsolute([\"Y\"], [yend], [FEED_SPEED_TEST])\n",
    "cq.commands.waitforinposition([\"Y\"])\n"
   ]
  },
  {
   "cell_type": "code",
   "execution_count": null,
   "id": "c2e7a3d7-d952-4848-aca3-db6589c3b64f",
   "metadata": {},
   "outputs": [],
   "source": [
    "# cam OFF (AeroBasic: SYNC ZC 1 0)\n",
    "cq.commands.advanced_motion.cammingoff(follower_axis=\"ZC\")\n"
   ]
  },
  {
   "cell_type": "code",
   "execution_count": null,
   "id": "34733213-07be-4e10-b5f7-82646f89069c",
   "metadata": {},
   "outputs": [],
   "source": [
    "# retract ZC and free table 1\n",
    "cq.commands.moveabsolute([\"ZC\"], [zstart + safelift], [SPEED_ZC_RETRACT])\n",
    "cq.commands.waitforinposition([\"ZC\"])\n",
    "cq.commands.advanced_motion.cammingfreetable(1)\n"
   ]
  },
  {
   "cell_type": "code",
   "execution_count": null,
   "id": "c2b4e90c-feee-4227-9439-87b7218998b2",
   "metadata": {},
   "outputs": [],
   "source": [
    "# drain the queued work\n",
    "cq.wait_for_empty()\n",
    "print(\"[post-cut] lead-in, cut, cam OFF, ZC retract, free table — done.\")"
   ]
  },
  {
   "cell_type": "code",
   "execution_count": null,
   "id": "f0e0eb30-1161-446e-8086-8136da0d553f",
   "metadata": {},
   "outputs": [],
   "source": [
    "## verify camming is off\n",
    "drive_status = int(results.axis.get(a1.AxisStatusItem.DriveStatus, \"ZC\"))\n",
    "camming_bit  = bool(drive_status & (1 << 16))\n",
    "print(f\"[diag] ZC camming bit after cammingoff? {camming_bit}\")"
   ]
  },
  {
   "cell_type": "code",
   "execution_count": null,
   "id": "06ae5610-e70d-4ec2-810a-e099aba80558",
   "metadata": {},
   "outputs": [],
   "source": [
    "# Keep or create a global/current row index i\n",
    "######## haven't created a loop or a function yet because just testing raw steps ########\n",
    "######## at the moment to make sure everything makes sense first #######\n",
    "try:\n",
    "    i\n",
    "except NameError:\n",
    "    i = 0  # if not defined yet, start at first row already used\n",
    "\n",
    "i += 1  # advance to next row\n",
    "if i >= len(raw_lines):\n",
    "    print(\"[next] No more cuts — reached end of Master.txt\")\n",
    "else:\n",
    "    row = raw_lines[i].split()\n",
    "    assert len(row) >= 5, f\"Expected 5 fields on line {i}, got {len(row)}: {row}\"\n",
    "\n",
    "    camnum  = int(row[0])\n",
    "    xvalue  = float(row[1])\n",
    "    ystart  = float(row[2])\n",
    "    zstart  = float(row[3])\n",
    "    yend    = float(row[4])\n",
    "\n",
    "    cam_filename = f\"CutCam{cuttype}{camnum:04d}.Cam\"\n",
    "    cam_path     = base_path / cam_filename\n",
    "\n",
    "    print(f\"[next] i={i} camnum={camnum}  x={xvalue}  ystart={ystart}  zstart={zstart}  yend={yend}\")\n",
    "    print(f\"[next] cam file → {cam_path}\")\n",
    "    # Now repeat Step D: parse cam file → load table → stage → cammingon → spindle check → lead-in & cut → cammingoff → retract → free."
   ]
  },
  {
   "cell_type": "markdown",
   "id": "5ba5ad16-17d3-4aa6-9ec0-a3a99e3f0148",
   "metadata": {},
   "source": [
    "# Cuts are Done from Master.txt File"
   ]
  },
  {
   "cell_type": "code",
   "execution_count": null,
   "id": "017ad237-33b6-4930-9443-b1048d64dddc",
   "metadata": {},
   "outputs": [],
   "source": [
    "# drain and end any open queues on task 1\n",
    "for qname in (\"cq\"): #, \"cq2\"):\n",
    "    try:\n",
    "        q = globals().get(qname)\n",
    "        if q is not None:\n",
    "            try:\n",
    "                q.wait_for_empty()\n",
    "            except Exception:\n",
    "                pass\n",
    "            controller.runtime.commands.end_command_queue(q)\n",
    "            print(f\"[E] ended queue: {qname}\")\n",
    "    except Exception as e:\n",
    "        print(f\"[E] (note) could not end {qname}: {e}\")"
   ]
  },
  {
   "cell_type": "code",
   "execution_count": null,
   "id": "f51f7a80-681f-4512-b743-eaa8f66086f8",
   "metadata": {},
   "outputs": [],
   "source": [
    "# flood coolant off (D06=0)\n",
    "io_axis_flood = \"X\"  # change if your flood IO lives elsewhere\n",
    "controller.commands.io.digitaloutputset(axis=io_axis_flood, output_num=6, value=0, execution_task_index=1)\n",
    "print(\"flood coolant OFF (DO6=0).\")\n"
   ]
  },
  {
   "cell_type": "code",
   "execution_count": null,
   "id": "14a76caa-b6d0-475f-b055-0db605e7d60f",
   "metadata": {},
   "outputs": [],
   "source": [
    "### no command_queue okay??\n",
    "motion = controller.commands.motion\n",
    "motion.moveabsolute([\"ZC\"], [-0.0005], [20.0], execution_task_index=1)\n",
    "motion.waitforinposition([\"ZC\"], execution_task_index=1)\n",
    "print(\"[E] ZC parked at -0.0005.\")"
   ]
  },
  {
   "cell_type": "code",
   "execution_count": null,
   "id": "0ef65efb-8e0b-4835-b247-89b8bd9fd8b5",
   "metadata": {},
   "outputs": [],
   "source": [
    "### create lockfile\n",
    "import datetime as _dt\n",
    "lock_path = base_path / lockname\n",
    "msg = f\"The cutting has been completed, directory is now locked ({_dt.datetime.now().isoformat(timespec='seconds')})\"\n",
    "\n",
    "with open(lock_path, \"w\", encoding=\"utf-8\") as f:\n",
    "    f.write(msg + \"\\n\")\n",
    "\n",
    "print(f\"[E] wrote lockfile → {lock_path}\")"
   ]
  },
  {
   "cell_type": "code",
   "execution_count": null,
   "id": "180af743-5f6a-4432-8e03-aefe3e0bf960",
   "metadata": {},
   "outputs": [],
   "source": [
    "###### still going to leave spindle running by the way"
   ]
  },
  {
   "cell_type": "code",
   "execution_count": null,
   "id": "a426f545-01c0-4d65-8e0e-df0eb9fa15ce",
   "metadata": {},
   "outputs": [],
   "source": []
  },
  {
   "cell_type": "code",
   "execution_count": null,
   "id": "aac6b015-ea55-4dbd-a9f3-12ee2acd7437",
   "metadata": {},
   "outputs": [],
   "source": []
  },
  {
   "cell_type": "markdown",
   "id": "1617aed9-18f0-43c9-bee1-436129a78241",
   "metadata": {},
   "source": [
    "# End the Queue"
   ]
  },
  {
   "cell_type": "code",
   "execution_count": null,
   "id": "8be7c746-0a35-4c10-8696-cb3d1e1eea34",
   "metadata": {},
   "outputs": [],
   "source": [
    "controller.runtime.commands.end_command_queue(cq)"
   ]
  },
  {
   "cell_type": "markdown",
   "id": "7aad6f08-cd58-4943-94aa-b2553b610634",
   "metadata": {},
   "source": [
    "# Command Queue Python Module"
   ]
  },
  {
   "cell_type": "markdown",
   "id": "09d6fce0-125f-4a1b-b6af-481bb1c4d0eb",
   "metadata": {
    "jupyter": {
     "source_hidden": true
    }
   },
   "source": [
    "WARNINGS FROM THE DOCUMENTATION:\n",
    "- must keep command queue populated at all times. If the command queue is not populated, your process will stall and motion problems might occur\n",
    "- if a `MovePt()` or `MovePvt()` command is the most recently executed command from the queue, and a starvation of the command queue has occurred, the controlloer **will not** automatically decelerate the axes that you specified to a comand to zero velocity \n",
    "\n",
    "NOTES FROM THE DOCUMENTATION\n",
    "- when the command queue begins on a task, the controller executes all the commands that are in the command queue as quickly as possible. If the controller automatically executes commands from the command queue more quickly than you can add them, the command queue will not have a sufficient quantity of commands to execute. This condition is known as a starvation of the command queue. \n",
    "- while the command queue is active, you can examine its status to find the number of times that a starvation of the command queue has occurred. \n",
    "- if starvation mode of the queue occurs, velocity blending mode is enabled on the task, AND most recently executed command from the command queue is a `MoveCcw()`, `MoveCw()`, or `MoveLinear()` command then the controller automatically decelerates them to zero velocity to prevent motion problems from occurring \n",
    "- can use `CommandQueueCount` task status item to make the first command wait for the command queue to fill with a specified number of commands before the controller executes them.\n",
    "\n",
    "RELEVANT LINK: \n",
    "- http://help.aerotech.com/automation1/Content/APIs/Python/References/Command-Queue-Python.htm?Highlight=advanced_motion"
   ]
  },
  {
   "cell_type": "markdown",
   "id": "c1500af3-3ef9-45f4-96ea-c93b03534cd1",
   "metadata": {},
   "source": [
    "# Status Command Queue Commands to Have in Arsenal"
   ]
  },
  {
   "cell_type": "code",
   "execution_count": null,
   "id": "ecb88b04-0092-4b4a-a449-e470a3e19a4f",
   "metadata": {},
   "outputs": [],
   "source": [
    "command_queue.status.number_of_times.emptied"
   ]
  },
  {
   "cell_type": "code",
   "execution_count": null,
   "id": "fd622727-d6e5-46f6-962a-46bbb2e006b4",
   "metadata": {},
   "outputs": [],
   "source": [
    "command_queue.execute(\"wait(StatusGetTaskItem ... >= 20)\")"
   ]
  },
  {
   "cell_type": "code",
   "execution_count": null,
   "id": "f5f68186-84eb-4f40-a123-458ee18482a8",
   "metadata": {},
   "outputs": [],
   "source": []
  },
  {
   "cell_type": "code",
   "execution_count": null,
   "id": "2f5e6acc-af1c-4c5c-81c4-0be9f9e4e583",
   "metadata": {},
   "outputs": [],
   "source": []
  },
  {
   "cell_type": "code",
   "execution_count": null,
   "id": "4f74499c-9e09-4d36-b716-a9673e58bf94",
   "metadata": {},
   "outputs": [],
   "source": []
  },
  {
   "cell_type": "markdown",
   "id": "02ffb7c4-7559-43e6-8243-3ba46b8f3db9",
   "metadata": {},
   "source": [
    "# Important thoughts to factor in\n",
    "1. Make sure UI threading is not going to cause problems with motion. Be careful in understanding this deeply. https://help.aerotech.com/automation1/Content/APIs/Python/Get-Started/Guidelines-Python.htm\n",
    "2. add a stopping command execution component if lockfile present. right now, it's just a print statement.\n",
    "3. Two ways to use the queue (both OK):\n",
    "“Stream & drain”: enqueue → cq.wait_for_empty() → enqueue more → … → end_command_queue(cq).\n",
    "“Arm & go”: cq.pause() → enqueue everything → cq.resume() → cq.wait_for_empty() → end_command_queue(cq).\n",
    "4. have we lost the feedspeed anywhere in this code?\n",
    "5. "
   ]
  },
  {
   "cell_type": "raw",
   "id": "b6483af7-c8c7-4e13-be50-2c7b9152a116",
   "metadata": {},
   "source": [
    "What “camming” is (leader vs follower)\n",
    "Think of a cam table as a lookup mapping:\n",
    "leader position (Y) → follower command (ZC).\n",
    "When you turn camming ON, the follower axis (ZC) is no longer driven by individual Z moves. Instead, the controller computes ZC’s target continuously from the table as Y moves.\n",
    "In your flow:\n",
    "Leader = Y (the axis you sweep along the cut).\n",
    "Follower = ZC (blade depth).\n",
    "Table = pairs of numbers (first column: Y distance, second column: ZC value). With linear interpolation, ZC smoothly follows as Y advances.\n",
    "Relative vs Absolute sync: you used relative (CAMSYNC … ,1).\n",
    "Relative means: “treat the current leader position as table 0.”\n",
    "So after syncing at Y = ystart, the next 10–15 mm of Y travel will traverse the first 10–15 mm of your cam table.\n",
    "If you want Z to stay flat during the lead-in, make the start of your .Cam table flat for that distance.\n",
    "If you wanted the table to start only after the lead-in, you’d sync later (e.g., at ystart+lead_in) or use absolute sync with a matching abscissa.\n"
   ]
  },
  {
   "cell_type": "code",
   "execution_count": null,
   "id": "a67e1224-3929-48a4-a818-ea27e56c59a6",
   "metadata": {},
   "outputs": [],
   "source": []
  }
 ],
 "metadata": {
  "kernelspec": {
   "display_name": "Python 3 (ipykernel)",
   "language": "python",
   "name": "python3"
  },
  "language_info": {
   "codemirror_mode": {
    "name": "ipython",
    "version": 3
   },
   "file_extension": ".py",
   "mimetype": "text/x-python",
   "name": "python",
   "nbconvert_exporter": "python",
   "pygments_lexer": "ipython3",
   "version": "3.13.1"
  }
 },
 "nbformat": 4,
 "nbformat_minor": 5
}
