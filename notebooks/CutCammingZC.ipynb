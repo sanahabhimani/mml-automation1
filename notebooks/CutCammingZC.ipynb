{
 "cells": [
  {
   "cell_type": "code",
   "execution_count": 1,
   "id": "9828015d-f1a6-42ee-a5a6-d7eba9e0a0d4",
   "metadata": {},
   "outputs": [],
   "source": [
    "import automation1 as a1\n",
    "import time\n",
    "import numpy as np\n",
    "import matplotlib.pyplot as plt\n",
    "\n",
    "import os\n",
    "import serial\n",
    "import time\n",
    "\n",
    "import math"
   ]
  },
  {
   "cell_type": "code",
   "execution_count": 26,
   "id": "35c96451-535b-4352-95d7-8ea5d6505ded",
   "metadata": {},
   "outputs": [],
   "source": [
    "## make sure is available on Saw1 computer\n",
    "from pathlib import Path\n",
    "from pprint import pprint"
   ]
  },
  {
   "cell_type": "markdown",
   "id": "099457d3-123b-413b-b664-c10ad9140aff",
   "metadata": {},
   "source": [
    "# Connect to Controller"
   ]
  },
  {
   "cell_type": "code",
   "execution_count": 3,
   "id": "c48907a8-1e32-474e-a136-483798dc7756",
   "metadata": {
    "scrolled": true
   },
   "outputs": [
    {
     "name": "stdout",
     "output_type": "stream",
     "text": [
      "True\n"
     ]
    }
   ],
   "source": [
    "controller = a1.Controller.connect()\n",
    "controller.start()\n",
    "print(controller.is_running)"
   ]
  },
  {
   "cell_type": "markdown",
   "id": "85884930-5394-49c3-b1ea-ae6fc0f1ae37",
   "metadata": {
    "jp-MarkdownHeadingCollapsed": true
   },
   "source": [
    "# A. Setup & Constants"
   ]
  },
  {
   "cell_type": "code",
   "execution_count": 4,
   "id": "4436e162-e00e-4e92-9429-7cf5052f7218",
   "metadata": {},
   "outputs": [],
   "source": [
    "base_path = Path(r\"C:\\Users\\UNIVERSITY\\Desktop\\RunData\\Automation1_TEST\\SpindleC\\CutCammingThin\")\n",
    "# Filenames\n",
    "cuttype     = \"Thin\"                # Equivalent to #define cuttype \"Thin\"\n",
    "mastername  = \"Master.txt\"          # The list of cuts\n",
    "datafile    = \"DataCollectCut.dat\"  # Not needed? Data collection output\n",
    "outfile     = \"MetCheck.txt\"        # Not needed? Metrology check output\n",
    "lockname    = \"lockfile.lock\"       # Lockfile to prevent re-running"
   ]
  },
  {
   "cell_type": "code",
   "execution_count": 5,
   "id": "32b43b55-0642-4b5e-9c00-8e0c19a9fa2b",
   "metadata": {},
   "outputs": [
    {
     "name": "stdout",
     "output_type": "stream",
     "text": [
      "Base path:  C:\\Users\\UNIVERSITY\\Desktop\\RunData\\Automation1_TEST\\SpindleC\\CutCammingThin\n",
      "Master file:  C:\\Users\\UNIVERSITY\\Desktop\\RunData\\Automation1_TEST\\SpindleC\\CutCammingThin\\Master.txt\n",
      "Lock file:  C:\\Users\\UNIVERSITY\\Desktop\\RunData\\Automation1_TEST\\SpindleC\\CutCammingThin\\lockfile.lock\n"
     ]
    }
   ],
   "source": [
    "# Parameters\n",
    "safelift        = 10.0   # 20 mm above z-start for safe moves\n",
    "numpoints       = 10     # NOT NEEDED number of points (if doing metrology checks)\n",
    "lifter_settle_s = 2    # seconds\n",
    "feedspeed       = 5.0   # 11 mm/s \n",
    "\n",
    "# Build full file paths (Path objects)\n",
    "master_path = base_path / mastername\n",
    "data_path   = base_path / datafile\n",
    "out_path    = base_path / outfile\n",
    "lock_path   = base_path / lockname\n",
    "\n",
    "# Just to verify in notebook\n",
    "print(\"Base path: \", base_path)\n",
    "print(\"Master file: \", master_path)\n",
    "print(\"Lock file: \", lock_path)"
   ]
  },
  {
   "cell_type": "markdown",
   "id": "eea7f178-6c2d-409e-9031-1723c4e40f4b",
   "metadata": {
    "jp-MarkdownHeadingCollapsed": true
   },
   "source": [
    "# B. Initial Motions, Digital Output (DO) (Turn Spindle/Flood Cooling On), lockfile check\n",
    "\n",
    "- This section, in the order that it currently exists, works well.\n",
    "- Notice that it involves a lot of pauses and resumes and looks for the attributes\n",
    "- here, i can isolate step B to be its own separate script for now---knowing that it will do the setup of enabling the relevant axes, move them up to 0 in Z, and turn on the spindle and flood cooling appropriately for ZC at the moment"
   ]
  },
  {
   "cell_type": "code",
   "execution_count": null,
   "id": "2271036b-6141-4a5c-b2d9-da6b10938e94",
   "metadata": {},
   "outputs": [],
   "source": [
    "lock_path = base_path / lockname\n",
    "if lock_path.exists():\n",
    "    print(f\"[guard] Lockfile present at {lock_path} — stopping here.\")\n",
    "    ### Need to actually add a stopping component if putting this in script form ###"
   ]
  },
  {
   "cell_type": "markdown",
   "id": "6750fbb2-8a61-4275-a7c0-3cbbe8a9dcf3",
   "metadata": {},
   "source": [
    "**To do**: need a way to query state of task window before running command queue to ensure exception errors in python don't occur"
   ]
  },
  {
   "cell_type": "code",
   "execution_count": null,
   "id": "2a690614-94e3-4b97-a27f-74db0f44f62c",
   "metadata": {},
   "outputs": [],
   "source": [
    "# start a queue with capacity 64, and block if full\n",
    "cq = controller.runtime.commands.begin_command_queue(task=1, command_capacity=64, should_block_if_full=True)\n",
    "print(\"Queue started on task:\", cq.task_index, \"capacity:\", cq.command_capacity)\n"
   ]
  },
  {
   "cell_type": "code",
   "execution_count": null,
   "id": "70080e5c-5221-479f-bd15-d408d4219050",
   "metadata": {},
   "outputs": [],
   "source": [
    "cq.pause()"
   ]
  },
  {
   "cell_type": "code",
   "execution_count": null,
   "id": "d4337280-e65b-4796-942d-abc3af015401",
   "metadata": {},
   "outputs": [],
   "source": [
    "# Enable axes\n",
    "for axis in [\"X\", \"Y\", \"ZC\"]:\n",
    "    cq.commands.motion.enable(axis)"
   ]
  },
  {
   "cell_type": "code",
   "execution_count": null,
   "id": "88bd5b45-2417-49f7-8b58-b5a8816fcc00",
   "metadata": {},
   "outputs": [],
   "source": [
    "from pprint import pprint\n",
    "\n",
    "s = cq.status  # property, not callable\n",
    "\n",
    "# Show non-callable public attributes + their values\n",
    "attrs = {\n",
    "    name: getattr(s, name)\n",
    "    for name in dir(s)\n",
    "    if not name.startswith(\"_\") and not callable(getattr(s, name, None))\n",
    "}\n",
    "pprint(attrs)\n"
   ]
  },
  {
   "cell_type": "code",
   "execution_count": null,
   "id": "a6c8127e-d4cd-445d-b950-baa637aea7da",
   "metadata": {},
   "outputs": [],
   "source": [
    "cq.resume()"
   ]
  },
  {
   "cell_type": "code",
   "execution_count": null,
   "id": "58166def-e025-4359-b496-78906619ef33",
   "metadata": {},
   "outputs": [],
   "source": [
    "cq.pause()"
   ]
  },
  {
   "cell_type": "code",
   "execution_count": null,
   "id": "485a67a5-479c-49e5-bb3b-cf4f16ff9ea5",
   "metadata": {},
   "outputs": [],
   "source": [
    "# queued versions of the same calls you used before\n",
    "#cq.commands.motion.moveabsolute([\"ZA\"], [0.0],     [20.0])\n",
    "#cq.commands.motion.moveabsolute([\"ZB\"], [0.0],     [20.0])\n",
    "cq.commands.motion.moveabsolute([\"ZC\"], [-0.0005], [20.0])\n",
    "cq.commands.motion.waitforinposition([\"ZC\"])\n"
   ]
  },
  {
   "cell_type": "code",
   "execution_count": null,
   "id": "da803d22-504c-4b80-a17f-a0e1f8fc79bb",
   "metadata": {},
   "outputs": [],
   "source": [
    "from pprint import pprint\n",
    "\n",
    "s = cq.status  # property, not callable\n",
    "\n",
    "# Show non-callable public attributes + their values\n",
    "attrs = {\n",
    "    name: getattr(s, name)\n",
    "    for name in dir(s)\n",
    "    if not name.startswith(\"_\") and not callable(getattr(s, name, None))\n",
    "}\n",
    "pprint(attrs)\n"
   ]
  },
  {
   "cell_type": "code",
   "execution_count": null,
   "id": "600b2bfa-091e-413c-98e1-72ece557f362",
   "metadata": {},
   "outputs": [],
   "source": [
    "cq.resume()"
   ]
  },
  {
   "cell_type": "code",
   "execution_count": null,
   "id": "0b94d7af-e65c-40b9-b98a-c30eb1b7c65f",
   "metadata": {},
   "outputs": [],
   "source": [
    "from pprint import pprint\n",
    "\n",
    "s = cq.status  # property, not callable\n",
    "\n",
    "# Show non-callable public attributes + their values\n",
    "attrs = {\n",
    "    name: getattr(s, name)\n",
    "    for name in dir(s)\n",
    "    if not name.startswith(\"_\") and not callable(getattr(s, name, None))\n",
    "}\n",
    "pprint(attrs)\n"
   ]
  },
  {
   "cell_type": "code",
   "execution_count": null,
   "id": "9760b7d5-ceca-4418-8278-79b7cc91809a",
   "metadata": {},
   "outputs": [],
   "source": [
    "cq.pause()"
   ]
  },
  {
   "cell_type": "code",
   "execution_count": null,
   "id": "a82bfd06-eca7-4f8e-9dd8-543a613c635b",
   "metadata": {},
   "outputs": [],
   "source": [
    "## turn on the digital outputs and set the dwell in the queue\n",
    "io_axis_misc  = \"X\"  # adjust if your IO lives elsewhere\n",
    "io_axis_flood = \"X\"\n",
    "\n",
    "cq.commands.io.digitaloutputset(axis=io_axis_misc,  output_num=10, value=1)\n",
    "cq.commands.io.digitaloutputset(axis=io_axis_flood, output_num=6,  value=1)\n",
    "cq.commands.motion.movedelay([\"X\",\"Y\",\"ZC\"], delay_time=11_000)  # 11 s\n"
   ]
  },
  {
   "cell_type": "code",
   "execution_count": null,
   "id": "a645c5b4-d03e-4003-aa25-f144d68aef74",
   "metadata": {},
   "outputs": [],
   "source": [
    "cq.resume()   \n",
    "cq.wait_for_empty()  # block until all queued commands above finish\n"
   ]
  },
  {
   "cell_type": "code",
   "execution_count": null,
   "id": "dd75ecbf-55c4-44c5-ab43-f0b994f460a9",
   "metadata": {},
   "outputs": [],
   "source": [
    "from pprint import pprint\n",
    "\n",
    "s = cq.status  # property, not callable\n",
    "\n",
    "# Show non-callable public attributes + their values\n",
    "attrs = {\n",
    "    name: getattr(s, name)\n",
    "    for name in dir(s)\n",
    "    if not name.startswith(\"_\") and not callable(getattr(s, name, None))\n",
    "}\n",
    "pprint(attrs)\n"
   ]
  },
  {
   "cell_type": "code",
   "execution_count": null,
   "id": "58925bce-6d36-42a7-97b0-29e5c788c161",
   "metadata": {},
   "outputs": [],
   "source": [
    "controller.runtime.commands.end_command_queue(cq)\n",
    "## we're done with the command queue as we query some states before restarting it but this leaves us with \n",
    "## spindle C on and flood cooling on even after command queue is ended"
   ]
  },
  {
   "cell_type": "markdown",
   "id": "4b3f8667-fa7a-4be6-8041-94e0558a35c6",
   "metadata": {},
   "source": [
    "#### ZC Drive Status Check "
   ]
  },
  {
   "cell_type": "code",
   "execution_count": null,
   "id": "4785fa28-aff3-4bde-bcce-7951e43ebcd7",
   "metadata": {},
   "outputs": [],
   "source": [
    "cfg = a1.StatusItemConfiguration()\n",
    "cfg.axis.add(a1.AxisStatusItem.DriveStatus,     \"ZC\")\n",
    "cfg.axis.add(a1.AxisStatusItem.ProgramPosition, \"ZC\")\n",
    "\n",
    "results = controller.runtime.status.get_status_items(cfg)\n",
    "\n",
    "# Extract values\n",
    "drive_status = results.axis.get(a1.AxisStatusItem.DriveStatus, \"ZC\").value\n",
    "program_pos  = results.axis.get(a1.AxisStatusItem.ProgramPosition, \"ZC\").value\n",
    "\n",
    "# Convert drive status to int and mask off camming bit (bit 16)\n",
    "camming_bit = int(drive_status) & (1 << 16)\n",
    "\n",
    "print(f\"[diag] ZC camming bit set? {'Yes' if camming_bit else 'No'}\")\n",
    "print(f\"[diag] ZC ProgramPosition = {program_pos:.4f} mm\")\n"
   ]
  },
  {
   "cell_type": "markdown",
   "id": "c44850c8-171c-4911-9815-3f71ad66df2a",
   "metadata": {
    "jp-MarkdownHeadingCollapsed": true
   },
   "source": [
    "# C. Open Master.txt File\n",
    "- can confirm this does proper checking of Master.txt and camming files\n",
    "- good to 'finalize'"
   ]
  },
  {
   "cell_type": "code",
   "execution_count": 6,
   "id": "180a91b7-a82b-4c5e-a4d5-753f02e5eab5",
   "metadata": {},
   "outputs": [
    {
     "name": "stdout",
     "output_type": "stream",
     "text": [
      "[step C] Found Master.txt: C:\\Users\\UNIVERSITY\\Desktop\\RunData\\Automation1_TEST\\SpindleC\\CutCammingThin\\Master.txt\n",
      "[step C] Read 5 line(s) from Master.txt.\n",
      " first line → 1770 177.986 -172.66421914434062 -23.0098180322404 -117.66421914434062\n"
     ]
    }
   ],
   "source": [
    "assert master_path.exists(), f\"Master file not found: {master_path}\"\n",
    "print(\"[step C] Found Master.txt:\", master_path)\n",
    "\n",
    "with open(master_path, \"r\") as f:\n",
    "    lines = [ln.strip() for ln in f if ln.strip()]\n",
    "\n",
    "print(f\"[step C] Read {len(lines)} line(s) from Master.txt.\")\n",
    "if lines:\n",
    "    print(\" first line →\", lines[0])"
   ]
  },
  {
   "cell_type": "code",
   "execution_count": 7,
   "id": "77852fab-f40d-4a4b-ab64-59aa3653cd8f",
   "metadata": {},
   "outputs": [
    {
     "name": "stdout",
     "output_type": "stream",
     "text": [
      "[step C] camnum=1770, x=177.986, ystart=-172.66421914434062, zstart=-23.0098180322404, yend=-117.66421914434062\n"
     ]
    }
   ],
   "source": [
    "# parse the first cut definition\n",
    "# AeroBasic FILEREAD expected 5 numeric values per row\n",
    "# camnum  xvalue  ystart  zstart  yend\n",
    "row0 = lines[0].split()\n",
    "assert len(row0) >= 5, f\"Expected ≥5 fields, got {len(row0)}: {row0}\"\n",
    "\n",
    "camnum  = int(row0[0])\n",
    "xvalue  = float(row0[1])\n",
    "ystart  = float(row0[2])\n",
    "zstart  = float(row0[3])\n",
    "yend    = float(row0[4])\n",
    "\n",
    "print(f\"[step C] camnum={camnum}, x={xvalue}, ystart={ystart}, zstart={zstart}, yend={yend}\")\n",
    "\n",
    "# these two mirror variables the AeroBasic computed (useful later if we do met checks)\n",
    "#yval = ystart\n",
    "#dy   = (yend - ystart) / numpoints if numpoints else 0.0\n",
    "\n",
    "\n",
    "#print(f\"[step C] yval={yval}, dy={dy}\")\n"
   ]
  },
  {
   "cell_type": "code",
   "execution_count": 8,
   "id": "3c03f844-912c-4a46-a30a-2170fa0d47fc",
   "metadata": {},
   "outputs": [
    {
     "name": "stdout",
     "output_type": "stream",
     "text": [
      "[step C] Cam file: C:\\Users\\UNIVERSITY\\Desktop\\RunData\\Automation1_TEST\\SpindleC\\CutCammingThin\\CutCamThin1770.Cam\n"
     ]
    }
   ],
   "source": [
    "## build the cam table file name for this row and check it exists\n",
    "cam_filename = f\"CutCam{cuttype}{camnum:04d}.Cam\"\n",
    "cam_path     = base_path / cam_filename\n",
    "\n",
    "print(\"[step C] Cam file:\", cam_path)\n",
    "if not cam_path.exists():\n",
    "    print(\"Cam file not found.\")\n",
    "\n"
   ]
  },
  {
   "cell_type": "code",
   "execution_count": null,
   "id": "f79b0c4f-9b3a-4ba6-b5ac-6c5d62912cae",
   "metadata": {},
   "outputs": [],
   "source": []
  },
  {
   "cell_type": "code",
   "execution_count": null,
   "id": "8c9a7a06-3a17-4927-aacb-1a5db365b390",
   "metadata": {},
   "outputs": [],
   "source": []
  },
  {
   "cell_type": "code",
   "execution_count": null,
   "id": "526ecc43-80dc-41e9-9712-065edfdab78d",
   "metadata": {},
   "outputs": [],
   "source": []
  },
  {
   "cell_type": "code",
   "execution_count": null,
   "id": "0a8f6535-4a98-4c35-bf54-49b1619024bc",
   "metadata": {},
   "outputs": [],
   "source": []
  },
  {
   "cell_type": "markdown",
   "id": "264d97e2-75fa-4827-bf6f-a404b267f8b6",
   "metadata": {},
   "source": [
    "# D. Main Loop over Master.txt Rows"
   ]
  },
  {
   "cell_type": "code",
   "execution_count": 9,
   "id": "c244597e-3f9a-484f-9acc-d59a12d13fce",
   "metadata": {},
   "outputs": [
    {
     "name": "stdout",
     "output_type": "stream",
     "text": [
      "[step D] Using cam file: C:\\Users\\UNIVERSITY\\Desktop\\RunData\\Automation1_TEST\\SpindleC\\CutCammingThin\\CutCamThin1770.Cam\n",
      " cam> Number of points 0290\n",
      " cam> Master Units (PRIMARY)\n",
      " cam> Slave Units (PRIMARY)\n",
      " cam> 0001 -172.66421914434062 -23.0098180322404\n",
      " cam> 0002 -172.16421914434062 -23.01000955316378\n"
     ]
    }
   ],
   "source": [
    "assert cam_path.exists(), f\"Cam file not found: {cam_path}\"\n",
    "print(\"[step D] Using cam file:\", cam_path)\n",
    "\n",
    "with open(cam_path, \"r\") as f:\n",
    "    shown = 0\n",
    "    for ln in f:\n",
    "        s = ln.strip()\n",
    "        if not s or s.startswith((\"#\",\";\")):\n",
    "            continue\n",
    "        print(\" cam>\", s)\n",
    "        shown += 1\n",
    "        if shown >= 5:\n",
    "            break"
   ]
  },
  {
   "cell_type": "markdown",
   "id": "0208f062-7db0-4804-ba10-8877aad58d04",
   "metadata": {},
   "source": [
    "# Sanah made changes here on August 21, 2025"
   ]
  },
  {
   "cell_type": "code",
   "execution_count": 14,
   "id": "54735cba-b9b3-4963-9733-78df0bcf51ee",
   "metadata": {},
   "outputs": [
    {
     "name": "stdout",
     "output_type": "stream",
     "text": [
      "[warn] Skipping non-numeric line: ;Filename: C:/Users/UNIVERSITY/Desktop/RunData/CCAT_Alumina_350/Surface1/0deg/SpindleC/CutCammingThin/CutCamThin1770.Cam\n",
      "[warn] Skipping non-numeric line: Number of points 0290\n",
      "[warn] Skipping non-numeric line: Master Units (PRIMARY)\n",
      "[warn] Skipping non-numeric line: Slave Units (PRIMARY)\n"
     ]
    }
   ],
   "source": [
    "leader_values = []\n",
    "follower_values = []\n",
    "\n",
    "with open(cam_path, \"r\") as f:\n",
    "    for ln in f:\n",
    "        s = ln.strip()\n",
    "        parts = s.replace(\",\", \" \").split()\n",
    "        if len(parts) < 2:\n",
    "            continue\n",
    "        try:\n",
    "            leader = float(parts[1]) # was 0 \n",
    "            follower = float(parts[2]) # was 1\n",
    "        except ValueError:\n",
    "            print(f\"[warn] Skipping non-numeric line: {s}\")\n",
    "            continue\n",
    "        leader_values.append(leader)\n",
    "        follower_values.append(follower)\n"
   ]
  },
  {
   "cell_type": "code",
   "execution_count": 16,
   "id": "48ef2aad-1d37-4538-bc29-128db6ef340c",
   "metadata": {},
   "outputs": [
    {
     "name": "stdout",
     "output_type": "stream",
     "text": [
      "[-172.66421914434062, -172.16421914434062, -171.66421914434062, -171.16421914434062, -170.66421914434062, -170.16421914434062, -169.66421914434062, -169.16421914434062, -168.66421914434062, -168.16421914434062]\n",
      "[-23.0098180322404, -23.01000955316378, -23.0102013266822, -23.0103933663813, -23.01058568556081, -23.0107782972293, -23.01097121409896, -23.01116444858074, -23.01135801277947, -23.01155191848908]\n"
     ]
    }
   ],
   "source": [
    "print(leader_values[0:10])\n",
    "print(follower_values[0:10])"
   ]
  },
  {
   "cell_type": "code",
   "execution_count": 17,
   "id": "1cc14919-c21f-46af-bc39-4c87cd15a59b",
   "metadata": {},
   "outputs": [
    {
     "name": "stdout",
     "output_type": "stream",
     "text": [
      "Queue started on task: 1 capacity: 64\n"
     ]
    }
   ],
   "source": [
    "# start a queue with capacity 64, and block if full\n",
    "cq = controller.runtime.commands.begin_command_queue(task=1, command_capacity=64, should_block_if_full=True)\n",
    "print(\"Queue started on task:\", cq.task_index, \"capacity:\", cq.command_capacity)\n"
   ]
  },
  {
   "cell_type": "code",
   "execution_count": 18,
   "id": "1561f84b-333b-42c0-9ee5-ce3e5d909d7f",
   "metadata": {},
   "outputs": [],
   "source": [
    "####### initiate advanced motion module ############\n",
    "am = cq.commands.advanced_motion"
   ]
  },
  {
   "cell_type": "code",
   "execution_count": 19,
   "id": "7c85eab3-8d11-4365-ae61-b754f7b85bc2",
   "metadata": {},
   "outputs": [],
   "source": [
    "# free table 1 in case something is already loaded\n",
    "am.cammingfreetable(1) # table_num = 1"
   ]
  },
  {
   "cell_type": "code",
   "execution_count": 20,
   "id": "3ab8dad1-22a4-4745-bc87-dd44580c115e",
   "metadata": {},
   "outputs": [
    {
     "name": "stdout",
     "output_type": "stream",
     "text": [
      "[step D] Camming table 1 loaded.\n"
     ]
    }
   ],
   "source": [
    "am.cammingloadtablefromarray(\n",
    "    table_num=1,\n",
    "    leader_values=leader_values,\n",
    "    follower_values=follower_values,\n",
    "    num_values=len(leader_values),\n",
    "    units_mode=a1.CammingUnits.Primary,               # follower is position vs leader\n",
    "    interpolation_mode=a1.CammingInterpolation.Linear, # typical for .Cam\n",
    "    wrap_mode=a1.CammingWrapping.NoWrap,               # NOWRAP\n",
    "    table_offset=0.0,\n",
    "#    execution_task_index=1\n",
    ")\n",
    "print(\"[step D] Camming table 1 loaded.\")"
   ]
  },
  {
   "cell_type": "code",
   "execution_count": null,
   "id": "764488e6-6be4-45a7-af95-c9c666f94a3f",
   "metadata": {},
   "outputs": [],
   "source": [
    "## good to check the above table"
   ]
  },
  {
   "cell_type": "code",
   "execution_count": 21,
   "id": "fa426f8c-ee95-48c2-a8ef-9db56a230e4e",
   "metadata": {},
   "outputs": [],
   "source": [
    "# slow, safe test speeds\n",
    "SPEED_Y_TRAVERSE  = 20.0   # mm/s\n",
    "SPEED_X_TRAVERSE  = 15.0   # mm/s\n",
    "SPEED_ZC_APPROACH = 2.0   # mm/s  (down to zstart+2)\n",
    "SPEED_ZC_TOUCH    = 0.5   # mm/s  (final settle at zstart)\n"
   ]
  },
  {
   "cell_type": "code",
   "execution_count": 22,
   "id": "8b27e457-1222-4983-b851-ab1252172d1c",
   "metadata": {},
   "outputs": [],
   "source": [
    "cq.pause()"
   ]
  },
  {
   "cell_type": "code",
   "execution_count": 23,
   "id": "f6b90068-31ef-4aeb-9f20-c2e4eeca0577",
   "metadata": {},
   "outputs": [
    {
     "data": {
      "text/plain": [
       "-172.66421914434062"
      ]
     },
     "execution_count": 23,
     "metadata": {},
     "output_type": "execute_result"
    }
   ],
   "source": [
    "ystart"
   ]
  },
  {
   "cell_type": "code",
   "execution_count": 24,
   "id": "d92d0d02-c4f6-4367-a25b-270e807b7056",
   "metadata": {},
   "outputs": [
    {
     "name": "stdout",
     "output_type": "stream",
     "text": [
      "queued Y→ystart + wait.\n"
     ]
    }
   ],
   "source": [
    "# move y to start position, wait for in position\n",
    "cq.commands.motion.moveabsolute([\"Y\"], [ystart], [SPEED_Y_TRAVERSE])\n",
    "cq.commands.motion.waitforinposition([\"Y\"])\n",
    "print(\"queued Y→ystart + wait.\")"
   ]
  },
  {
   "cell_type": "code",
   "execution_count": 27,
   "id": "1e02199e-cbac-4557-8fa2-5f381c059aa4",
   "metadata": {},
   "outputs": [
    {
     "name": "stdout",
     "output_type": "stream",
     "text": [
      "{'is_empty': False,\n",
      " 'is_paused': True,\n",
      " 'number_of_executed_commands': 2,\n",
      " 'number_of_times_emptied': 2,\n",
      " 'number_of_unexecuted_commands': 2}\n"
     ]
    }
   ],
   "source": [
    "s = cq.status  # property, not callable\n",
    "\n",
    "# Show non-callable public attributes + their values\n",
    "attrs = {\n",
    "    name: getattr(s, name)\n",
    "    for name in dir(s)\n",
    "    if not name.startswith(\"_\") and not callable(getattr(s, name, None))\n",
    "}\n",
    "pprint(attrs)\n"
   ]
  },
  {
   "cell_type": "code",
   "execution_count": 28,
   "id": "8d6b974a-5c02-4e74-9a9b-549fbdcd8d25",
   "metadata": {},
   "outputs": [],
   "source": [
    "cq.resume()"
   ]
  },
  {
   "cell_type": "code",
   "execution_count": 29,
   "id": "84d38672-662f-4d95-8ef3-95d5227157fb",
   "metadata": {},
   "outputs": [
    {
     "data": {
      "text/plain": [
       "177.986"
      ]
     },
     "execution_count": 29,
     "metadata": {},
     "output_type": "execute_result"
    }
   ],
   "source": [
    "xvalue"
   ]
  },
  {
   "cell_type": "code",
   "execution_count": 30,
   "id": "f20cb774-6318-46a2-9262-18712c5056b3",
   "metadata": {},
   "outputs": [
    {
     "name": "stdout",
     "output_type": "stream",
     "text": [
      "[D-Q4] queued X→xvalue.\n"
     ]
    }
   ],
   "source": [
    "## move X \n",
    "cq.commands.motion.moveabsolute([\"X\"], [xvalue], [SPEED_X_TRAVERSE])\n",
    "print(\"[D-Q4] queued X→xvalue.\")"
   ]
  },
  {
   "cell_type": "code",
   "execution_count": 31,
   "id": "76e65fe8-ca32-47a2-90f0-ebe78be4bb72",
   "metadata": {},
   "outputs": [
    {
     "name": "stdout",
     "output_type": "stream",
     "text": [
      "{'is_empty': True,\n",
      " 'is_paused': False,\n",
      " 'number_of_executed_commands': 5,\n",
      " 'number_of_times_emptied': 4,\n",
      " 'number_of_unexecuted_commands': 0}\n"
     ]
    }
   ],
   "source": [
    "s = cq.status  # property, not callable\n",
    "\n",
    "# Show non-callable public attributes + their values\n",
    "attrs = {\n",
    "    name: getattr(s, name)\n",
    "    for name in dir(s)\n",
    "    if not name.startswith(\"_\") and not callable(getattr(s, name, None))\n",
    "}\n",
    "pprint(attrs)\n"
   ]
  },
  {
   "cell_type": "code",
   "execution_count": null,
   "id": "2fd3ab2f-b190-47a7-8d31-58aa7cd664a4",
   "metadata": {},
   "outputs": [],
   "source": [
    "cq.pause()"
   ]
  },
  {
   "cell_type": "code",
   "execution_count": 32,
   "id": "94c7031b-fb41-4b26-bf8b-84c5dd1eeb03",
   "metadata": {},
   "outputs": [],
   "source": [
    "## move ZC --- do we need to do this? yes\n",
    "cq.commands.motion.moveabsolute([\"ZC\"], [zstart + 2.0], [SPEED_ZC_APPROACH])\n",
    "cq.commands.motion.moveabsolute([\"ZC\"], [zstart],        [SPEED_ZC_TOUCH])\n",
    "cq.commands.motion.waitforinposition([\"ZC\"])"
   ]
  },
  {
   "cell_type": "code",
   "execution_count": 36,
   "id": "1b6c8a01-ea1e-4a8e-bba1-5ec194eafb72",
   "metadata": {},
   "outputs": [
    {
     "name": "stdout",
     "output_type": "stream",
     "text": [
      "{'is_empty': True,\n",
      " 'is_paused': False,\n",
      " 'number_of_executed_commands': 9,\n",
      " 'number_of_times_emptied': 6,\n",
      " 'number_of_unexecuted_commands': 0}\n"
     ]
    }
   ],
   "source": [
    "s = cq.status  # property, not callable\n",
    "\n",
    "# Show non-callable public attributes + their values\n",
    "attrs = {\n",
    "    name: getattr(s, name)\n",
    "    for name in dir(s)\n",
    "    if not name.startswith(\"_\") and not callable(getattr(s, name, None))\n",
    "}\n",
    "pprint(attrs)\n"
   ]
  },
  {
   "cell_type": "code",
   "execution_count": 34,
   "id": "4c916349-c1a1-43c1-a14d-e1ca2806852e",
   "metadata": {},
   "outputs": [
    {
     "name": "stdout",
     "output_type": "stream",
     "text": [
      "[D-Q6] queued camming ON (ZC follows Y, relative).\n"
     ]
    }
   ],
   "source": [
    "\n",
    "\n",
    "cq.commands.advanced_motion.cammingon(\n",
    "    follower_axis=\"ZC\",\n",
    "    leader_axis=\"Y\",\n",
    "    table_num=1,\n",
    "    source=a1.CammingSource.PositionCommand,                    # leader uses position\n",
    "    output=a1.CammingOutput.RelativePosition  # matches CAMSYNC ...,1\n",
    ")\n",
    "print(\"[D-Q6] queued camming ON (ZC follows Y, relative).\")"
   ]
  },
  {
   "cell_type": "markdown",
   "id": "0378337c-8652-4aa6-a4f1-d1c7c516d2bc",
   "metadata": {},
   "source": [
    "CHECK ZC AXIS STATUS FOR CAMMING BIT STATE\n",
    "-- meaning follower camming mode for ZC is engaged and ZC is ready to follow the camming table as soon as Y advances"
   ]
  },
  {
   "cell_type": "code",
   "execution_count": 37,
   "id": "a6514c47-4f5c-4948-ad52-f0a894831d11",
   "metadata": {},
   "outputs": [
    {
     "name": "stdout",
     "output_type": "stream",
     "text": [
      "[diag] ZC AxisStatus = 0x00012009\n",
      "[diag] ZC camming bit set? Yes\n",
      "[diag] ZC ProgramPosition = -23.0098\n"
     ]
    }
   ],
   "source": [
    "cfg = a1.StatusItemConfiguration()\n",
    "cfg.axis.add(a1.AxisStatusItem.AxisStatus,        \"ZC\")  # bitfield we need\n",
    "cfg.axis.add(a1.AxisStatusItem.ProgramPosition,   \"ZC\")  # optional: handy context\n",
    "\n",
    "results = controller.runtime.status.get_status_items(cfg)\n",
    "\n",
    "\n",
    "# Pull raw values (note the .value, same as the doc’s .Value)\n",
    "axis_status_item = results.axis.get(a1.AxisStatusItem.AxisStatus, \"ZC\")\n",
    "progpos_item     = results.axis.get(a1.AxisStatusItem.ProgramPosition, \"ZC\")\n",
    "\n",
    "axis_status = int(axis_status_item.value)   # bitfield\n",
    "zc_progpos  = float(progpos_item.value)     # mm (primary user units)\n",
    "\n",
    "CAMMING_MASK = 1 << 16  # AeroBasic INDEXTOMASK(16) == 65536\n",
    "is_camming   = bool(axis_status & CAMMING_MASK)\n",
    "\n",
    "print(f\"[diag] ZC AxisStatus = 0x{axis_status:08X}\")\n",
    "print(f\"[diag] ZC camming bit set? {'Yes' if is_camming else 'No'}\")\n",
    "print(f\"[diag] ZC ProgramPosition = {zc_progpos:.4f}\")\n"
   ]
  },
  {
   "cell_type": "code",
   "execution_count": null,
   "id": "3c900776-7ae6-4956-a5b2-5a05ce8c429e",
   "metadata": {},
   "outputs": [],
   "source": [
    "#### once camming bit set is True, we're right where the Aerobasic command would say CAMSYNC. so next steps is to check the spindle "
   ]
  },
  {
   "cell_type": "code",
   "execution_count": 39,
   "id": "c83dd0e7-6b71-46db-b2e1-177f5b6fdca2",
   "metadata": {},
   "outputs": [],
   "source": [
    "controller.runtime.commands.end_command_queue(cq)"
   ]
  },
  {
   "cell_type": "code",
   "execution_count": 41,
   "id": "5d82e42a-be5c-4c5a-8143-40bf3f085218",
   "metadata": {},
   "outputs": [
    {
     "name": "stdout",
     "output_type": "stream",
     "text": [
      "[spindle] X.DI[0] = 0  (1 ⇒ Spindle Speed 0)\n"
     ]
    }
   ],
   "source": [
    "## checking if spindle speed is 0\n",
    "## MAKE SURE THE COMMAND QUEUE IS ENDED BEFORE RUNNING THIS. THROWS TASK STATE ERROR IF COMMAND QUEUE IS STILL ON\n",
    "io_axis_spindle   = \"X\"   # axis/module hosting the DI bank\n",
    "spindle_input_num = 0     # from AeroBasic: DI[0]\n",
    "\n",
    "val = controller.runtime.commands.io.digitalinputget(\n",
    "    axis=io_axis_spindle, input_num=spindle_input_num, execution_task_index=1\n",
    ")\n",
    "print(f\"[spindle] {io_axis_spindle}.DI[{spindle_input_num}] = {val}  (1 ⇒ Spindle Speed 0)\")\n",
    "\n",
    "if val == 1:\n",
    "    raise RuntimeError(\"Spindle Speed 0 — aborting before lead-in.\")\n"
   ]
  },
  {
   "cell_type": "code",
   "execution_count": 52,
   "id": "eea59eeb-5f41-4879-9e01-9bf520cb605d",
   "metadata": {},
   "outputs": [
    {
     "name": "stdout",
     "output_type": "stream",
     "text": [
      "Queue started on task: 1 capacity: 64\n"
     ]
    }
   ],
   "source": [
    "# start a queue with capacity 64, and block if full\n",
    "cq = controller.runtime.commands.begin_command_queue(task=1, command_capacity=64, should_block_if_full=True)\n",
    "print(\"Queue started on task:\", cq.task_index, \"capacity:\", cq.command_capacity)\n"
   ]
  },
  {
   "cell_type": "code",
   "execution_count": 54,
   "id": "35548aaf-5fb8-4b12-8ba8-f94fc58af159",
   "metadata": {},
   "outputs": [],
   "source": [
    "# lead-in: Y from ystart → ystart + 15 mm (slow)\n",
    "cq.commands.motion.moveabsolute([\"ZC\"], [0], [8])\n"
   ]
  },
  {
   "cell_type": "code",
   "execution_count": null,
   "id": "1aa75113-62b8-4cd2-988d-ca5c801885a9",
   "metadata": {},
   "outputs": [],
   "source": [
    "cq.pause()"
   ]
  },
  {
   "cell_type": "code",
   "execution_count": 43,
   "id": "eeff15c4-44ac-42cf-bfd8-590b71336f44",
   "metadata": {},
   "outputs": [
    {
     "name": "stdout",
     "output_type": "stream",
     "text": [
      "{'is_empty': True,\n",
      " 'is_paused': False,\n",
      " 'number_of_executed_commands': 0,\n",
      " 'number_of_times_emptied': 0,\n",
      " 'number_of_unexecuted_commands': 0}\n"
     ]
    }
   ],
   "source": [
    "s = cq.status  # property, not callable\n",
    "\n",
    "# Show non-callable public attributes + their values\n",
    "attrs = {\n",
    "    name: getattr(s, name)\n",
    "    for name in dir(s)\n",
    "    if not name.startswith(\"_\") and not callable(getattr(s, name, None))\n",
    "}\n",
    "pprint(attrs)\n"
   ]
  },
  {
   "cell_type": "code",
   "execution_count": 44,
   "id": "50794649-f57d-43c7-a7c8-4c2fe8c04162",
   "metadata": {},
   "outputs": [],
   "source": [
    "### slow test speeds for cut camming right now\n",
    "\n",
    "LEAD_IN_DIST     = 15.0   # mm\n",
    "LEAD_IN_SPEED    = 4.0    # mm/s\n",
    "FEED_SPEED_TEST  = 7.0    # mm/s\n",
    "SPEED_ZC_RETRACT = 2.0    # mm/s\n"
   ]
  },
  {
   "cell_type": "code",
   "execution_count": 45,
   "id": "7ad3efb4-eb2b-4ef6-b278-b561d41ad7d4",
   "metadata": {},
   "outputs": [],
   "source": [
    "# lead-in: Y from ystart → ystart + 15 mm (slow)\n",
    "cq.commands.motion.moveabsolute([\"Y\"], [ystart + LEAD_IN_DIST], [LEAD_IN_SPEED])\n"
   ]
  },
  {
   "cell_type": "code",
   "execution_count": null,
   "id": "676caa2d-ff89-43c2-abf3-ec6d1c607abf",
   "metadata": {},
   "outputs": [],
   "source": [
    "s = cq.status  # property, not callable\n",
    "\n",
    "# Show non-callable public attributes + their values\n",
    "attrs = {\n",
    "    name: getattr(s, name)\n",
    "    for name in dir(s)\n",
    "    if not name.startswith(\"_\") and not callable(getattr(s, name, None))\n",
    "}\n",
    "pprint(attrs)\n"
   ]
  },
  {
   "cell_type": "code",
   "execution_count": null,
   "id": "d76055fa-6664-42bf-979a-e541b0f57527",
   "metadata": {},
   "outputs": [],
   "source": [
    "cq.resume()"
   ]
  },
  {
   "cell_type": "code",
   "execution_count": 46,
   "id": "ba25eed3-6067-48a8-bb17-48885081e7e2",
   "metadata": {},
   "outputs": [
    {
     "name": "stdout",
     "output_type": "stream",
     "text": [
      "[diag] ZC AxisStatus = 0x00012009\n",
      "[diag] ZC camming bit set? Yes\n",
      "[diag] ZC ProgramPosition = -23.0098\n"
     ]
    }
   ],
   "source": [
    "cfg = a1.StatusItemConfiguration()\n",
    "cfg.axis.add(a1.AxisStatusItem.AxisStatus,        \"ZC\")  # bitfield we need\n",
    "cfg.axis.add(a1.AxisStatusItem.ProgramPosition,   \"ZC\")  # optional: handy context\n",
    "\n",
    "results = controller.runtime.status.get_status_items(cfg)\n",
    "\n",
    "\n",
    "# Pull raw values (note the .value, same as the doc’s .Value)\n",
    "axis_status_item = results.axis.get(a1.AxisStatusItem.AxisStatus, \"ZC\")\n",
    "progpos_item     = results.axis.get(a1.AxisStatusItem.ProgramPosition, \"ZC\")\n",
    "\n",
    "axis_status = int(axis_status_item.value)   # bitfield\n",
    "zc_progpos  = float(progpos_item.value)     # mm (primary user units)\n",
    "\n",
    "CAMMING_MASK = 1 << 16  # AeroBasic INDEXTOMASK(16) == 65536\n",
    "is_camming   = bool(axis_status & CAMMING_MASK)\n",
    "\n",
    "print(f\"[diag] ZC AxisStatus = 0x{axis_status:08X}\")\n",
    "print(f\"[diag] ZC camming bit set? {'Yes' if is_camming else 'No'}\")\n",
    "print(f\"[diag] ZC ProgramPosition = {zc_progpos:.4f}\")"
   ]
  },
  {
   "cell_type": "code",
   "execution_count": 47,
   "id": "3370b2e2-763e-482c-90db-0be5e67a5be2",
   "metadata": {},
   "outputs": [],
   "source": [
    "# cut feed: Y to yend (slow test feed)\n",
    "cq.commands.motion.moveabsolute([\"Y\"], [yend], [FEED_SPEED_TEST])\n",
    "cq.commands.motion.waitforinposition([\"Y\"])\n"
   ]
  },
  {
   "cell_type": "code",
   "execution_count": null,
   "id": "155c1b8a-4de5-48a1-84a6-ff6cb08768a1",
   "metadata": {},
   "outputs": [],
   "source": [
    "# small, safe test move while camming is ON\n",
    "TEST_DY = 20.0   # mm (keep small)\n",
    "SPEED_Y_TEST = 3.0\n",
    "\n",
    "cfg = a1.StatusItemConfiguration()\n",
    "cfg.axis.add(a1.AxisStatusItem.ProgramPosition, \"Y\")\n",
    "y_start = float(controller.runtime.status.get_status_items(cfg).axis.get(a1.AxisStatusItem.ProgramPosition, \"Y\").value)\n",
    "y_target = y_start + TEST_DY\n",
    "print(f\"[probe] Y: {y_start:.4f} → {y_target:.4f}\")"
   ]
  },
  {
   "cell_type": "code",
   "execution_count": null,
   "id": "473efe91-5740-4d5f-a8e8-8cac8c5d4ddc",
   "metadata": {},
   "outputs": [],
   "source": [
    "y_target"
   ]
  },
  {
   "cell_type": "code",
   "execution_count": null,
   "id": "41626022-f3af-4ff5-ad51-8061f6ccd816",
   "metadata": {},
   "outputs": [],
   "source": [
    "# queue the move (use your existing queue or start a short-lived one)\n",
    "cq_probe = controller.runtime.commands.begin_command_queue(task=1, command_capacity=64, should_block_if_full=True)\n"
   ]
  },
  {
   "cell_type": "code",
   "execution_count": null,
   "id": "60628618-a60b-43fe-bc34-d46ea8a48cc7",
   "metadata": {},
   "outputs": [],
   "source": [
    "cq_probe.commands.motion.moveabsolute([\"Y\"], [y_target], [SPEED_Y_TEST])"
   ]
  },
  {
   "cell_type": "code",
   "execution_count": null,
   "id": "7be8ab95-a724-4639-ab98-14cf8a0bf1f1",
   "metadata": {},
   "outputs": [],
   "source": [
    "cfg = a1.StatusItemConfiguration()\n",
    "cfg.axis.add(a1.AxisStatusItem.ProgramPosition, \"Y\")\n",
    "cfg.axis.add(a1.AxisStatusItem.ProgramPosition, \"ZC\")\n",
    "\n",
    "samples = []\n",
    "t0 = time.time()\n",
    "timeout_s = 5.0\n",
    "\n",
    "while True:\n",
    "    res = controller.runtime.status.get_status_items(cfg)\n",
    "    y  = float(res.axis.get(a1.AxisStatusItem.ProgramPosition, \"Y\").value)\n",
    "    zc = float(res.axis.get(a1.AxisStatusItem.ProgramPosition, \"ZC\").value)\n",
    "    samples.append((time.time() - t0, y, zc))\n",
    "\n",
    "    # exit when we reach (or pass) target or timeout\n",
    "    if y >= y_target - 1e-3:\n",
    "        break\n",
    "    if (time.time() - t0) > timeout_s:\n",
    "        print(\"[probe] timeout\")\n",
    "        break\n",
    "    time.sleep(0.02)  # ~50 Hz polling\n",
    "\n",
    "# drain & end the probe queue\n",
    "cq_probe.wait_for_empty()\n",
    "controller.runtime.commands.end_command_queue(cq_probe)\n",
    "\n",
    "# compute deltas and an empirical slope dZC/dY\n",
    "y0, z0 = samples[0][1], samples[0][2]\n",
    "y1, z1 = samples[-1][1], samples[-1][2]\n",
    "dY = y1 - y0\n",
    "dZ = z1 - z0\n",
    "\n",
    "# robust slope estimate using all samples (simple least-squares on deltas)\n",
    "dy_list = []\n",
    "dz_list = []\n",
    "for k in range(1, len(samples)):\n",
    "    dy = samples[k][1] - samples[0][1]\n",
    "    dz = samples[k][2] - samples[0][2]\n",
    "    dy_list.append(dy)\n",
    "    dz_list.append(dz)\n",
    "slope = (dz_list[-1] / dy_list[-1]) if dy_list[-1] != 0 else float('nan')\n",
    "\n",
    "print(f\"[probe] ΔY = {dY:.4f}, ΔZC = {dZ:.4f}\")\n",
    "print(f\"[probe] empirical slope dZC/dY ≈ {slope:.4f} (user units/user units)\")"
   ]
  },
  {
   "cell_type": "markdown",
   "id": "a58661e5-a728-4b4e-af59-e66508be6ef5",
   "metadata": {},
   "source": [
    "# Let's test some ZC camming situations"
   ]
  },
  {
   "cell_type": "code",
   "execution_count": null,
   "id": "1eb5e477-5ccd-4813-921e-cf58959a9409",
   "metadata": {},
   "outputs": [],
   "source": [
    "pwd"
   ]
  },
  {
   "cell_type": "code",
   "execution_count": null,
   "id": "4278d85f-3c5c-444f-9e72-945d56bb86db",
   "metadata": {},
   "outputs": [],
   "source": [
    "# 1) load a tiny, obvious table on an unused table number (e.g., 9)\n",
    "leader_synth   = [0.0, 10.0]   # Y +10\n",
    "follower_synth = [0.0,  5.0]   # ZC +5 (clear 0.5 slope)\n",
    "\n",
    "am = controller.runtime.commands.advanced_motion\n",
    "am.cammingfreetable(9)\n",
    "am.cammingloadtablefromarray(\n",
    "    table_num=9,\n",
    "    leader_values=leader_synth,\n",
    "    follower_values=follower_synth,\n",
    "    num_values=len(leader_synth),\n",
    "    units_mode=a1.CammingUnits.Primary,\n",
    "    interpolation_mode=a1.CammingInterpolation.Linear,\n",
    "    wrap_mode=a1.CammingWrapping.NoWrap,\n",
    "    table_offset=0.0\n",
    ")"
   ]
  },
  {
   "cell_type": "code",
   "execution_count": null,
   "id": "a7e81af3-bf74-4a8a-8f51-bd84b3caef16",
   "metadata": {},
   "outputs": [],
   "source": [
    "# 2) make sure ZC is camming OFF, then turn camming ON (non-queued) using table 9\n",
    "am.cammingoff(follower_axis=\"ZC\")  # safe even if already off"
   ]
  },
  {
   "cell_type": "code",
   "execution_count": null,
   "id": "900b0001-3516-408a-b1c9-156cbafdc8e3",
   "metadata": {},
   "outputs": [],
   "source": [
    "am.cammingon(\n",
    "    follower_axis=\"ZC\",\n",
    "    leader_axis=\"Y\",\n",
    "    table_num=9,\n",
    "    source=a1.CammingSource.PositionCommand,\n",
    "    output=a1.CammingOutput.RelativePosition\n",
    ")"
   ]
  },
  {
   "cell_type": "code",
   "execution_count": null,
   "id": "0248cfb7-24ae-413f-a49f-d1667c6ffdea",
   "metadata": {},
   "outputs": [],
   "source": [
    "# 3) move Y by +4 and read ΔZC\n",
    "motion = controller.runtime.commands.motion\n"
   ]
  },
  {
   "cell_type": "code",
   "execution_count": null,
   "id": "70da9785-b9af-4c1b-a75c-e120ff6d8c8c",
   "metadata": {},
   "outputs": [],
   "source": [
    "# capture ZC start\n",
    "cfg = a1.StatusItemConfiguration()\n",
    "cfg.axis.add(a1.AxisStatusItem.ProgramPosition, \"ZC\")\n",
    "zc0 = float(controller.runtime.status.get_status_items(cfg).axis.get(a1.AxisStatusItem.ProgramPosition, \"ZC\").value)\n",
    "\n",
    "# move Y a bit (within the 0..10 domain)\n",
    "cfgY = a1.StatusItemConfiguration(); cfgY.axis.add(a1.AxisStatusItem.ProgramPosition, \"Y\")\n",
    "y0 = float(controller.runtime.status.get_status_items(cfgY).axis.get(a1.AxisStatusItem.ProgramPosition, \"Y\").value)\n",
    "motion.moveabsolute([\"Y\"], [y0 + 4.0], [2.0])\n",
    "motion.waitforinposition([\"Y\"])\n",
    "\n",
    "zc1 = float(controller.runtime.status.get_status_items(cfg).axis.get(a1.AxisStatusItem.ProgramPosition, \"ZC\").value)\n",
    "print(f\"[synth] ΔZC ≈ {zc1 - zc0:.4f} (expected ≈ +2.0)\")"
   ]
  },
  {
   "cell_type": "code",
   "execution_count": null,
   "id": "64f45f8d-0af7-46e8-b70e-e6ff4aa28e75",
   "metadata": {},
   "outputs": [],
   "source": []
  },
  {
   "cell_type": "code",
   "execution_count": null,
   "id": "215db714-7007-452d-9f5d-447160a73acb",
   "metadata": {},
   "outputs": [],
   "source": []
  },
  {
   "cell_type": "code",
   "execution_count": null,
   "id": "c2e7a3d7-d952-4848-aca3-db6589c3b64f",
   "metadata": {},
   "outputs": [],
   "source": [
    "# cam OFF (AeroBasic: SYNC ZC 1 0)\n",
    "cq.commands.advanced_motion.cammingoff(follower_axis=\"ZC\")\n"
   ]
  },
  {
   "cell_type": "code",
   "execution_count": null,
   "id": "34733213-07be-4e10-b5f7-82646f89069c",
   "metadata": {},
   "outputs": [],
   "source": [
    "# retract ZC and free table 1\n",
    "cq.commands.moveabsolute([\"ZC\"], [zstart + safelift], [SPEED_ZC_RETRACT])\n",
    "cq.commands.waitforinposition([\"ZC\"])\n",
    "cq.commands.advanced_motion.cammingfreetable(1)\n"
   ]
  },
  {
   "cell_type": "code",
   "execution_count": null,
   "id": "c2b4e90c-feee-4227-9439-87b7218998b2",
   "metadata": {},
   "outputs": [],
   "source": [
    "# drain the queued work\n",
    "cq.wait_for_empty()\n",
    "print(\"[post-cut] lead-in, cut, cam OFF, ZC retract, free table — done.\")"
   ]
  },
  {
   "cell_type": "code",
   "execution_count": null,
   "id": "f0e0eb30-1161-446e-8086-8136da0d553f",
   "metadata": {},
   "outputs": [],
   "source": [
    "## verify camming is off\n",
    "drive_status = int(results.axis.get(a1.AxisStatusItem.DriveStatus, \"ZC\"))\n",
    "camming_bit  = bool(drive_status & (1 << 16))\n",
    "print(f\"[diag] ZC camming bit after cammingoff? {camming_bit}\")"
   ]
  },
  {
   "cell_type": "code",
   "execution_count": null,
   "id": "06ae5610-e70d-4ec2-810a-e099aba80558",
   "metadata": {},
   "outputs": [],
   "source": [
    "# Keep or create a global/current row index i\n",
    "######## haven't created a loop or a function yet because just testing raw steps ########\n",
    "######## at the moment to make sure everything makes sense first #######\n",
    "try:\n",
    "    i\n",
    "except NameError:\n",
    "    i = 0  # if not defined yet, start at first row already used\n",
    "\n",
    "i += 1  # advance to next row\n",
    "if i >= len(raw_lines):\n",
    "    print(\"[next] No more cuts — reached end of Master.txt\")\n",
    "else:\n",
    "    row = raw_lines[i].split()\n",
    "    assert len(row) >= 5, f\"Expected 5 fields on line {i}, got {len(row)}: {row}\"\n",
    "\n",
    "    camnum  = int(row[0])\n",
    "    xvalue  = float(row[1])\n",
    "    ystart  = float(row[2])\n",
    "    zstart  = float(row[3])\n",
    "    yend    = float(row[4])\n",
    "\n",
    "    cam_filename = f\"CutCam{cuttype}{camnum:04d}.Cam\"mm\n",
    "    cam_path     = base_path / cam_filename\n",
    "\n",
    "    print(f\"[next] i={i} camnum={camnum}  x={xvalue}  ystart={ystart}  zstart={zstart}  yend={yend}\")\n",
    "    print(f\"[next] cam file → {cam_path}\")\n",
    "    # Now repeat Step D: parse cam file → load table → stage → cammingon → spindle check → lead-in & cut → cammingoff → retract → free."
   ]
  },
  {
   "cell_type": "markdown",
   "id": "5ba5ad16-17d3-4aa6-9ec0-a3a99e3f0148",
   "metadata": {},
   "source": [
    "# Cuts are Done from Master.txt File"
   ]
  },
  {
   "cell_type": "code",
   "execution_count": null,
   "id": "017ad237-33b6-4930-9443-b1048d64dddc",
   "metadata": {},
   "outputs": [],
   "source": [
    "# drain and end any open queues on task 1\n",
    "for qname in (\"cq\"): #, \"cq2\"):\n",
    "    try:\n",
    "        q = globals().get(qname)\n",
    "        if q is not None:\n",
    "            try:\n",
    "                q.wait_for_empty()\n",
    "            except Exception:\n",
    "                pass\n",
    "            controller.runtime.commands.end_command_queue(q)\n",
    "            print(f\"[E] ended queue: {qname}\")\n",
    "    except Exception as e:\n",
    "        print(f\"[E] (note) could not end {qname}: {e}\")"
   ]
  },
  {
   "cell_type": "code",
   "execution_count": null,
   "id": "f51f7a80-681f-4512-b743-eaa8f66086f8",
   "metadata": {},
   "outputs": [],
   "source": [
    "# flood coolant off (D06=0)\n",
    "io_axis_flood = \"X\"  # change if your flood IO lives elsewhere\n",
    "controller.commands.io.digitaloutputset(axis=io_axis_flood, output_num=6, value=0, execution_task_index=1)\n",
    "print(\"flood coolant OFF (DO6=0).\")\n"
   ]
  },
  {
   "cell_type": "code",
   "execution_count": null,
   "id": "14a76caa-b6d0-475f-b055-0db605e7d60f",
   "metadata": {},
   "outputs": [],
   "source": [
    "### no command_queue okay??\n",
    "motion = controller.commands.motion\n",
    "motion.moveabsolute([\"ZC\"], [-0.0005], [20.0], execution_task_index=1)\n",
    "motion.waitforinposition([\"ZC\"], execution_task_index=1)\n",
    "print(\"[E] ZC parked at -0.0005.\")"
   ]
  },
  {
   "cell_type": "code",
   "execution_count": null,
   "id": "0ef65efb-8e0b-4835-b247-89b8bd9fd8b5",
   "metadata": {},
   "outputs": [],
   "source": [
    "### create lockfile\n",
    "import datetime as _dt\n",
    "lock_path = base_path / lockname\n",
    "msg = f\"The cutting has been completed, directory is now locked ({_dt.datetime.now().isoformat(timespec='seconds')})\"\n",
    "\n",
    "with open(lock_path, \"w\", encoding=\"utf-8\") as f:\n",
    "    f.write(msg + \"\\n\")\n",
    "\n",
    "print(f\"[E] wrote lockfile → {lock_path}\")"
   ]
  },
  {
   "cell_type": "code",
   "execution_count": null,
   "id": "180af743-5f6a-4432-8e03-aefe3e0bf960",
   "metadata": {},
   "outputs": [],
   "source": [
    "###### still going to leave spindle running by the way"
   ]
  },
  {
   "cell_type": "code",
   "execution_count": null,
   "id": "a426f545-01c0-4d65-8e0e-df0eb9fa15ce",
   "metadata": {},
   "outputs": [],
   "source": []
  },
  {
   "cell_type": "code",
   "execution_count": null,
   "id": "aac6b015-ea55-4dbd-a9f3-12ee2acd7437",
   "metadata": {},
   "outputs": [],
   "source": []
  },
  {
   "cell_type": "markdown",
   "id": "1617aed9-18f0-43c9-bee1-436129a78241",
   "metadata": {},
   "source": [
    "# End the Queue"
   ]
  },
  {
   "cell_type": "code",
   "execution_count": 55,
   "id": "8be7c746-0a35-4c10-8696-cb3d1e1eea34",
   "metadata": {},
   "outputs": [],
   "source": [
    "controller.runtime.commands.end_command_queue(cq)"
   ]
  },
  {
   "cell_type": "markdown",
   "id": "7aad6f08-cd58-4943-94aa-b2553b610634",
   "metadata": {},
   "source": [
    "# Command Queue Python Module"
   ]
  },
  {
   "cell_type": "markdown",
   "id": "09d6fce0-125f-4a1b-b6af-481bb1c4d0eb",
   "metadata": {
    "jupyter": {
     "source_hidden": true
    }
   },
   "source": [
    "WARNINGS FROM THE DOCUMENTATION:\n",
    "- must keep command queue populated at all times. If the command queue is not populated, your process will stall and motion problems might occur\n",
    "- if a `MovePt()` or `MovePvt()` command is the most recently executed command from the queue, and a starvation of the command queue has occurred, the controlloer **will not** automatically decelerate the axes that you specified to a comand to zero velocity \n",
    "\n",
    "NOTES FROM THE DOCUMENTATION\n",
    "- when the command queue begins on a task, the controller executes all the commands that are in the command queue as quickly as possible. If the controller automatically executes commands from the command queue more quickly than you can add them, the command queue will not have a sufficient quantity of commands to execute. This condition is known as a starvation of the command queue. \n",
    "- while the command queue is active, you can examine its status to find the number of times that a starvation of the command queue has occurred. \n",
    "- if starvation mode of the queue occurs, velocity blending mode is enabled on the task, AND most recently executed command from the command queue is a `MoveCcw()`, `MoveCw()`, or `MoveLinear()` command then the controller automatically decelerates them to zero velocity to prevent motion problems from occurring \n",
    "- can use `CommandQueueCount` task status item to make the first command wait for the command queue to fill with a specified number of commands before the controller executes them.\n",
    "\n",
    "RELEVANT LINK: \n",
    "- http://help.aerotech.com/automation1/Content/APIs/Python/References/Command-Queue-Python.htm?Highlight=advanced_motion"
   ]
  },
  {
   "cell_type": "markdown",
   "id": "c1500af3-3ef9-45f4-96ea-c93b03534cd1",
   "metadata": {},
   "source": [
    "# Status Command Queue Commands to Have in Arsenal"
   ]
  },
  {
   "cell_type": "code",
   "execution_count": null,
   "id": "ecb88b04-0092-4b4a-a449-e470a3e19a4f",
   "metadata": {},
   "outputs": [],
   "source": [
    "command_queue.status.number_of_times.emptied"
   ]
  },
  {
   "cell_type": "code",
   "execution_count": null,
   "id": "fd622727-d6e5-46f6-962a-46bbb2e006b4",
   "metadata": {},
   "outputs": [],
   "source": [
    "command_queue.execute(\"wait(StatusGetTaskItem ... >= 20)\")"
   ]
  },
  {
   "cell_type": "code",
   "execution_count": null,
   "id": "f5f68186-84eb-4f40-a123-458ee18482a8",
   "metadata": {},
   "outputs": [],
   "source": []
  },
  {
   "cell_type": "code",
   "execution_count": null,
   "id": "2f5e6acc-af1c-4c5c-81c4-0be9f9e4e583",
   "metadata": {},
   "outputs": [],
   "source": []
  },
  {
   "cell_type": "code",
   "execution_count": null,
   "id": "4f74499c-9e09-4d36-b716-a9673e58bf94",
   "metadata": {},
   "outputs": [],
   "source": []
  },
  {
   "cell_type": "markdown",
   "id": "02ffb7c4-7559-43e6-8243-3ba46b8f3db9",
   "metadata": {},
   "source": [
    "# Important thoughts to factor in\n",
    "1. Make sure UI threading is not going to cause problems with motion. Be careful in understanding this deeply. https://help.aerotech.com/automation1/Content/APIs/Python/Get-Started/Guidelines-Python.htm\n",
    "2. add a stopping command execution component if lockfile present. right now, it's just a print statement.\n",
    "3. Two ways to use the queue (both OK):\n",
    "“Stream & drain”: enqueue → cq.wait_for_empty() → enqueue more → … → end_command_queue(cq).\n",
    "“Arm & go”: cq.pause() → enqueue everything → cq.resume() → cq.wait_for_empty() → end_command_queue(cq).\n",
    "4. have we lost the feedspeed anywhere in this code? No\n",
    "5. need a way to query state of task window before running command queue to ensure exception errors in python don't occur\n",
    "6. is safelift being factored into the code (was it used in aeroscript source---i would think so?)\n",
    "7. before turnning camming bit off, we need to check the state of ZC camming as part of a safety check in the code for robustness"
   ]
  },
  {
   "cell_type": "raw",
   "id": "b6483af7-c8c7-4e13-be50-2c7b9152a116",
   "metadata": {},
   "source": [
    "What “camming” is (leader vs follower)\n",
    "Think of a cam table as a lookup mapping:\n",
    "leader position (Y) → follower command (ZC).\n",
    "When you turn camming ON, the follower axis (ZC) is no longer driven by individual Z moves. Instead, the controller computes ZC’s target continuously from the table as Y moves.\n",
    "In your flow:\n",
    "Leader = Y (the axis you sweep along the cut).\n",
    "Follower = ZC (blade depth).\n",
    "Table = pairs of numbers (first column: Y distance, second column: ZC value). With linear interpolation, ZC smoothly follows as Y advances.\n",
    "Relative vs Absolute sync: you used relative (CAMSYNC … ,1).\n",
    "Relative means: “treat the current leader position as table 0.”\n",
    "So after syncing at Y = ystart, the next 10–15 mm of Y travel will traverse the first 10–15 mm of your cam table.\n",
    "If you want Z to stay flat during the lead-in, make the start of your .Cam table flat for that distance.\n",
    "If you wanted the table to start only after the lead-in, you’d sync later (e.g., at ystart+lead_in) or use absolute sync with a matching abscissa.\n"
   ]
  },
  {
   "cell_type": "code",
   "execution_count": null,
   "id": "a67e1224-3929-48a4-a818-ea27e56c59a6",
   "metadata": {},
   "outputs": [],
   "source": []
  }
 ],
 "metadata": {
  "kernelspec": {
   "display_name": "Python 3 (ipykernel)",
   "language": "python",
   "name": "python3"
  },
  "language_info": {
   "codemirror_mode": {
    "name": "ipython",
    "version": 3
   },
   "file_extension": ".py",
   "mimetype": "text/x-python",
   "name": "python",
   "nbconvert_exporter": "python",
   "pygments_lexer": "ipython3",
   "version": "3.11.9"
  }
 },
 "nbformat": 4,
 "nbformat_minor": 5
}
