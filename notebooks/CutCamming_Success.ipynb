{
 "cells": [
  {
   "cell_type": "code",
   "execution_count": 2,
   "id": "2c20d103-b6d7-42d2-ac69-e38a9b4815e8",
   "metadata": {},
   "outputs": [],
   "source": [
    "import automation1 as a1\n",
    "import time\n",
    "import numpy as np\n",
    "import matplotlib.pyplot as plt\n",
    "import pandas as pd\n",
    "import re\n",
    "\n",
    "import os\n",
    "import serial\n",
    "from pathlib import Path\n",
    "from pprint import pprint\n",
    "\n",
    "import sys\n",
    "sys.path.append('C:\\\\Users\\\\UNIVERSITY\\\\git\\\\')\n",
    "sys.path.append('C:\\\\Users\\\\UNIVERSITY\\\\git\\\\metalens\\\\')\n",
    "import metalens\n",
    "import core_utils as cu "
   ]
  },
  {
   "cell_type": "markdown",
   "id": "7cd9b035-2266-409e-981f-d1b13b4cefed",
   "metadata": {},
   "source": [
    "# Functions"
   ]
  },
  {
   "cell_type": "code",
   "execution_count": 48,
   "id": "87f756fe-fb0d-4bf2-8347-ae56fbdcfc97",
   "metadata": {
    "jupyter": {
     "source_hidden": true
    }
   },
   "outputs": [],
   "source": [
    "def cutcamming(controller, cq, path, zaxis, cuttype, safelift, feedspeed):\n",
    "    path = Path(path)\n",
    "    assert path.exists(), f\"Base path not found: {path}\"\n",
    "\n",
    "    mastername = \"Master.txt\"\n",
    "    masterpath = Path(path) / mastername  \n",
    "    assert masterpath.exists(), f\"Master file not found: {masterpath}\"\n",
    "\n",
    "    cu._check_lockfile(path)\n",
    "    campaths = iter_cam_paths_from_master(master_path=masterpath, base_path=path, cuttype=cuttype)\n",
    "    \n",
    "    am = cq.commands.advanced_motion\n",
    "    for campath in campaths[0:2]:\n",
    "        assert campath.exists(), f\"Campath not found: {campath}\"\n",
    "        yvals, zvals = get_cutcam_coords(campath)\n",
    "\n",
    "        # now set up aerotech camming conditions\n",
    "        am.cammingfreetable(1) \n",
    "        am.cammingloadtablefromarray(\n",
    "            table_num=1,\n",
    "            leader_values=yvals,\n",
    "            follower_values=zvals,\n",
    "            num_values=len(yvals),\n",
    "            units_mode=a1.CammingUnits.Primary,               \n",
    "            interpolation_mode=a1.CammingInterpolation.Linear, \n",
    "            wrap_mode=a1.CammingWrapping.NoWrap,               \n",
    "            table_offset=0.0)\n",
    "        print('Camming table loaded')\n",
    "\n",
    "        camnum = Path(campath).stem[-4:]\n",
    "        xstart, ystart, zstart, yend = read_startend_coords(master_path=masterpath, camnum=camnum)\n",
    "\n",
    "        \n",
    "        SPEED_Y  = 20.0  # mm/s\n",
    "        SPEED_X  = 20.0   \n",
    "        SPEED_Z = 4.0  # (down to zstart+2)\n",
    "        # TODO: PRIORITY 1 --- check if we want ZC touch speed to be slower\n",
    "        SPEED_Z_TOUCH    = 0.1  # (final settle at zstart)\n",
    "        \n",
    "        # move to start positions, wait for in position\n",
    "        cq.commands.motion.moveabsolute([\"X\", \"Y\"], [xstart, ystart], [SPEED_Y,  SPEED_X])\n",
    "        cq.commands.motion.waitforinposition([\"Y\"])\n",
    "        cq.commands.motion.waitforinposition([\"X\"])\n",
    "        cq.commands.motion.movedelay([\"X\", \"Y\"], delay_time=1_500)\n",
    "\n",
    "        cq.commands.motion.moveabsolute([zaxis], [zstart + 2.0], [SPEED_Z])\n",
    "        cq.commands.motion.waitforinposition([zaxis])\n",
    "        cq.commands.motion.moveabsolute([zaxis], [zstart], [SPEED_Z_TOUCH])\n",
    "        cq.commands.motion.waitforinposition([zaxis])\n",
    "        cq.commands.motion.waitformotiondone([zaxis])\n",
    "        \n",
    "        \n",
    "        while True:\n",
    "            statuses = check_axis_status_position(controller=controller, axis=zaxis)\n",
    "            if statuses['camming_bit'] is False:\n",
    "                break # in desired state, stop looping\n",
    "            time.sleep(0.1)  \n",
    "\n",
    "        cq.commands.advanced_motion.cammingon(\n",
    "            follower_axis=zaxis,\n",
    "            leader_axis=\"Y\",\n",
    "            table_num=1,\n",
    "            source=a1.CammingSource.PositionCommand,  # leader uses position\n",
    "            output=a1.CammingOutput.RelativePosition  \n",
    "        )\n",
    "\n",
    "        ## TODO: there's gotta be something else we can do with the waitforinposition and wait for move done\n",
    "        ## TODO: something about InPositionTime value that we might be able to toggle\n",
    "        while True:\n",
    "            statuses = check_axis_status_position(controller=controller, axis=zaxis)\n",
    "            if statuses['camming_bit'] is True:\n",
    "                print(f\"{zaxis} camming bit is True; ready to cut line {camnum}\")\n",
    "                break # in desired state, stop looping\n",
    "            time.sleep(0.1)  \n",
    "\n",
    "        cq.commands.motion.moveabsolute([\"Y\"], [yend], [feedspeed])\n",
    "        cq.commands.motion.waitforinposition([\"Y\"])\n",
    "        cq.commands.motion.waitformotiondone([\"Y\"])\n",
    "        cq.commands.motion.movedelay([\"Y\"], delay_time=2_000)\n",
    "\n",
    "        am.cammingoff(follower_axis=zaxis) \n",
    "\n",
    "        # check that camming bit status is False\n",
    "        while True:\n",
    "            statuses = check_axis_status_position(controller=controller, axis=zaxis)\n",
    "            if statuses['camming_bit'] is False:\n",
    "                print(f\"{zaxis} camming status is off, {camnum} line finished cutting.\")\n",
    "                break # in desired state, stop looping\n",
    "            time.sleep(0.1)  \n",
    "        \n",
    "        # retract ZC and free table 1\n",
    "        # TODO: PRIORITY 1-- CHECK IF THIS IS THE ONLY PLACE THAT SAFELIFT IS USED IN SOURCE CODE\n",
    "        cq.commands.motion.moveabsolute([zaxis], [zstart + safelift], [SPEED_Z])\n",
    "        cq.commands.motion.waitforinposition([zaxis])\n",
    "        cq.commands.motion.waitformotiondone([zaxis])\n",
    "        cq.commands.advanced_motion.cammingfreetable(1)\n",
    "        cq.commands.motion.movedelay([zaxis], delay_time=2_000)\n",
    "\n",
    "        # drain the queue before we are ready to cut the next line\n",
    "        cq.wait_for_empty()\n",
    "    cq.commands.motion.moveabsolute([zaxis], [0.0], [10])\n",
    "    controller.runtime.commands.end_command_queue(cq)\n"
   ]
  },
  {
   "cell_type": "code",
   "execution_count": 3,
   "id": "e06e4819-5d88-4769-9271-a6c8d515f6dc",
   "metadata": {
    "jupyter": {
     "source_hidden": true
    }
   },
   "outputs": [],
   "source": [
    "def prepare_zaxes(controller, cq, z_axes, spindle_ports, flood_ports, active_z,\n",
    "                  z_position=0, z_speed=20, delay_ms=11_000, io_axis='X'):\n",
    "    \"\"\"\n",
    "    Prepare Z axes for cutting: move all Z axes to 0, reset flood cooling status, turn on all spindles,\n",
    "    and activate flood cooling only for the currently active Z.\n",
    "\n",
    "    Args\n",
    "    ----\n",
    "    controller    : a1.Controller\n",
    "    cq            : Command queue\n",
    "    z_axes        : list of str       e.g., [\"ZB\", \"ZC\", \"ZD\"]\n",
    "    spindle_ports : list of int       spindle DOs (must match z_axes)\n",
    "    flood_ports   : list of int       flood DOs (must match z_axes)\n",
    "    active_z      : str               which Z axis should have its flood cooling ON\n",
    "    z_position    : float             target Z position (mm) for all Zs\n",
    "    z_speed       : float             move speed (mm/s) for all Zs\n",
    "    delay_ms      : int               dwell time (ms)\n",
    "    io_axis       : str               I/O axis context (usually \"X\")\n",
    "\n",
    "    Note:\n",
    "    This includes some dwell times for turning flood cooling off and on in case of lag in general. \n",
    "    \"\"\"\n",
    "    if isinstance(z_axes, str):\n",
    "        raise ValueError(\"z_axes must be a list when using multi-axis prepare\")\n",
    "\n",
    "    if not (len(z_axes) == len(spindle_ports) == len(flood_ports)):\n",
    "        raise ValueError(\"z_axes, spindle_ports, and flood_ports must be same length\")\n",
    "\n",
    "    if active_z not in z_axes:\n",
    "        raise ValueError(f\"active_z {active_z} must be one of {z_axes}\")\n",
    "\n",
    "    cq.pause()\n",
    "\n",
    "    # --- Move all Zs to position ---\n",
    "    positions = [z_position] * len(z_axes)\n",
    "    speeds    = [z_speed]    * len(z_axes)\n",
    "    cq.commands.motion.moveabsolute(z_axes, positions, speeds)\n",
    "    cq.commands.motion.waitforinposition(z_axes)\n",
    "    cq.resume()\n",
    "    cq.wait_for_empty()\n",
    "    # TODO: should actually query the position of the z axis and have it print that instead\n",
    "    print(f\"Moved {', '.join(z_axes)} to {z_position:.4f} mm. Resetting flood cooling, turning on spindles, and enabling flood for active Z axis, {active_z}.\")\n",
    "    cq.pause()\n",
    "\n",
    "    # --- Flood OFF for all ---\n",
    "    for fp in flood_ports:\n",
    "        cq.commands.io.digitaloutputset(axis=io_axis, output_num=fp, value=0)\n",
    "        cq.commands.motion.movedelay(z_axes, delay_time=3_000)\n",
    "\n",
    "    # --- Spindles ON for all ---\n",
    "    for sp in spindle_ports:\n",
    "        cq.commands.io.digitaloutputset(axis=io_axis, output_num=sp, value=1)\n",
    "\n",
    "    # --- Flood ON only for active Z ---\n",
    "    active_index = z_axes.index(active_z)\n",
    "    cq.commands.io.digitaloutputset(axis=io_axis, output_num=flood_ports[active_index], value=1)\n",
    "\n",
    "    # --- Hold dwell ---\n",
    "    cq.commands.motion.movedelay([\"X\", \"Y\"] + z_axes, delay_time=delay_ms)\n",
    "    cq.resume()\n",
    "    cq.wait_for_empty()\n",
    "\n",
    "    #print(f\"All spindles ON {spindle_ports}; flood ON for {active_z} (DO {flood_ports[active_index]}).\")\n",
    "    controller.runtime.commands.end_command_queue(cq)\n",
    "    print(\"Command queue ended after prepping Z axes.\")\n",
    "    for fp in flood_ports:\n",
    "        name = f\"Flood cooling port {fp}\"\n",
    "        status = check_io_status(controller=controller, port=fp, name=name, axis='X', execution_task_index=1)\n",
    "        print(status)\n",
    "    for sp in spindle_ports:\n",
    "        name = f'Spindle port {sp}'\n",
    "        status = check_io_status(controller=controller, port=sp, name=name, axis='X', execution_task_index=1)\n",
    "        print(status)"
   ]
  },
  {
   "cell_type": "code",
   "execution_count": 4,
   "id": "3bf6e0b2-fe13-44a9-a40c-a5e03e8a5f79",
   "metadata": {
    "jupyter": {
     "source_hidden": true
    }
   },
   "outputs": [],
   "source": [
    "def check_axis_drive_position(controller, axis):\n",
    "    \"\"\"\n",
    "    Check drive status and program position for a given axis.\n",
    "    \n",
    "    Parameters\n",
    "    ----------\n",
    "    controller : object\n",
    "        Automation1 controller instance.\n",
    "    axis : str\n",
    "        Axis name (e.g., \"ZA\", \"ZB\", \"ZC\").\n",
    "    \"\"\"\n",
    "    cfg = a1.StatusItemConfiguration()\n",
    "    cfg.axis.add(a1.AxisStatusItem.DriveStatus, axis)\n",
    "    cfg.axis.add(a1.AxisStatusItem.ProgramPosition, axis)\n",
    "\n",
    "    results = controller.runtime.status.get_status_items(cfg)\n",
    "\n",
    "    # Extract values\n",
    "    drive_status = results.axis.get(a1.AxisStatusItem.DriveStatus, axis).value\n",
    "    program_pos  = results.axis.get(a1.AxisStatusItem.ProgramPosition, axis).value\n",
    "\n",
    "    # Convert drive status to int and mask off camming bit (bit 16)\n",
    "    camming_bit = int(drive_status) & (1 << 16)\n",
    "\n",
    "    print(f\"[diag] {axis} camming bit set? {'Yes' if camming_bit else 'No'}\")\n",
    "    print(f\"[diag] {axis} ProgramPosition = {program_pos:.4f} mm\")\n",
    "\n",
    "    return {\n",
    "        \"axis\": axis,\n",
    "        \"camming_bit\": bool(camming_bit),\n",
    "        \"program_position\": program_pos,\n",
    "        \"drive_status_raw\": int(drive_status)\n",
    "    }\n"
   ]
  },
  {
   "cell_type": "code",
   "execution_count": 7,
   "id": "bb46c4d3-15a6-4de1-91fa-4ccd7fa2e692",
   "metadata": {
    "jupyter": {
     "source_hidden": true
    }
   },
   "outputs": [],
   "source": [
    "def check_axis_status_position(controller, axis):\n",
    "    \"\"\"\n",
    "    Check drive status and program position for a given axis.\n",
    "    \n",
    "    Parameters\n",
    "    ----------\n",
    "    controller : object\n",
    "        Automation1 controller instance.\n",
    "    axis : str\n",
    "        Axis name (e.g., \"ZA\", \"ZB\", \"ZC\").\n",
    "    \"\"\"\n",
    "    cfg = a1.StatusItemConfiguration()\n",
    "    cfg.axis.add(a1.AxisStatusItem.AxisStatus, axis)\n",
    "    cfg.axis.add(a1.AxisStatusItem.ProgramPosition, axis)\n",
    "\n",
    "    results = controller.runtime.status.get_status_items(cfg)\n",
    "\n",
    "    # Extract values\n",
    "    axis_status = results.axis.get(a1.AxisStatusItem.AxisStatus, axis).value\n",
    "    program_pos  = results.axis.get(a1.AxisStatusItem.ProgramPosition, axis).value\n",
    "\n",
    "    # Convert drive status to int and mask off camming bit (bit 16)\n",
    "    camming_bit = int(axis_status) & (1 << 16)\n",
    "\n",
    "    return {\n",
    "        \"axis\": axis,\n",
    "        \"camming_bit\": bool(camming_bit),\n",
    "        \"program_position\": program_pos,\n",
    "        \"axis_status_raw\": int(axis_status)\n",
    "    }\n"
   ]
  },
  {
   "cell_type": "code",
   "execution_count": 8,
   "id": "e9a81024-41a1-4299-9134-663ce7593d6a",
   "metadata": {
    "jupyter": {
     "source_hidden": true
    }
   },
   "outputs": [],
   "source": [
    "def check_io_status(controller, port, name, axis='X', execution_task_index=1):\n",
    "    \"\"\"\n",
    "    Check the status of a digital output (flood cooling, spindle cooling, probe, etc.)\n",
    "    \n",
    "    Parameters\n",
    "    ----------\n",
    "    controller : object\n",
    "        Automation1 controller instance.\n",
    "    port : int\n",
    "        Digital IO output port number.\n",
    "    name : str, optional\n",
    "        Human-readable device name for output string (default=\"Device\").\n",
    "    axis : str\n",
    "        Axis associated with the digital output. Default is  \"X\"\n",
    "    execution_task_index : int, optional\n",
    "        Task index to query (default=1).\n",
    "    \n",
    "    Returns\n",
    "    -------\n",
    "    str\n",
    "        Status message of the given device.\n",
    "    \"\"\"\n",
    "    # Query output state\n",
    "    current = controller.runtime.commands.io.digitaloutputget(\n",
    "        axis=axis,\n",
    "        output_num=port,\n",
    "        execution_task_index=execution_task_index,\n",
    "    )\n",
    "\n",
    "    # Build status message\n",
    "    if int(current) == 1:\n",
    "        status = f\"{name} is ON\"\n",
    "    elif int(current) == 0:\n",
    "        status = f\"{name} is OFF\"\n",
    "    else:\n",
    "        status = f\"{name} in awkward state. Stop and check hardware.\"\n",
    "\n",
    "    return status\n",
    "\n"
   ]
  },
  {
   "cell_type": "code",
   "execution_count": 9,
   "id": "d8a19bf6-27cb-4caa-a0e2-f4a5adfb9249",
   "metadata": {
    "jupyter": {
     "source_hidden": true
    }
   },
   "outputs": [],
   "source": [
    "def read_startend_coords(master_path, camnum):\n",
    "    df = load_master_table(master_path)\n",
    "\n",
    "    # make sure camnum is a string with leading zeros like in the file\n",
    "    camnum_str = str(camnum).zfill(4)\n",
    "\n",
    "    # filter rows where column 0 == camnum_str\n",
    "    row = df[df[0] == camnum_str]\n",
    "\n",
    "    if row.empty:\n",
    "        raise ValueError(f\"camnum {camnum_str} not found in {master_path}\")\n",
    "\n",
    "    # extract x, y, z as scalars\n",
    "    xstart = row.iloc[0, 1]\n",
    "    ystart = row.iloc[0, 2]\n",
    "    zstart = row.iloc[0, 3]\n",
    "    yend = row.iloc[0, 4]\n",
    "\n",
    "    return xstart, ystart, zstart, yend\n",
    "    "
   ]
  },
  {
   "cell_type": "code",
   "execution_count": 10,
   "id": "fa148ae4-159c-42cf-8597-11aa57b3b491",
   "metadata": {
    "jupyter": {
     "source_hidden": true
    }
   },
   "outputs": [],
   "source": [
    "def load_master_table(master_path):\n",
    "    \"\"\"\n",
    "    Read Master.txt (or .dat) as whitespace-delimited without headers.\n",
    "    Keeps column 0 as string so leading zeros aren't lost.\n",
    "    Returns a DataFrame with columns:\n",
    "      0 = camnum_str, 1 = X, 2 = Y, 3 = Z, 4 = feed (if present)\n",
    "    \"\"\"\n",
    "    master_path = Path(master_path)\n",
    "    assert master_path.exists(), f\"Master file not found: {master_path}\"\n",
    "\n",
    "    # comment='#' lets you keep notes in the file safely\n",
    "    df = pd.read_csv(\n",
    "        master_path,\n",
    "        sep='\\s+',\n",
    "        header=None,\n",
    "        comment=\"#\",\n",
    "        dtype={0: str},      # preserve '0007'\n",
    "        engine=\"python\",\n",
    "    )\n",
    "    # Drop empty rows if any slipped through\n",
    "    df = df.dropna(how=\"all\")\n",
    "    \n",
    "    return df\n"
   ]
  },
  {
   "cell_type": "code",
   "execution_count": 11,
   "id": "574a898f-9cd2-4ad9-99dc-9e9b175018ae",
   "metadata": {
    "jupyter": {
     "source_hidden": true
    }
   },
   "outputs": [],
   "source": [
    "def iter_cam_paths_from_master(master_path, base_path, cuttype):\n",
    "    \"\"\"\n",
    "    Yields (row_idx, camnum_int, cam_filename, cam_path, row) for each row in Master.txt.\n",
    "    - camnum_int is the integer form for formatting (7 → '0007')\n",
    "    - row is the entire pandas row if you want X/Y/Z/feed later\n",
    "    \"\"\"\n",
    "    base_path = Path(base_path)\n",
    "    df = load_master_table(master_path)\n",
    "    campaths = []\n",
    "    for i, row in df.iterrows():\n",
    "        camnum_str = str(row[0]).strip()\n",
    "\n",
    "        # Be forgiving: extract digits just in case (e.g., '0007' or '0007,' etc.)\n",
    "        m = re.search(r\"(\\d+)\", camnum_str)\n",
    "        if not m:\n",
    "            print(f\"[warn] row {i}: could not parse cam number from '{camnum_str}'\")\n",
    "            continue\n",
    "\n",
    "        camnum_int = int(m.group(1))  # 7, 12, etc.\n",
    "        cam_filename = f\"CutCam{cuttype}{camnum_int:04d}.Cam\"\n",
    "        cam_path = base_path / cam_filename\n",
    "        campaths.append(cam_path)\n",
    "\n",
    "        if not cam_path.exists():\n",
    "            print(f\"[warn] row {i}: missing {cam_path}\")\n",
    "            continue\n",
    "\n",
    "    return campaths# i, camnum_int, cam_filename, cam_path, row"
   ]
  },
  {
   "cell_type": "code",
   "execution_count": 12,
   "id": "07175009-5b73-4934-9035-b3a71893d274",
   "metadata": {
    "jupyter": {
     "source_hidden": true
    }
   },
   "outputs": [],
   "source": [
    "def loadcampath(master_path, base_path, cuttype, camnum):\n",
    "    \"\"\"\n",
    "    Yields (row_idx, camnum_int, cam_filename, cam_path, row) for each row in Master.txt.\n",
    "    - camnum_int is the integer form for formatting (7 → '0007')\n",
    "    - row is the entire pandas row if you want X/Y/Z/feed later\n",
    "    \"\"\"\n",
    "    base_path = Path(base_path)\n",
    "    df = load_master_table(master_path)\n",
    "    campaths = []\n",
    "    for i, row in df.iterrows():\n",
    "        camnum_str = str(row[0]).strip()\n",
    "\n",
    "        # Be forgiving: extract digits just in case (e.g., '0007' or '0007,' etc.)\n",
    "        m = re.search(r\"(\\d+)\", camnum_str)\n",
    "        if not m:\n",
    "            print(f\"[warn] row {i}: could not parse cam number from '{camnum_str}'\")\n",
    "            continue\n",
    "\n",
    "        camnum_int = int(m.group(1))  # 7, 12, etc.\n",
    "        cam_filename = f\"CutCam{cuttype}{camnum_int:04d}.Cam\"\n",
    "        cam_path = base_path / cam_filename\n",
    "        campaths.append(cam_path)\n",
    "\n",
    "        if not cam_path.exists():\n",
    "            print(f\"[warn] row {i}: missing {cam_path}\")\n",
    "            continue\n",
    "\n",
    "    return campaths# i, camnum_int, cam_filename, cam_path, row\n"
   ]
  },
  {
   "cell_type": "code",
   "execution_count": 13,
   "id": "b3cda7be-ab84-4438-88a8-e5ab3ad51dec",
   "metadata": {
    "jupyter": {
     "source_hidden": true
    }
   },
   "outputs": [],
   "source": [
    "def get_cutcam_coords(campath):\n",
    "    \"\"\"\n",
    "    \"\"\"\n",
    "    leader_values = []\n",
    "    follower_values = []\n",
    "    \n",
    "    with open(campath, \"r\") as f:\n",
    "        for ln in f:\n",
    "            s = ln.strip()\n",
    "            parts = s.replace(\",\", \" \").split()\n",
    "            if len(parts) < 2:\n",
    "                continue\n",
    "            try:\n",
    "                leader = float(parts[1]) # was 0 \n",
    "                follower = float(parts[2]) # was 1\n",
    "            except ValueError:\n",
    "                print(f\"[warn] Skipping non-numeric line: {s}\")\n",
    "                continue\n",
    "            leader_values.append(leader)\n",
    "            follower_values.append(follower)\n",
    "        \n",
    "            \n",
    "    return leader_values, follower_values"
   ]
  },
  {
   "cell_type": "code",
   "execution_count": 18,
   "id": "74927dca-bfcf-464c-b482-2a23e655200d",
   "metadata": {
    "jupyter": {
     "source_hidden": true
    }
   },
   "outputs": [],
   "source": [
    "def enable_zaxes(controller, cq, z_axes):\n",
    "    \"\"\"\n",
    "    Enable X, Y, and one or more Z axes.\n",
    "\n",
    "    Args\n",
    "    ----\n",
    "    controller : a1.Controller\n",
    "    cq         : Command queue\n",
    "    z_axes     : str or list of str  (\"ZC\" or [\"ZA\", \"ZB\"])\n",
    "\n",
    "    Note: controller and command queue must already be instantiated. \n",
    "    \"\"\"\n",
    "    print(\"Queue was initiated on task:\", cq.task_index, \"capacity:\", cq.command_capacity)\n",
    "\n",
    "    if isinstance(z_axes, str):\n",
    "        z_axes = [z_axes]\n",
    "\n",
    "    cq.pause()\n",
    "    for axis in [\"X\", \"Y\"] + z_axes:\n",
    "        cq.commands.motion.enable(axis)\n",
    "    print(f\"Enabled axes: X, Y, {', '.join(z_axes)}\")\n",
    "\n",
    "    cq.resume()\n",
    "    cq.wait_for_empty()\n",
    "    controller.runtime.commands.end_command_queue(cq)"
   ]
  },
  {
   "cell_type": "markdown",
   "id": "e4668f21-737a-4d11-8f29-a18c93ee49a0",
   "metadata": {},
   "source": [
    "# Setup Parameters for Cutting"
   ]
  },
  {
   "cell_type": "code",
   "execution_count": 14,
   "id": "85e42981-d2ca-4e60-8e37-549aa8a6d5be",
   "metadata": {},
   "outputs": [],
   "source": [
    "base_path = Path(r\"C:\\Users\\UNIVERSITY\\Desktop\\RunData\\Automation1_TEST\\Dressing_CCAT\\CutCammingThin\")\n",
    "# Filenames\n",
    "cuttype     = \"Thin\"                # Equivalent to #define cuttype \"Thin\"\n",
    "mastername  = \"Master.txt\"          # The list of cuts\n",
    "lockname    = \"lockfile.lock\"       # Lockfile to prevent re-running"
   ]
  },
  {
   "cell_type": "code",
   "execution_count": 15,
   "id": "135da1f3-8eed-4b18-ad88-1eec4f01a1ff",
   "metadata": {},
   "outputs": [],
   "source": [
    "# Parameters\n",
    "safelift        = 10.0   # 20 mm above z-start for safe moves\n",
    "feedspeed       = 5.0   # 11 mm/s "
   ]
  },
  {
   "cell_type": "markdown",
   "id": "6a3abc0c-b6af-4d30-af21-2d1c855541c3",
   "metadata": {},
   "source": [
    "# Controller and Queue"
   ]
  },
  {
   "cell_type": "code",
   "execution_count": 16,
   "id": "3546eac7-4696-49e7-abfc-e69efb1c6eca",
   "metadata": {},
   "outputs": [
    {
     "name": "stdout",
     "output_type": "stream",
     "text": [
      "True\n"
     ]
    }
   ],
   "source": [
    "controller = a1.Controller.connect()\n",
    "controller.start()\n",
    "print(controller.is_running)"
   ]
  },
  {
   "cell_type": "code",
   "execution_count": 17,
   "id": "dda1cd43-6cce-4a3e-a46e-7d66525a1595",
   "metadata": {},
   "outputs": [
    {
     "name": "stdout",
     "output_type": "stream",
     "text": [
      "Queue started on task: 1 capacity: 64\n"
     ]
    }
   ],
   "source": [
    "# start a queue with capacity 64, and block if full\n",
    "cq = controller.runtime.commands.begin_command_queue(task=1, command_capacity=64, should_block_if_full=True)\n",
    "print(\"Queue started on task:\", cq.task_index, \"capacity:\", cq.command_capacity)\n"
   ]
  },
  {
   "cell_type": "markdown",
   "id": "ebb588c3-bb0c-4ad7-b182-7f9d60d81fe6",
   "metadata": {},
   "source": [
    "# Enable Axes\n",
    "-- every function in use ends the queue for cleanliness of state"
   ]
  },
  {
   "cell_type": "code",
   "execution_count": 20,
   "id": "7347633b-11a7-4f55-be77-27fabdb108ef",
   "metadata": {},
   "outputs": [
    {
     "name": "stdout",
     "output_type": "stream",
     "text": [
      "Queue was initiated on task: 1 capacity: 64\n",
      "Enabled axes: X, Y, ZC\n"
     ]
    }
   ],
   "source": [
    "enable_zaxes(controller=controller, cq=cq, z_axes=['ZC']) "
   ]
  },
  {
   "cell_type": "markdown",
   "id": "e0261681-b28d-41be-ac51-a58b19a9898a",
   "metadata": {},
   "source": [
    "# Prepare Z Axes/Axis"
   ]
  },
  {
   "cell_type": "code",
   "execution_count": 25,
   "id": "b0d3d3ed-6af7-478b-893c-e0ed898cefa0",
   "metadata": {},
   "outputs": [],
   "source": [
    "z_axes = ['ZC']\n",
    "spindle_ports = [10]\n",
    "flood_ports = [6]\n",
    "active_z = 'ZC'"
   ]
  },
  {
   "cell_type": "code",
   "execution_count": 27,
   "id": "a16264cf-13a2-4484-aadd-f1e45b85c265",
   "metadata": {},
   "outputs": [
    {
     "name": "stdout",
     "output_type": "stream",
     "text": [
      "Queue started on task: 1 capacity: 64\n"
     ]
    }
   ],
   "source": [
    "# start a queue with capacity 64, and block if full\n",
    "cq = controller.runtime.commands.begin_command_queue(task=1, command_capacity=64, should_block_if_full=True)\n",
    "print(\"Queue started on task:\", cq.task_index, \"capacity:\", cq.command_capacity)\n"
   ]
  },
  {
   "cell_type": "code",
   "execution_count": 28,
   "id": "c38e9c11-158c-4d5d-9fb6-003b04b65eb0",
   "metadata": {},
   "outputs": [
    {
     "name": "stdout",
     "output_type": "stream",
     "text": [
      "Moved ZC to 0.0000 mm. Resetting flood cooling, turning on spindles, and enabling flood for active Z axis, ZC.\n",
      "Command queue ended after prepping Z axes.\n",
      "Flood cooling port 6 is ON\n",
      "Spindle port 10 is ON\n"
     ]
    }
   ],
   "source": [
    "prepare_zaxes(controller, cq, z_axes, spindle_ports, flood_ports, active_z,\n",
    "                  z_position=0, z_speed=10, delay_ms=11_000, io_axis='X')"
   ]
  },
  {
   "cell_type": "markdown",
   "id": "d06daa71-ed21-4de4-93ab-78578c6084e7",
   "metadata": {},
   "source": [
    "# Cut Camming Can Now Begin"
   ]
  },
  {
   "cell_type": "code",
   "execution_count": 42,
   "id": "ba043602-5e3e-4eab-ad8f-a5707c52be76",
   "metadata": {},
   "outputs": [
    {
     "name": "stdout",
     "output_type": "stream",
     "text": [
      "10.0 5.0 C:\\Users\\UNIVERSITY\\Desktop\\RunData\\Automation1_TEST\\Dressing_CCAT\\CutCammingThin\n"
     ]
    }
   ],
   "source": [
    "path = base_path\n",
    "zaxis = 'ZC'\n",
    "cuttype = 'Thin'\n",
    "print(safelift, feedspeed, path)"
   ]
  },
  {
   "cell_type": "code",
   "execution_count": 46,
   "id": "5534f00f-e194-4a45-ad01-d340db7b378c",
   "metadata": {},
   "outputs": [
    {
     "name": "stdout",
     "output_type": "stream",
     "text": [
      "Queue started on task: 1 capacity: 64\n"
     ]
    }
   ],
   "source": [
    "# start a queue with capacity 64, and block if full\n",
    "cq = controller.runtime.commands.begin_command_queue(task=1, command_capacity=64, should_block_if_full=True)\n",
    "print(\"Queue started on task:\", cq.task_index, \"capacity:\", cq.command_capacity)\n"
   ]
  },
  {
   "cell_type": "code",
   "execution_count": 49,
   "id": "d7fb0b19-0fa4-4d4e-9179-d1a07794d63c",
   "metadata": {},
   "outputs": [
    {
     "name": "stdout",
     "output_type": "stream",
     "text": [
      "Lockfile not present, moving forward.\n",
      "[warn] Skipping non-numeric line: ;Filename: C:\\Users\\UNIVERSITY\\Desktop\\RunData\\CCAT_Alumina_350\\Surface1\\0deg\\Dressing\\SpindleC\\CutCammingThin\\CutCamThin0000.Cam\n",
      "[warn] Skipping non-numeric line: Number of points 0260\n",
      "[warn] Skipping non-numeric line: Master Units (PRIMARY)\n",
      "[warn] Skipping non-numeric line: Slave Units (PRIMARY)\n",
      "Camming table loaded\n",
      "ZC camming bit is True; ready to cut line 0000\n",
      "ZC camming status is off, 0000 line finished cutting.\n",
      "[warn] Skipping non-numeric line: ;Filename: C:\\Users\\UNIVERSITY\\Desktop\\RunData\\CCAT_Alumina_350\\Surface1\\0deg\\Dressing\\SpindleC\\CutCammingThin\\CutCamThin0001.Cam\n",
      "[warn] Skipping non-numeric line: Number of points 0260\n",
      "[warn] Skipping non-numeric line: Master Units (PRIMARY)\n",
      "[warn] Skipping non-numeric line: Slave Units (PRIMARY)\n",
      "Camming table loaded\n",
      "ZC camming bit is True; ready to cut line 0001\n",
      "ZC camming status is off, 0001 line finished cutting.\n"
     ]
    }
   ],
   "source": [
    "cutcamming(controller, cq, path, zaxis, cuttype, safelift, feedspeed)"
   ]
  },
  {
   "cell_type": "markdown",
   "id": "68a68a27-864c-4054-8b99-c15f4c37f3ec",
   "metadata": {},
   "source": [
    "# TODO:\n",
    "1. add a lockfile when looped through everything\n",
    "2. right now, feed speed is constant, but i know we increase the feed speed after starting the line \n",
    "3. turn off flood cooling --> or when doing multi-cuts, prepare_zaxes will just turn off flood cooling\n",
    "     - can just create a separate function that turns off flood cooling\n",
    "4. ask about the safelift---should it be implemented earlier in the function? ask Rahul, Cameron, and Jeff during MML group meeting\n",
    "5. iterate over multiple rows cus the cut camming function right now only iterates for two as my test\n",
    "6. implement test touches every 30 lines like for alumina --> we can generalize this function to work for X number of lines (30, 100, etc)\n",
    "7. add a test touch from file python function\n",
    "8. add spindle calibration python scripts\n",
    "9. clean up docstrings across each of the functions now that things are in their finalized state"
   ]
  },
  {
   "cell_type": "code",
   "execution_count": null,
   "id": "3a79baa9-89aa-4695-b7b1-d7e4302d97b1",
   "metadata": {},
   "outputs": [],
   "source": []
  }
 ],
 "metadata": {
  "kernelspec": {
   "display_name": "Python 3 (ipykernel)",
   "language": "python",
   "name": "python3"
  },
  "language_info": {
   "codemirror_mode": {
    "name": "ipython",
    "version": 3
   },
   "file_extension": ".py",
   "mimetype": "text/x-python",
   "name": "python",
   "nbconvert_exporter": "python",
   "pygments_lexer": "ipython3",
   "version": "3.11.9"
  }
 },
 "nbformat": 4,
 "nbformat_minor": 5
}
