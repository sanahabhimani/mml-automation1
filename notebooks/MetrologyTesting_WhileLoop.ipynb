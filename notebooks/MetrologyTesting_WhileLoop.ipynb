{
 "cells": [
  {
   "cell_type": "code",
   "execution_count": 1,
   "id": "9b385c50-ec50-4a5c-b311-b15b37b9e77a",
   "metadata": {},
   "outputs": [],
   "source": [
    "import automation1 as a1\n",
    "import time\n",
    "import numpy as np\n",
    "import matplotlib.pyplot as plt\n",
    "\n",
    "import os\n",
    "import serial\n",
    "from pathlib import Path\n",
    "from pprint import pprint\n",
    "\n",
    "import sys\n",
    "sys.path.append('C:\\\\Users\\\\UNIVERSITY\\\\git\\\\')\n",
    "sys.path.append('C:\\\\Users\\\\UNIVERSITY\\\\git\\\\metalens\\\\')\n",
    "import metalens\n",
    "import core_utils as cu "
   ]
  },
  {
   "cell_type": "markdown",
   "id": "f698c56c-5e12-40e0-86a6-756731da1bb0",
   "metadata": {},
   "source": [
    "# Test mml-automation package core-utils"
   ]
  },
  {
   "cell_type": "code",
   "execution_count": 2,
   "id": "2cacd67d-725b-490e-abed-7b7d41ed7898",
   "metadata": {
    "jupyter": {
     "source_hidden": true
    }
   },
   "outputs": [],
   "source": [
    "def enable_metrologyprobe(controller, state, output_num=0, axis=\"X\", execution_task_index=1):\n",
    "    \"\"\"\n",
    "    Enable or disable the metrology probe, then confirm state.\n",
    "\n",
    "    Parameters\n",
    "    ----------\n",
    "    controller : object\n",
    "        Automation1 controller instance.\n",
    "    state : str\n",
    "        Either \"on\" or \"off\".\n",
    "    output_num : int\n",
    "        Digital IO output port where the probe is connected. Default 0.\n",
    "    axis : str\n",
    "        Axis name (e.g., \"X\"). Default \"X\".\n",
    "    execution_task_index : int\n",
    "        The Task window in the Automation1 software suite to execute the command.\n",
    "    \"\"\"\n",
    "\n",
    "    state = state.lower()\n",
    "    if state == \"on\":\n",
    "        value = 1\n",
    "    elif state == \"off\":\n",
    "        value = 0\n",
    "    else:\n",
    "        raise ValueError(\"state must be 'on' or 'off'\")\n",
    "\n",
    "    # Set the output\n",
    "    controller.runtime.commands.io.digitaloutputset(\n",
    "        axis=axis,\n",
    "        output_num=output_num,\n",
    "        value=value,\n",
    "        execution_task_index=execution_task_index,\n",
    "    )\n",
    "    time.sleep(1)\n",
    "    # Read back the output state\n",
    "    current = controller.runtime.commands.io.digitaloutputget(\n",
    "        axis=axis,\n",
    "        output_num=output_num,\n",
    "        execution_task_index=execution_task_index,\n",
    "    )\n",
    "    #print(current)\n",
    "    # Build human-readable status\n",
    "    if int(current) == 1:\n",
    "        status = \"Metrology probe is ON\"\n",
    "    elif int(current) == 0:\n",
    "        status = \"Metrology probe is OFF\"\n",
    "    else:\n",
    "        status = \"Metrology probe in awkward state. Stop and check hardware.\"\n",
    "\n",
    "    return status\n"
   ]
  },
  {
   "cell_type": "code",
   "execution_count": 3,
   "id": "755f3e21-21ac-4264-869f-1d4626dbb1dc",
   "metadata": {
    "jupyter": {
     "source_hidden": true
    }
   },
   "outputs": [],
   "source": [
    "def enable_axes(controller, cq, z_axes):\n",
    "    \"\"\"\n",
    "    Enable X, Y, and one or more Z axes.\n",
    "\n",
    "    Args\n",
    "    ----\n",
    "    controller : a1.Controller\n",
    "    cq         : Command queue\n",
    "    z_axes     : str or list of str  (\"ZC\" or [\"ZA\", \"ZB\"])\n",
    "\n",
    "    Note: controller and command queue must already be instantiated. \n",
    "    \"\"\"\n",
    "    print(\"Queue was initiated on task:\", cq.task_index, \"capacity:\", cq.command_capacity)\n",
    "\n",
    "    if isinstance(z_axes, str):\n",
    "        z_axes = [z_axes]\n",
    "\n",
    "    cq.pause()\n",
    "    for axis in [\"X\", \"Y\"] + z_axes:\n",
    "        cq.commands.motion.enable(axis)\n",
    "    print(f\"Enabled axes: X, Y, {', '.join(z_axes)}\")\n",
    "\n",
    "    cq.resume()\n",
    "    cq.wait_for_empty()\n",
    "    controller.runtime.commands.end_command_queue(cq)"
   ]
  },
  {
   "cell_type": "code",
   "execution_count": 4,
   "id": "64be22e3-dfa1-4b77-942f-59b57bc9b8c5",
   "metadata": {},
   "outputs": [],
   "source": [
    "def _get_program_pos(controller, axes=(\"X\",\"Y\",\"ZA\")):\n",
    "    cfg = a1.StatusItemConfiguration()\n",
    "    for ax in axes:\n",
    "        cfg.axis.add(a1.AxisStatusItem.ProgramPosition, ax)\n",
    "    res = controller.runtime.status.get_status_items(cfg)\n",
    "    return {ax: res.axis.get(a1.AxisStatusItem.ProgramPosition, ax).value for ax in axes}\n",
    "\n",
    "def testtouch_metrology(\n",
    "    command_queue, controller,\n",
    "    numX, lengthX,\n",
    "    Xstart, Ystart, Zstart, Zdrop,\n",
    "    outname, comport=\"COM4\",\n",
    "    dwell_ms_at_depth=0  # set >0 if you want a hardware dwell at depth\n",
    "):\n",
    "    \"\"\"\n",
    "    Y is fixed. For each X:\n",
    "      - Move to (X, Ystart, Zstart), wait\n",
    "      - Move ZA to depth, wait\n",
    "      - wait_for_empty()  <-- ensure we're *actually* at depth\n",
    "      - pause()           <-- freeze queue; nothing else will move\n",
    "      - read sensor + positions; print\n",
    "      - resume(); retract to Zstart; wait; wait_for_empty()\n",
    "    \"\"\"\n",
    "    if os.path.exists(outname):\n",
    "        print(\"Metrology File Present, Stopping Motion\")\n",
    "        return\n",
    "    \n",
    "    # Step size along X\n",
    "    incX = 0.0 if numX <= 1 else (lengthX / (numX - 1))\n",
    "    depth = Zstart - Zdrop\n",
    "\n",
    "    # Enable axes we use\n",
    "    for ax in [\"X\", \"Y\", \"ZA\"]:\n",
    "        command_queue.commands.motion.enable(ax)\n",
    "\n",
    "    # Move to start (Y fixed)\n",
    "    command_queue.commands.motion.moveabsolute(axes=[\"ZA\"], positions=[0.0], speeds=[8.0])\n",
    "    command_queue.commands.motion.waitformotiondone([\"ZA\"])\n",
    "    command_queue.commands.motion.waitforinposition([\"ZA\"])\n",
    "    command_queue.commands.motion.moveabsolute(axes=[\"X\"], positions=[Xstart], speeds=[15.0])\n",
    "    command_queue.commands.motion.waitformotiondone([\"X\"])\n",
    "    command_queue.commands.motion.waitforinposition([\"X\"])\n",
    "    command_queue.commands.motion.moveabsolute(axes=[\"Y\"], positions=[Ystart], speeds=[15.0])\n",
    "    command_queue.commands.motion.waitformotiondone([\"Y\"])\n",
    "    command_queue.commands.motion.waitforinposition([\"Y\"])\n",
    "\n",
    "    command_queue.wait_for_empty()  # arrive at start pose\n",
    "\n",
    "    # Open gauge once\n",
    "    ser = serial.Serial(comport, 9600, timeout=3)\n",
    "    time.sleep(0.02)\n",
    "    f = open(outname, \"w\")\n",
    "    for ix in range(numX):\n",
    "        x = Xstart + incX * ix\n",
    "\n",
    "        # 1) Row point: (x, Ystart, Zstart) and wait\n",
    "        command_queue.commands.motion.moveabsolute(\n",
    "            axes=[\"X\", \"Y\", \"ZA\"], positions=[x, Ystart, Zstart], speeds=[10.0, 10.0, 3.0]\n",
    "        )\n",
    "        command_queue.commands.motion.waitformotiondone([\"X\", \"Y\", \"ZA\"])\n",
    "        command_queue.commands.motion.waitforinposition([\"X\", \"Y\", \"ZA\"])\n",
    "        command_queue.commands.motion.movedelay(\"ZA\", 2_000)\n",
    "        \n",
    "\n",
    "        # 2) Drop to depth and dwell so we can pause and query data points\n",
    "        \n",
    "        command_queue.commands.motion.moveabsolute(axes=[\"ZA\"], positions=[depth], speeds=[3.0])\n",
    "        command_queue.commands.motion.waitforinposition([\"ZA\"])\n",
    "        command_queue.commands.motion.waitformotiondone([\"ZA\"])\n",
    "        command_queue.commands.motion.movedelay(\"ZA\", int(dwell_ms_at_depth))\n",
    "\n",
    "        command_queue.commands.motion.movedelay([\"X\", \"Y\", \"ZA\"], 4_000)\n",
    "        \n",
    "        ser.write(b\"RMD0\\r\\n\")  # replace with your gauge's measurement command if needed\n",
    "        time.sleep(0.05)\n",
    "        \n",
    "        sensor = ser.read(2048).decode(\"utf-8\", errors=\"ignore\").strip()\n",
    "\n",
    "        while True:\n",
    "            pos = _get_program_pos(controller, axes=(\"X\",\"Y\",\"ZA\"))\n",
    "            if pos['X'] == x and pos['Y'] == Ystart and pos['ZA'] == depth:\n",
    "                line = f\"{pos['X']}, {pos['Y']}, {pos['ZA']}, {sensor}\\n\"\n",
    "                f.write(line)\n",
    "                f.flush()\n",
    "                print(f\"{pos['X']}, {pos['Y']}, {pos['ZA']}, {sensor}\")\n",
    "                break   # exit while, go to next X\n",
    "            else:\n",
    "                time.sleep(0.1)  # tiny delay before re-check\n",
    "                \n",
    "\n",
    "        #command_queue.commands.motion.movedelay(\"ZA\", 2_000)\n",
    "        command_queue.commands.motion.moveabsolute(axes=[\"ZA\"], positions=[Zstart], speeds=[7.0])\n",
    "        command_queue.commands.motion.waitformotiondone([\"ZA\"])\n",
    "        command_queue.commands.motion.waitforinposition([\"ZA\"])\n",
    "        command_queue.commands.motion.movedelay(\"X\", 4_000)\n",
    "        command_queue.wait_for_empty()  # ensure retract finished before next X\n",
    "        \n",
    "    # Park and end\n",
    "    command_queue.commands.motion.movedelay(\"ZA\", 3_000)\n",
    "    command_queue.commands.motion.moveabsolute(axes=[\"ZA\"], positions=[0.0], speeds=[8.0])\n",
    "    command_queue.commands.motion.waitformotiondone([\"ZA\"])\n",
    "    command_queue.commands.motion.waitforinposition([\"ZA\"])\n",
    "\n",
    "    command_queue.wait_for_empty()\n",
    "    controller.runtime.commands.end_command_queue(command_queue)\n",
    "    f.close()\n",
    "    ser.close()\n",
    " "
   ]
  },
  {
   "cell_type": "code",
   "execution_count": 13,
   "id": "70b12dfe-4160-4a16-a92b-d155bb0ddccb",
   "metadata": {},
   "outputs": [],
   "source": [
    "def dressing_metrology(\n",
    "    command_queue, controller,\n",
    "    numX, lengthX, numY, lengthY,\n",
    "    Xstart, Ystart, Zstart, Zdrop,\n",
    "    outname, comport=\"COM4\",\n",
    "    dwell_ms_at_depth=0  # set >0 if you want a hardware dwell at depth\n",
    "):\n",
    "    \"\"\"\n",
    "    For each X and Y:\n",
    "      - Move to (X, Y, Zstart), wait\n",
    "      - Move ZA to depth, wait\n",
    "      - wait_for_empty()  <-- ensure we're *actually* at depth\n",
    "      - movedelay()           <-- freeze; nothing else will move\n",
    "      - read sensor + positions; write to file\n",
    "      - resume(); retract to Zstart; wait; wait_for_empty()\n",
    "    \"\"\"\n",
    "    if os.path.exists(outname):\n",
    "        print(\"Metrology File Present, Stopping Motion\")\n",
    "        return\n",
    "    \n",
    "    # Step size along X\n",
    "    incX = 0.0 if numX <= 1 else (lengthX / (numX - 1))\n",
    "    incY = 0.0 if numY <= 1 else (lengthY / (numY - 1))\n",
    "    depth = Zstart - Zdrop\n",
    "\n",
    "    # Enable axes we use\n",
    "    for ax in [\"X\", \"Y\", \"ZA\"]:\n",
    "        command_queue.commands.motion.enable(ax)\n",
    "\n",
    "    # Move to start (Y fixed)\n",
    "    command_queue.commands.motion.moveabsolute(axes=[\"ZA\"], positions=[0.0], speeds=[8.0])\n",
    "    command_queue.commands.motion.waitformotiondone([\"ZA\"])\n",
    "    command_queue.commands.motion.waitforinposition([\"ZA\"])\n",
    "    command_queue.commands.motion.moveabsolute(axes=[\"X\"], positions=[Xstart], speeds=[15.0])\n",
    "    command_queue.commands.motion.waitformotiondone([\"X\"])\n",
    "    command_queue.commands.motion.waitforinposition([\"X\"])\n",
    "    command_queue.commands.motion.moveabsolute(axes=[\"Y\"], positions=[Ystart], speeds=[15.0])\n",
    "    command_queue.commands.motion.waitformotiondone([\"Y\"])\n",
    "    command_queue.commands.motion.waitforinposition([\"Y\"])\n",
    "\n",
    "    command_queue.wait_for_empty()  # arrive at start pose\n",
    "\n",
    "    # Open gauge once\n",
    "    ser = serial.Serial(comport, 9600, timeout=3)\n",
    "    time.sleep(0.02)\n",
    "   # f = open(outname, \"w\")\n",
    "    for ix in range(numX):\n",
    "        x = Xstart + incX * ix\n",
    "\n",
    "        command_queue.commands.motion.moveabsolute(\n",
    "            axes=[\"X\", \"ZA\"], positions=[x, Zstart], speeds=[10.0, 6.0]\n",
    "        )\n",
    "        command_queue.commands.motion.waitformotiondone([\"X\", \"ZA\"])\n",
    "        command_queue.commands.motion.waitforinposition([\"X\", \"ZA\"])\n",
    "        command_queue.commands.motion.movedelay(\"ZA\", 2_000)\n",
    "        \n",
    "        for iy in range(numY):\n",
    "            y = Ystart + incY * iy\n",
    "            print(y)\n",
    "            # 2) Drop to depth and dwell so we can pause and query data points\n",
    "            command_queue.commands.motion.moveabsolute(axes=[\"Y\"], positions=[y], speeds=[3.0])\n",
    "            command_queue.commands.motion.waitforinposition([\"Y\"])\n",
    "            command_queue.commands.motion.waitformotiondone([\"Y\"])\n",
    "            command_queue.commands.motion.movedelay(\"Y\", 2_000) # can change to 1s\n",
    "\n",
    "            \n",
    "            command_queue.commands.motion.moveabsolute(axes=[\"ZA\"], positions=[depth], speeds=[3.0])\n",
    "            command_queue.commands.motion.waitforinposition([\"ZA\"])\n",
    "            command_queue.commands.motion.waitformotiondone([\"ZA\"])\n",
    "            #command_queue.commands.motion.movedelay(\"ZA\", int(dwell_ms_at_depth))\n",
    "    \n",
    "            command_queue.commands.motion.movedelay([\"X\", \"Y\", \"ZA\"], 4_000)\n",
    "            \n",
    "            ser.write(b\"RMD0\\r\\n\")  # replace with your gauge's measurement command if needed\n",
    "            time.sleep(0.05)\n",
    "            \n",
    "            sensor = ser.read(2048).decode(\"utf-8\", errors=\"ignore\").strip()\n",
    "    \n",
    "            while True:\n",
    "                pos = _get_program_pos(controller, axes=(\"X\",\"Y\",\"ZA\"))\n",
    "                if pos['X'] == x and pos['Y'] == y and pos['ZA'] == depth:\n",
    "                    line = f\"{pos['X']}, {pos['Y']}, {pos['ZA']}, {sensor}\\n\"\n",
    "                    #f.write(line)\n",
    "                    #f.flush()\n",
    "                    print(f\"{pos['X']}, {pos['Y']}, {pos['ZA']}, {sensor}\")\n",
    "                    break   # exit while, go to next X\n",
    "                else:\n",
    "                    time.sleep(0.1)  # tiny delay before re-check\n",
    "                    \n",
    "    \n",
    "            #command_queue.commands.motion.movedelay(\"ZA\", 2_000)\n",
    "            command_queue.commands.motion.moveabsolute(axes=[\"ZA\"], positions=[Zstart], speeds=[7.0])\n",
    "            command_queue.commands.motion.waitformotiondone([\"ZA\"])\n",
    "            command_queue.commands.motion.waitforinposition([\"ZA\"])\n",
    "            command_queue.commands.motion.movedelay([\"X\", \"Y\"], 3_000)\n",
    "            command_queue.wait_for_empty()  # ensure retract finished before next X\n",
    "        \n",
    "    # Park and end\n",
    "    command_queue.commands.motion.movedelay(\"ZA\", 3_000)\n",
    "    command_queue.commands.motion.moveabsolute(axes=[\"ZA\"], positions=[0.0], speeds=[8.0])\n",
    "    command_queue.commands.motion.waitformotiondone([\"ZA\"])\n",
    "    command_queue.commands.motion.waitforinposition([\"ZA\"])\n",
    "\n",
    "    command_queue.wait_for_empty()\n",
    "    controller.runtime.commands.end_command_queue(command_queue)\n",
    "   # f.close()\n",
    "    ser.close()"
   ]
  },
  {
   "cell_type": "code",
   "execution_count": null,
   "id": "197748ae-f35a-4554-8fce-dcd25327df42",
   "metadata": {},
   "outputs": [],
   "source": []
  },
  {
   "cell_type": "markdown",
   "id": "ffb5dad3-2e41-43df-9e8c-2bb2cf77c785",
   "metadata": {},
   "source": [
    "# 1. Controller connection"
   ]
  },
  {
   "cell_type": "code",
   "execution_count": 7,
   "id": "d09f3727-2f40-475b-b31d-2e9bf1c799fb",
   "metadata": {},
   "outputs": [
    {
     "name": "stdout",
     "output_type": "stream",
     "text": [
      "True\n"
     ]
    }
   ],
   "source": [
    "controller = a1.Controller.connect()\n",
    "controller.start()\n",
    "print(controller.is_running)"
   ]
  },
  {
   "cell_type": "markdown",
   "id": "3fb9de36-ebfd-489b-8ec0-c8c0209cd209",
   "metadata": {},
   "source": [
    "# 2. Turn Metrology Probe On\n",
    "\n",
    "- the reason we can't do this in the function that does the rastering is because we use the command queue module to make the motions for moving the axes\n",
    "- in order for us to enable the probe, we cannot command digital output bits like the probe, the flood cooling, the spindle, inside a command_queue session, so it has to be done separately. To make life easier, I made a simple function that takes the automation1 command and turns the probe on and checks the status of the probe. \n",
    "- we will have to run this step before the metrology functions that gather the data"
   ]
  },
  {
   "cell_type": "code",
   "execution_count": null,
   "id": "4526b514-19ba-42cb-a536-345f73ad7f13",
   "metadata": {},
   "outputs": [],
   "source": [
    "enable_metrologyprobe(controller=controller, state='on', output_num=0, axis=\"X\", execution_task_index=1)"
   ]
  },
  {
   "cell_type": "markdown",
   "id": "97172dc9-a6f3-4adb-b576-3fed139a8411",
   "metadata": {},
   "source": [
    "# 3. Parameter Settings\n",
    "- below is a test touch metrology function in use"
   ]
  },
  {
   "cell_type": "code",
   "execution_count": 8,
   "id": "11f2c024-f05f-4085-9bff-e8ec88f34d2d",
   "metadata": {},
   "outputs": [],
   "source": [
    "# Constants\n",
    "numX = 4\n",
    "numY = 4\n",
    "lengthX = 15  # for normal\n",
    "lengthY = 7\n",
    "\n",
    "lifterSettleTime = 0.5\n",
    "outname = r\"C:\\Users\\UNIVERSITY\\Desktop\\RunData\\Automation1_TEST\\Metrology_dressing.dat\"\n",
    "\n",
    "Xstart = -231.74\n",
    "Ystart = 27.25\n",
    "Zstart = -40.0 #Actually do -20 when the time comes to test in-lab\n",
    "Zdrop = 12.0\n",
    "#pi = math.pi"
   ]
  },
  {
   "cell_type": "markdown",
   "id": "01cf2497-6e3e-4957-b0e6-a0dc0de96d11",
   "metadata": {},
   "source": [
    "# 4. Begin a Command Queue Session"
   ]
  },
  {
   "cell_type": "code",
   "execution_count": 14,
   "id": "978ff0ec-7dcb-4991-b695-a7d06e28e370",
   "metadata": {},
   "outputs": [],
   "source": [
    "command_queue = controller.runtime.commands.begin_command_queue(\"Task 1\", 60, True)"
   ]
  },
  {
   "cell_type": "code",
   "execution_count": 15,
   "id": "a240a708-e68a-4eff-bd06-1f568a658391",
   "metadata": {},
   "outputs": [],
   "source": [
    "cq = command_queue"
   ]
  },
  {
   "cell_type": "code",
   "execution_count": 16,
   "id": "bfc2c96c-fcd7-41d6-aacb-55997b814404",
   "metadata": {},
   "outputs": [
    {
     "name": "stdout",
     "output_type": "stream",
     "text": [
      "{'is_empty': True,\n",
      " 'is_paused': False,\n",
      " 'number_of_executed_commands': 0,\n",
      " 'number_of_times_emptied': 0,\n",
      " 'number_of_unexecuted_commands': 0}\n"
     ]
    }
   ],
   "source": [
    "s = command_queue.status  # property, not callable\n",
    "\n",
    "# Show non-callable public attributes + their values\n",
    "attrs = {\n",
    "    name: getattr(s, name)\n",
    "    for name in dir(s)\n",
    "    if not name.startswith(\"_\") and not callable(getattr(s, name, None))\n",
    "}\n",
    "pprint(attrs)\n"
   ]
  },
  {
   "cell_type": "markdown",
   "id": "663c9104-53f3-4ff6-8b8b-9380f095050f",
   "metadata": {},
   "source": [
    "# 5. Enable ZAxes\n",
    "- note that the `enable_axes` function by default enables X and Y, it is only our job to tell it which additional Z axes we care to enable for our use case"
   ]
  },
  {
   "cell_type": "code",
   "execution_count": null,
   "id": "4bd8b846-212c-416d-9689-9a27bb2c5aac",
   "metadata": {},
   "outputs": [],
   "source": [
    "z_axes = [\"ZA\"]"
   ]
  },
  {
   "cell_type": "code",
   "execution_count": null,
   "id": "f224ad90-c41d-44ca-9c66-d8dbc558ea26",
   "metadata": {},
   "outputs": [],
   "source": [
    "enable_axes(controller, cq, z_axes)"
   ]
  },
  {
   "cell_type": "markdown",
   "id": "1cca923e-b97a-4d6e-9a89-2d0038ec73a1",
   "metadata": {},
   "source": [
    "# 6. And now, we do metrology\n",
    "- pick your poison: test touch metrology? plane metrology? lens metrology? dressing metrology? "
   ]
  },
  {
   "cell_type": "markdown",
   "id": "bd0658b2-47cf-4a8f-b484-79ad2cc079f6",
   "metadata": {},
   "source": [
    "### currently testing dressing metrology"
   ]
  },
  {
   "cell_type": "code",
   "execution_count": 17,
   "id": "91161404-09e7-4cac-a5b0-b27cffbd5cba",
   "metadata": {},
   "outputs": [
    {
     "name": "stdout",
     "output_type": "stream",
     "text": [
      "4 15 4 7 -231.74 27.25 -40.0 12.0 C:\\Users\\UNIVERSITY\\Desktop\\RunData\\Automation1_TEST\\Metrology_dressing.dat\n"
     ]
    }
   ],
   "source": [
    "print( numX, lengthX, numY, lengthY, Xstart, Ystart, Zstart, Zdrop, outname)"
   ]
  },
  {
   "cell_type": "markdown",
   "id": "78dbc8db-6ab1-486f-a6f2-9d5e317f6e86",
   "metadata": {},
   "source": [
    "Note: it moves to the second Y and then the while loop keeps chugging and it might be because it's expecting the next X position but i haven't given it that properly? \n",
    "- maybe for a square, we loosen the while loop conditions to not include X in the inner logging?\n",
    "- not sure not sure"
   ]
  },
  {
   "cell_type": "code",
   "execution_count": null,
   "id": "f8755efb-9a32-45b2-b0ad-fdebcccacc86",
   "metadata": {},
   "outputs": [
    {
     "name": "stdout",
     "output_type": "stream",
     "text": [
      "27.25\n",
      "-231.74, 27.25, -52.0, -27.5062\n",
      "29.583333333333332\n"
     ]
    },
    {
     "ename": "KeyboardInterrupt",
     "evalue": "",
     "output_type": "error",
     "traceback": [
      "\u001b[31m---------------------------------------------------------------------------\u001b[39m",
      "\u001b[31mKeyboardInterrupt\u001b[39m                         Traceback (most recent call last)",
      "\u001b[36mCell\u001b[39m\u001b[36m \u001b[39m\u001b[32mIn[19]\u001b[39m\u001b[32m, line 1\u001b[39m\n\u001b[32m----> \u001b[39m\u001b[32m1\u001b[39m \u001b[43mdressing_metrology\u001b[49m\u001b[43m(\u001b[49m\n\u001b[32m      2\u001b[39m \u001b[43m    \u001b[49m\u001b[43mcommand_queue\u001b[49m\u001b[43m,\u001b[49m\u001b[43m \u001b[49m\u001b[43mcontroller\u001b[49m\u001b[43m,\u001b[49m\n\u001b[32m      3\u001b[39m \u001b[43m    \u001b[49m\u001b[43mnumX\u001b[49m\u001b[43m,\u001b[49m\u001b[43m \u001b[49m\u001b[43mlengthX\u001b[49m\u001b[43m,\u001b[49m\u001b[43m \u001b[49m\u001b[43mnumY\u001b[49m\u001b[43m,\u001b[49m\u001b[43m \u001b[49m\u001b[43mlengthY\u001b[49m\u001b[43m,\u001b[49m\n\u001b[32m      4\u001b[39m \u001b[43m    \u001b[49m\u001b[43mXstart\u001b[49m\u001b[43m,\u001b[49m\u001b[43m \u001b[49m\u001b[43mYstart\u001b[49m\u001b[43m,\u001b[49m\u001b[43m \u001b[49m\u001b[43mZstart\u001b[49m\u001b[43m,\u001b[49m\u001b[43m \u001b[49m\u001b[43mZdrop\u001b[49m\u001b[43m,\u001b[49m\n\u001b[32m      5\u001b[39m \u001b[43m    \u001b[49m\u001b[43moutname\u001b[49m\u001b[43m,\u001b[49m\u001b[43m \u001b[49m\u001b[43mcomport\u001b[49m\u001b[43m=\u001b[49m\u001b[33;43m\"\u001b[39;49m\u001b[33;43mCOM4\u001b[39;49m\u001b[33;43m\"\u001b[39;49m\u001b[43m,\u001b[49m\n\u001b[32m      6\u001b[39m \u001b[43m    \u001b[49m\u001b[43mdwell_ms_at_depth\u001b[49m\u001b[43m=\u001b[49m\u001b[32;43m5_000\u001b[39;49m\u001b[43m  \u001b[49m\u001b[38;5;66;43;03m# set >0 if you want a hardware dwell at depth\u001b[39;49;00m\n\u001b[32m      7\u001b[39m \u001b[43m)\u001b[49m\n",
      "\u001b[36mCell\u001b[39m\u001b[36m \u001b[39m\u001b[32mIn[13]\u001b[39m\u001b[32m, line 88\u001b[39m, in \u001b[36mdressing_metrology\u001b[39m\u001b[34m(command_queue, controller, numX, lengthX, numY, lengthY, Xstart, Ystart, Zstart, Zdrop, outname, comport, dwell_ms_at_depth)\u001b[39m\n\u001b[32m     86\u001b[39m         \u001b[38;5;28;01mbreak\u001b[39;00m   \u001b[38;5;66;03m# exit while, go to next X\u001b[39;00m\n\u001b[32m     87\u001b[39m     \u001b[38;5;28;01melse\u001b[39;00m:\n\u001b[32m---> \u001b[39m\u001b[32m88\u001b[39m         time.sleep(\u001b[32m0.1\u001b[39m)  \u001b[38;5;66;03m# tiny delay before re-check\u001b[39;00m\n\u001b[32m     91\u001b[39m \u001b[38;5;66;03m#command_queue.commands.motion.movedelay(\"ZA\", 2_000)\u001b[39;00m\n\u001b[32m     92\u001b[39m command_queue.commands.motion.moveabsolute(axes=[\u001b[33m\"\u001b[39m\u001b[33mZA\u001b[39m\u001b[33m\"\u001b[39m], positions=[Zstart], speeds=[\u001b[32m7.0\u001b[39m])\n",
      "\u001b[31mKeyboardInterrupt\u001b[39m: "
     ]
    }
   ],
   "source": [
    "dressing_metrology(\n",
    "    command_queue, controller,\n",
    "    numX, lengthX, numY, lengthY,\n",
    "    Xstart, Ystart, Zstart, Zdrop,\n",
    "    outname, comport=\"COM4\",\n",
    "    dwell_ms_at_depth=5_000  # set >0 if you want a hardware dwell at depth\n",
    ")"
   ]
  },
  {
   "cell_type": "code",
   "execution_count": null,
   "id": "534f3a3e-1e5d-426a-b02d-9da218db8c7a",
   "metadata": {},
   "outputs": [],
   "source": [
    "import gc"
   ]
  },
  {
   "cell_type": "code",
   "execution_count": null,
   "id": "4145cee9-8d28-42fd-8ba5-f6e97509039a",
   "metadata": {},
   "outputs": [],
   "source": [
    "import psutil, os\n",
    "p = psutil.Process(os.getpid())\n",
    "print(p.open_files())"
   ]
  },
  {
   "cell_type": "markdown",
   "id": "fcabcade-1576-46a0-8854-9b623109edf0",
   "metadata": {},
   "source": []
  },
  {
   "cell_type": "markdown",
   "id": "93449e82-89c3-4387-af9d-67b7784571a9",
   "metadata": {},
   "source": [
    "#### Annoying things that are happening\n",
    "\n",
    "- X axis moves while ZA is still moving up but it should really wait to reach up to the zstart before X moves at all\n",
    "- Also, sometimes ZA stops at Zstart and sometimes it blows right through it?? mind blowing"
   ]
  },
  {
   "cell_type": "code",
   "execution_count": null,
   "id": "cf16173e-d256-44d8-8f52-ae30845a7214",
   "metadata": {},
   "outputs": [],
   "source": [
    "def _get_program_pos(controller, axes=(\"X\",\"Y\",\"ZA\")):\n",
    "    cfg = a1.StatusItemConfiguration()\n",
    "    for ax in axes:\n",
    "        cfg.axis.add(a1.AxisStatusItem.ProgramPosition, ax)\n",
    "    res = controller.runtime.status.get_status_items(cfg)\n",
    "    return {ax: res.axis.get(a1.AxisStatusItem.ProgramPosition, ax).value for ax in axes}\n",
    "\n",
    "def testtouch_metrology(\n",
    "    command_queue, controller,\n",
    "    numX, lengthX,\n",
    "    Xstart, Ystart, Zstart, Zdrop,\n",
    "    outname, comport=\"COM4\",\n",
    "    dwell_ms_at_depth=0  # set >0 if you want a hardware dwell at depth\n",
    "):\n",
    "    \"\"\"\n",
    "    Y is fixed. For each X:\n",
    "      - Move to (X, Ystart, Zstart), wait\n",
    "      - Move ZA to depth, wait\n",
    "      - wait_for_empty()  <-- ensure we're *actually* at depth\n",
    "      - pause()           <-- freeze queue; nothing else will move\n",
    "      - read sensor + positions; print\n",
    "      - resume(); retract to Zstart; wait; wait_for_empty()\n",
    "    \"\"\"\n",
    "    if os.path.exists(outname):\n",
    "        print(\"Metrology File Present, Stopping Motion\")\n",
    "        return\n",
    "    \n",
    "    # Step size along X\n",
    "    incX = 0.0 if numX <= 1 else (lengthX / (numX - 1))\n",
    "    depth = Zstart - Zdrop\n",
    "\n",
    "    # Enable axes we use\n",
    "    for ax in [\"X\", \"Y\", \"ZA\"]:\n",
    "        command_queue.commands.motion.enable(ax)\n",
    "\n",
    "    # Move to start (Y fixed)\n",
    "    command_queue.commands.motion.moveabsolute(axes=[\"ZA\"], positions=[0.0], speeds=[8.0])\n",
    "    command_queue.commands.motion.waitformotiondone([\"ZA\"])\n",
    "    command_queue.commands.motion.waitforinposition([\"ZA\"])\n",
    "    command_queue.commands.motion.moveabsolute(axes=[\"X\"], positions=[Xstart], speeds=[15.0])\n",
    "    command_queue.commands.motion.waitformotiondone([\"X\"])\n",
    "    command_queue.commands.motion.waitforinposition([\"X\"])\n",
    "    command_queue.commands.motion.moveabsolute(axes=[\"Y\"], positions=[Ystart], speeds=[15.0])\n",
    "    command_queue.commands.motion.waitformotiondone([\"Y\"])\n",
    "    command_queue.commands.motion.waitforinposition([\"Y\"])\n",
    "\n",
    "    command_queue.wait_for_empty()  # arrive at start pose\n",
    "\n",
    "    # Open gauge once\n",
    "    ser = serial.Serial(comport, 9600, timeout=3)\n",
    "    time.sleep(0.02)\n",
    "    f = open(outname, \"w\")\n",
    "    for ix in range(numX):\n",
    "        x = Xstart + incX * ix\n",
    "\n",
    "        # 1) Row point: (x, Ystart, Zstart) and wait\n",
    "        command_queue.commands.motion.moveabsolute(\n",
    "            axes=[\"X\", \"Y\", \"ZA\"], positions=[x, Ystart, Zstart], speeds=[10.0, 10.0, 3.0]\n",
    "        )\n",
    "        command_queue.commands.motion.waitformotiondone([\"X\", \"Y\", \"ZA\"])\n",
    "        command_queue.commands.motion.waitforinposition([\"X\", \"Y\", \"ZA\"])\n",
    "        command_queue.commands.motion.movedelay(\"ZA\", 2_000)\n",
    "        \n",
    "\n",
    "        # 2) Drop to depth and dwell so we can pause and query data points\n",
    "        \n",
    "        command_queue.commands.motion.moveabsolute(axes=[\"ZA\"], positions=[depth], speeds=[3.0])\n",
    "        command_queue.commands.motion.waitforinposition([\"ZA\"])\n",
    "        command_queue.commands.motion.waitformotiondone([\"ZA\"])\n",
    "        command_queue.commands.motion.movedelay(\"ZA\", int(dwell_ms_at_depth))\n",
    "\n",
    "        command_queue.commands.motion.movedelay([\"X\", \"Y\", \"ZA\"], 4_000)\n",
    "        \n",
    "        ser.write(b\"RMD0\\r\\n\")  # replace with your gauge's measurement command if needed\n",
    "        time.sleep(0.05)\n",
    "        \n",
    "        sensor = ser.read(2048).decode(\"utf-8\", errors=\"ignore\").strip()\n",
    "\n",
    "        while True:\n",
    "            pos = _get_program_pos(controller, axes=(\"X\",\"Y\",\"ZA\"))\n",
    "            if pos['X'] == x and pos['Y'] == Ystart and pos['ZA'] == depth:\n",
    "                line = f\"{pos['X']}, {pos['Y']}, {pos['ZA']}, {sensor}\\n\"\n",
    "                f.write(line)\n",
    "                f.flush()\n",
    "                print(f\"{pos['X']}, {pos['Y']}, {pos['ZA']}, {sensor}\")\n",
    "                break   # exit while, go to next X\n",
    "            else:\n",
    "                time.sleep(0.1)  # tiny delay before re-check\n",
    "                \n",
    "\n",
    "        #command_queue.commands.motion.movedelay(\"ZA\", 2_000)\n",
    "        command_queue.commands.motion.moveabsolute(axes=[\"ZA\"], positions=[Zstart], speeds=[7.0])\n",
    "        command_queue.commands.motion.waitformotiondone([\"ZA\"])\n",
    "        command_queue.commands.motion.waitforinposition([\"ZA\"])\n",
    "        command_queue.commands.motion.movedelay(\"X\", 4_000)\n",
    "        command_queue.wait_for_empty()  # ensure retract finished before next X\n",
    "        \n",
    "    # Park and end\n",
    "    command_queue.commands.motion.movedelay(\"ZA\", 3_000)\n",
    "    command_queue.commands.motion.moveabsolute(axes=[\"ZA\"], positions=[0.0], speeds=[8.0])\n",
    "    command_queue.commands.motion.waitformotiondone([\"ZA\"])\n",
    "    command_queue.commands.motion.waitforinposition([\"ZA\"])\n",
    "\n",
    "    command_queue.wait_for_empty()\n",
    "    controller.runtime.commands.end_command_queue(command_queue)\n",
    "    f.close()\n",
    "    ser.close()\n",
    " "
   ]
  },
  {
   "cell_type": "code",
   "execution_count": null,
   "id": "0b5b39f3-7556-41dd-a517-4fef22ae4006",
   "metadata": {},
   "outputs": [],
   "source": [
    "command_queue = controller.runtime.commands.begin_command_queue(\"Task 1\", 60, True)"
   ]
  },
  {
   "cell_type": "code",
   "execution_count": null,
   "id": "54f4a0f5-1a6a-4efb-b4e1-89d740787ce5",
   "metadata": {},
   "outputs": [],
   "source": [
    "ser = serial.Serial('COM4', 9600, timeout=1)"
   ]
  },
  {
   "cell_type": "code",
   "execution_count": null,
   "id": "e37dc023-701d-4329-a0e8-624e792a2ae5",
   "metadata": {},
   "outputs": [],
   "source": [
    "io_axis_flood = \"X\"  # change if your flood IO lives elsewhere\n",
    "controller.commands.io.digitaloutputset(axis=io_axis_flood, output_num=6, value=0, execution_task_index=1)\n",
    "print(\"flood coolant OFF (DO6=0).\")\n"
   ]
  },
  {
   "cell_type": "code",
   "execution_count": null,
   "id": "984f1501-8d44-4574-bd09-070b9825c462",
   "metadata": {},
   "outputs": [],
   "source": [
    "testtouch_metrology_print_only(\n",
    "    command_queue, controller,\n",
    "    numX, lengthX,\n",
    "    Xstart, Ystart, Zstart, Zdrop,\n",
    "    outname, comport=\"COM4\",\n",
    "    dwell_ms_at_depth=5_000  # set >0 if you want a hardware dwell at depth\n",
    ")"
   ]
  },
  {
   "cell_type": "code",
   "execution_count": null,
   "id": "0c7ea989-4099-46d6-9326-5a650fcb8e95",
   "metadata": {},
   "outputs": [],
   "source": [
    "ser.close()"
   ]
  },
  {
   "cell_type": "code",
   "execution_count": null,
   "id": "91f16c54-4d6f-4a14-8667-9a2be66499a8",
   "metadata": {},
   "outputs": [],
   "source": [
    "s = command_queue.status  # property, not callable\n",
    "\n",
    "# Show non-callable public attributes + their values\n",
    "attrs = {\n",
    "    name: getattr(s, name)\n",
    "    for name in dir(s)\n",
    "    if not name.startswith(\"_\") and not callable(getattr(s, name, None))\n",
    "}\n",
    "pprint(attrs)\n",
    "\n",
    "#assert attrs['is_empty'] is True"
   ]
  },
  {
   "cell_type": "code",
   "execution_count": null,
   "id": "a15e9ca4-5d01-41ea-b6f7-7596e4f1fd3c",
   "metadata": {},
   "outputs": [],
   "source": []
  },
  {
   "cell_type": "markdown",
   "id": "208d1496-5af5-4232-8858-3b09d2e4183e",
   "metadata": {
    "jp-MarkdownHeadingCollapsed": true
   },
   "source": [
    "# Using data collection module???"
   ]
  },
  {
   "cell_type": "code",
   "execution_count": null,
   "id": "885de6a1-4809-4789-bad1-b9977f90e4b1",
   "metadata": {},
   "outputs": [],
   "source": [
    "def wait_and_read_at_za(\n",
    "    controller,\n",
    "    *,\n",
    "    target_z: float = -62.0,\n",
    "    tol: float = 0.005,                 # user units (e.g., mm). Adjust to your metrology tolerance.\n",
    "    period_ms: float = 1.0,             # snapshot cadence; 0.5–2.0 ms is typical\n",
    "    signal: AxisDataSignal = AxisDataSignal.ActualPosition,\n",
    "    require_descending: bool = True,    # only trigger when moving downward through target\n",
    "    serial_port: str = \"COM4\",\n",
    "    baudrate: int = 9600,\n",
    "    sensor_cmd: bytes = b\"RMD0\\r\\n\",\n",
    "    sensor_settle_s: float = 0.02,      # small dwell for device to respond\n",
    "    read_bytes: int = 2048,\n",
    "    timeout_s: float = 5.0              # overall guard (increase if moves are slow)\n",
    "):\n",
    "    \"\"\"\n",
    "    Block until ZA ~= target_z (within tol), then perform a serial read and return (za_value, sensor_text).\n",
    "\n",
    "    Returns:\n",
    "        (za_at_trigger: float, sensor_text: str)\n",
    "    Raises:\n",
    "        TimeoutError if not reached within timeout_s.\n",
    "    \"\"\"\n",
    "    start = time.perf_counter()\n",
    "\n",
    "    # --- helper to get a single real-time ZA sample via data collection ---\n",
    "    def _sample_za() -> float:\n",
    "        cfg = DataCollectionConfiguration(number_of_points_to_collect=1, period=period_ms)\n",
    "        cfg.axis.add(signal, AxisSpecifier(\"ZA\"), 0)\n",
    "        res = controller.runtime.data_collection.collect_snapshot(cfg)\n",
    "        return float(res.axis.items[0].values[0])\n",
    "\n",
    "    # Pre-arm state for edge detection\n",
    "    last = _sample_za()\n",
    "\n",
    "    # Open serial once to avoid port churn\n",
    "    with serial.Serial(serial_port, baudrate=baudrate, timeout=1) as ser:\n",
    "        while True:\n",
    "            now = _sample_za()\n",
    "\n",
    "            # Check descending edge (above target last sample, now at/under target) if required,\n",
    "            # else accept any arrival within the tolerance window.\n",
    "            crossed = (last > target_z >= now) if require_descending else True\n",
    "            close_enough = abs(now - target_z) <= tol\n",
    "\n",
    "            if crossed and close_enough:\n",
    "                # Immediately perform the serial read at this position\n",
    "                ser.write(sensor_cmd)\n",
    "                time.sleep(sensor_settle_s)\n",
    "                sensor_text = ser.read(read_bytes).decode(\"utf-8\", errors=\"replace\").strip()\n",
    "                return now, sensor_text\n",
    "\n",
    "            if time.perf_counter() - start > timeout_s:\n",
    "                raise TimeoutError(\n",
    "                    f\"Timed out waiting for ZA≈{target_z}±{tol}. Last ZA={now:.6f}.\"\n",
    "                )\n",
    "\n",
    "            last = now\n",
    "How to use it (typical metrology touch)\n",
    "python\n",
    "Copy code\n",
    "za_at_touch, probe_reading = wait_and_read_at_za(\n",
    "    controller,\n",
    "    target_z=-62.0,\n",
    "    tol=0.005,          # tighten/loosen based on your units & sensor response time\n",
    "    period_ms=1.0,\n",
    "    require_descending=True,\n",
    "    serial_port=\"COM4\",\n",
    "    baudrate=9600,\n",
    "    sensor_cmd=b\"RMD0\\r\\n\",\n",
    "    sensor_settle_s=0.02,\n",
    "    read_bytes=2048,\n",
    "    timeout_s=8.0       # extend if motion is slow\n",
    ")\n",
    "print(f\"ZA at trigger: {za_at_touch:.6f}, gauge: {probe_reading}\")"
   ]
  },
  {
   "cell_type": "markdown",
   "id": "c472b1f3-f914-4ff8-a3ee-b0d2fa1129a5",
   "metadata": {},
   "source": [
    "# To dos:\n",
    "1. add the command to turn the digital axis on for the probe\n",
    "2. Consider if this would be faster if we didn't use the command queue and instead used waitformotion done and the command module by itself. Cus i dont think command queue really looks for wait for motion done etc.\n",
    "3. if you wanna test a dressing type of metrology then make Y a length of 7 and change the zdrop to be more shallow since you'll be wfh on Friday August 29\n",
    "4. generalize `get_program_position` args; don't like it as it stands currently"
   ]
  },
  {
   "cell_type": "code",
   "execution_count": null,
   "id": "08b932ce-b0a6-4b4a-90d9-a73f90f90488",
   "metadata": {},
   "outputs": [],
   "source": []
  }
 ],
 "metadata": {
  "kernelspec": {
   "display_name": "Python 3 (ipykernel)",
   "language": "python",
   "name": "python3"
  },
  "language_info": {
   "codemirror_mode": {
    "name": "ipython",
    "version": 3
   },
   "file_extension": ".py",
   "mimetype": "text/x-python",
   "name": "python",
   "nbconvert_exporter": "python",
   "pygments_lexer": "ipython3",
   "version": "3.11.9"
  }
 },
 "nbformat": 4,
 "nbformat_minor": 5
}
